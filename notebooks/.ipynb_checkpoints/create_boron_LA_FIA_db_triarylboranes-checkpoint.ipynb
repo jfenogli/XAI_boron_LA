{
 "cells": [
  {
   "cell_type": "markdown",
   "metadata": {},
   "source": [
    "### Startup imports"
   ]
  },
  {
   "cell_type": "code",
   "execution_count": 1,
   "metadata": {},
   "outputs": [
    {
     "name": "stderr",
     "output_type": "stream",
     "text": [
      "Skipped loading some PyTorch models, missing a dependency. No module named 'torch'\n",
      "Skipped loading modules with pytorch-geometric dependency, missing a dependency. No module named 'torch'\n",
      "Skipped loading modules with pytorch-lightning dependency, missing a dependency. No module named 'torch'\n",
      "Skipped loading some Jax models, missing a dependency. No module named 'jax'\n"
     ]
    }
   ],
   "source": [
    "import sys\n",
    "import pandas as pd\n",
    "\n",
    "from autoqchem.molecule import molecule\n",
    "from autoqchem.slurm_manager import slurm_manager\n",
    "from autoqchem.helper_classes import slurm_status\n",
    "from autoqchem.helper_classes import slurm_job\n",
    "from autoqchem.gaussian_log_extractor import gaussian_log_extractor\n",
    "from scripts.machine_learning_utils import *\n",
    "\n",
    "\n",
    "from autoqchem.draw_utils import draw\n",
    "\n",
    "from generate_smiles import *\n",
    "\n",
    "\n",
    "import os\n",
    "import re\n",
    "\n",
    "import logging\n",
    "logging.basicConfig(level=logging.INFO)"
   ]
  },
  {
   "cell_type": "markdown",
   "metadata": {},
   "source": [
    "### Connect to the cluster"
   ]
  },
  {
   "cell_type": "code",
   "execution_count": 2,
   "metadata": {},
   "outputs": [
    {
     "name": "stderr",
     "output_type": "stream",
     "text": [
      "INFO:autoqchem.slurm_manager:Creating connection to jean-zay.idris.fr as uuo83ic\n",
      "INFO:paramiko.transport:Connected (version 2.0, client OpenSSH_8.0)\n",
      "INFO:paramiko.transport:Authentication (password) successful!\n",
      "INFO:autoqchem.slurm_manager:Connected to jean-zay.idris.fr as uuo83ic.\n"
     ]
    }
   ],
   "source": [
    "#Enter your username\n",
    "from autoqchem.slurm_manager import slurm_manager\n",
    "import logging\n",
    "logging.basicConfig(level=logging.INFO)\n",
    "\n",
    "sm=slurm_manager(user='uuo83ic', host='jean-zay.idris.fr', file_name='triarylboranes')\n",
    "\n",
    "# Your password can be written in slurm_manager.py\n",
    "\n",
    "sm.connect()\n"
   ]
  },
  {
   "cell_type": "markdown",
   "metadata": {},
   "source": [
    "### Provide some smiles string(s)\n"
   ]
  },
  {
   "cell_type": "code",
   "execution_count": 3,
   "metadata": {},
   "outputs": [],
   "source": [
    "smi_already_run=[]\n",
    "\n",
    "jobs_dict = sm.get_jobs()\n",
    "for key in jobs_dict.keys():    \n",
    "    can = jobs_dict[key].can\n",
    "    smi_already_run.append(can)\n",
    "    #mol  = Chem.MolFromSmiles(can)\n",
    "    #smi = Chem.MolToSmiles(mol)\n",
    "    #smi_already_run.append(smi)\n",
    "  "
   ]
  },
  {
   "cell_type": "code",
   "execution_count": 4,
   "metadata": {
    "scrolled": false
   },
   "outputs": [
    {
     "data": {
      "image/png": "[encoded data removed]",
      "text/plain": [
       "<rdkit.Chem.rdchem.Mol at 0x7fb39d240660>"
      ]
     },
     "execution_count": 4,
     "metadata": {},
     "output_type": "execute_result"
    }
   ],
   "source": [
    "#os.chdir('C:\\\\Users\\\\Juliette\\\\Desktop\\\\FIA\\\\')\n",
    "\n",
    "smi_base = 'C1(*)=C(*)C(*)=C(*)C(*)=C1B(C2=C(*)C(*)=C(*)C(*)=C2*)C3=C(*)C(*)=C(*)C(*)=C3*'\n",
    "mol = Chem.MolFromSmiles(smi_base)\n",
    "#Chem.Draw.MolToFile(mol, filename='C:\\\\Users\\\\Juliette\\\\Desktop\\\\FIA\\\\template_molecule.png', size=(600,600))\n",
    "\n",
    "Chem.MolFromSmiles(smi_base)\n"
   ]
  },
  {
   "cell_type": "code",
   "execution_count": 5,
   "metadata": {},
   "outputs": [
    {
     "name": "stdout",
     "output_type": "stream",
     "text": [
      "[3, 21, 33, 51, 58, 76]\n",
      "[8, 17, 37, 46, 62, 71]\n",
      "[12, 42, 67]\n"
     ]
    }
   ],
   "source": [
    "smi = 'C1(F)=C(I)C(*)=C(I)C(F)=C1B(C2=C(F)C(I)=C(*)C(I)=C2F)C3=C(F)C(I)=C(*)C(I)=C3F'\n",
    "\n",
    "L_F = []\n",
    "L_I = []\n",
    "L_s = []\n",
    "\n",
    "for i, carac in enumerate(list(smi)):\n",
    "    if carac == \"F\":\n",
    "        L_F.append(i)\n",
    "    if carac == \"I\":\n",
    "        L_I.append(i)\n",
    "    if carac == '*':\n",
    "        L_s.append(i)\n",
    "        \n",
    "print(L_F)\n",
    "print(L_I)\n",
    "print(L_s)"
   ]
  },
  {
   "cell_type": "code",
   "execution_count": 13,
   "metadata": {},
   "outputs": [],
   "source": [
    "def generate_boronics(N, smi_already_run, smi_base):\n",
    "        \n",
    "    \"\"\" smi_base = SMILES de structure de base avec les liaisons à compléter \n",
    "        frags = liste de SMILES pour les potentiels fragments à rajouter \n",
    "        N = nombre de SMILES à générer\n",
    "        smi_already_run : liste de SMILES déjà calculés\n",
    "        retourne une liste de SMILES \"\"\"\n",
    "    \n",
    "    frags = ['N', 'O', 'Cl', 'F', 'Br', 'C', 'OC', 'N(C)C', '[H]','[H]','[H]','[H]','[H]','[H]','[H]','[H]','[H]','[H]',\"C#N\", \"C(C)(C)C\", \"C(F)(F)F\",\"[N+]([O-])=O\"]\n",
    "    \n",
    "    if smi_base == 'C1(*)=C(*)C(*)=C(*)C(*)=C1B(C2=C(*)C(*)=C(*)C(*)=C2*)C3=C(*)C(*)=C(*)C(*)=C3*':\n",
    "        boronics_smi = []\n",
    "        p = 0\n",
    "        while p < N :\n",
    "            L = list(smi_base)\n",
    "            #frag = frags[np.random.randint(0, high=len(frags), size=None)]\n",
    "            indexes = [3, 21, 33, 51, 58, 76]\n",
    "            for i in indexes :\n",
    "                \n",
    "                L[i] = '[H]'\n",
    "            frag = frags[np.random.randint(0, high=len(frags), size=None)]\n",
    "            indexes = [8, 17, 37, 46, 62, 71]\n",
    "            for i in indexes :\n",
    "                L[i] = frag\n",
    "            frag = frags[np.random.randint(0, high=len(frags), size=None)]\n",
    "            indexes = [12, 42, 67]\n",
    "            for i in indexes :\n",
    "                L[i] = frag\n",
    "            \n",
    "            new_L = \"\".join(L)\n",
    "            #print(new_L)\n",
    "            try : \n",
    "                mol  = Chem.MolFromSmiles(new_L)    \n",
    "                smi = Chem.MolToSmiles(mol)               \n",
    "                if (smi not in boronics_smi) and (smi not in smi_already_run):\n",
    "                    boronics_smi.append(smi)\n",
    "                    p += 1\n",
    "            except :\n",
    "                print(new_L)\n",
    "                p = p \n",
    "        return boronics_smi"
   ]
  },
  {
   "cell_type": "code",
   "execution_count": 52,
   "metadata": {},
   "outputs": [],
   "source": [
    "df_kmeans = pd.read_csv('csv/triarylboranes_100_kmeans.csv')"
   ]
  },
  {
   "cell_type": "code",
   "execution_count": 59,
   "metadata": {},
   "outputs": [],
   "source": [
    "smi_not_F = df_kmeans.SMILES[75:]"
   ]
  },
  {
   "cell_type": "code",
   "execution_count": null,
   "metadata": {
    "scrolled": false
   },
   "outputs": [],
   "source": [
    "mols = [Chem.MolFromSmiles(smi) for smi in smi_not_F]\n",
    "mols_F = get_fluoride_adduct(mols)\n",
    "smi_F = [Chem.MolToSmiles(mol) for mol in mols_F]\n",
    "Chem.Draw.MolsToGridImage(mols)"
   ]
  },
  {
   "cell_type": "code",
   "execution_count": 62,
   "metadata": {},
   "outputs": [],
   "source": [
    "smi_not_F=list(smi_not_F)\n",
    "smi_F = list(smi_F)"
   ]
  },
  {
   "cell_type": "code",
   "execution_count": 15,
   "metadata": {},
   "outputs": [],
   "source": [
    "smi_to_run = ['Cc1c(Cl)c(C(C)(C)C)c(B(c2c(C(C)(C)C)c(Cl)c(C)c(Cl)c2C(C)(C)C)c2c(C(C)(C)C)c(Cl)c(C)c(Cl)c2C(C)(C)C)c(C(C)(C)C)c1Cl',\n",
    " 'Cc1c(Br)c(C(C)(C)C)c(B(c2c(C(C)(C)C)c(Br)c(C)c(Br)c2C(C)(C)C)c2c(C(C)(C)C)c(Br)c(C)c(Br)c2C(C)(C)C)c(C(C)(C)C)c1Br',\n",
    " 'Cc1cc(C(C)(C)C)c(B(c2c(C(C)(C)C)cc(C)cc2C(C)(C)C)c2c(C(C)(C)C)cc(C)cc2C(C)(C)C)c(C(C)(C)C)c1',\n",
    " 'Cc1c(C(C)(C)C)c(C(C)(C)C)c(B(c2c(C(C)(C)C)c(C(C)(C)C)c(C)c(C(C)(C)C)c2C(C)(C)C)c2c(C(C)(C)C)c(C(C)(C)C)c(C)c(C(C)(C)C)c2C(C)(C)C)c(C(C)(C)C)c1C(C)(C)C',\n",
    " 'Cc1c(C(F)(F)F)c(C(C)(C)C)c(B(c2c(C(C)(C)C)c(C(F)(F)F)c(C)c(C(F)(F)F)c2C(C)(C)C)c2c(C(C)(C)C)c(C(F)(F)F)c(C)c(C(F)(F)F)c2C(C)(C)C)c(C(C)(C)C)c1C(F)(F)F', 'Cc1c(Cl)c(C(C)(C)C)c([B-](F)(c2c(C(C)(C)C)c(Cl)c(C)c(Cl)c2C(C)(C)C)c2c(C(C)(C)C)c(Cl)c(C)c(Cl)c2C(C)(C)C)c(C(C)(C)C)c1Cl',\n",
    " 'Cc1c(Br)c(C(C)(C)C)c([B-](F)(c2c(C(C)(C)C)c(Br)c(C)c(Br)c2C(C)(C)C)c2c(C(C)(C)C)c(Br)c(C)c(Br)c2C(C)(C)C)c(C(C)(C)C)c1Br',\n",
    " 'Cc1c(C#N)c(C(C)(C)C)c([B-](F)(c2c(C(C)(C)C)c(C#N)c(C)c(C#N)c2C(C)(C)C)c2c(C(C)(C)C)c(C#N)c(C)c(C#N)c2C(C)(C)C)c(C(C)(C)C)c1C#N',\n",
    " 'Cc1c(C(C)(C)C)c(C(C)(C)C)c([B-](F)(c2c(C(C)(C)C)c(C(C)(C)C)c(C)c(C(C)(C)C)c2C(C)(C)C)c2c(C(C)(C)C)c(C(C)(C)C)c(C)c(C(C)(C)C)c2C(C)(C)C)c(C(C)(C)C)c1C(C)(C)C',\n",
    " 'Cc1c(C(F)(F)F)c(C(C)(C)C)c([B-](F)(c2c(C(C)(C)C)c(C(F)(F)F)c(C)c(C(F)(F)F)c2C(C)(C)C)c2c(C(C)(C)C)c(C(F)(F)F)c(C)c(C(F)(F)F)c2C(C)(C)C)c(C(C)(C)C)c1C(F)(F)F'] "
   ]
  },
  {
   "cell_type": "code",
   "execution_count": 31,
   "metadata": {},
   "outputs": [
    {
     "data": {
      "image/png": "[encoded data removed]",
      "text/plain": [
       "<IPython.core.display.Image object>"
      ]
     },
     "execution_count": 31,
     "metadata": {},
     "output_type": "execute_result"
    }
   ],
   "source": [
    "draw_molecules(smi_to_run)"
   ]
  },
  {
   "cell_type": "markdown",
   "metadata": {},
   "source": [
    "### Initialize the molecules and generate conformations\n",
    "\n",
    "We will use some ```for``` loops to loop over the smiles"
   ]
  },
  {
   "cell_type": "code",
   "execution_count": null,
   "metadata": {},
   "outputs": [],
   "source": [
    "mols_to_run = []\n",
    "\n",
    "for i in range(len(smi_not_F)):\n",
    "    mol = molecule(smi_not_F[i], num_conf=1)\n",
    "    mol_F = molecule(smi_F[i], num_conf=1)\n",
    "    mols_to_run.append(mol)\n",
    "    mols_to_run.append(mol_F)    "
   ]
  },
  {
   "cell_type": "code",
   "execution_count": 16,
   "metadata": {},
   "outputs": [],
   "source": [
    "mols_to_run = []\n",
    "for smi in smi_to_run : \n",
    "    mols_to_run.append(molecule(smi, num_conf=1))"
   ]
  },
  {
   "cell_type": "markdown",
   "metadata": {},
   "source": [
    "Draw some molecules\n",
    "\n",
    "Here you can see that the starting conformers are not optimized, which may cause some Gaussian geometry optimizations to crash"
   ]
  },
  {
   "cell_type": "code",
   "execution_count": 29,
   "metadata": {
    "scrolled": true
   },
   "outputs": [
    {
     "data": {
      "application/vnd.jupyter.widget-view+json": {
       "model_id": "23451675ddf1441ba12be8e04dc5d182",
       "version_major": 2,
       "version_minor": 0
      },
      "text/plain": [
       "interactive(children=(Dropdown(description='confId', options=(0,), value=0), Output()), _dom_classes=('widget-…"
      ]
     },
     "metadata": {},
     "output_type": "display_data"
    },
    {
     "data": {
      "text/plain": [
       "<function autoqchem.draw_utils._graph_conf(m, confId=0, energies=[])>"
      ]
     },
     "execution_count": 29,
     "metadata": {},
     "output_type": "execute_result"
    }
   ],
   "source": [
    "draw(mols_to_run[18].mol)"
   ]
  },
  {
   "cell_type": "markdown",
   "metadata": {},
   "source": [
    "### Create gaussian jobs for each conformation"
   ]
  },
  {
   "cell_type": "code",
   "execution_count": 12,
   "metadata": {
    "scrolled": true
   },
   "outputs": [
    {
     "name": "stderr",
     "output_type": "stream",
     "text": [
      "INFO:autoqchem.gaussian_input_generator:Generating Gaussian input files for 0 conformations.\n",
      "INFO:autoqchem.gaussian_input_generator:Generating Gaussian input files for 0 conformations.\n",
      "INFO:autoqchem.gaussian_input_generator:Generating Gaussian input files for 0 conformations.\n",
      "INFO:autoqchem.gaussian_input_generator:Generating Gaussian input files for 1 conformations.\n",
      "INFO:autoqchem.gaussian_input_generator:Generating Gaussian input files for 0 conformations.\n",
      "INFO:autoqchem.gaussian_input_generator:Generating Gaussian input files for 0 conformations.\n",
      "INFO:autoqchem.gaussian_input_generator:Generating Gaussian input files for 0 conformations.\n",
      "INFO:autoqchem.gaussian_input_generator:Generating Gaussian input files for 0 conformations.\n",
      "INFO:autoqchem.gaussian_input_generator:Generating Gaussian input files for 1 conformations.\n",
      "INFO:autoqchem.gaussian_input_generator:Generating Gaussian input files for 0 conformations.\n",
      "INFO:autoqchem.gaussian_input_generator:Generating Gaussian input files for 0 conformations.\n",
      "INFO:autoqchem.gaussian_input_generator:Generating Gaussian input files for 0 conformations.\n"
     ]
    }
   ],
   "source": [
    "for mol in mols_to_run:\n",
    "    sm.create_jobs_for_molecule(mol, workflow_type=\"equilibrium\")"
   ]
  },
  {
   "cell_type": "markdown",
   "metadata": {},
   "source": [
    "les 12 premiers n'ont pas de conformation"
   ]
  },
  {
   "cell_type": "code",
   "execution_count": 65,
   "metadata": {
    "scrolled": true
   },
   "outputs": [
    {
     "data": {
      "text/plain": [
       "['Cc1c(Cl)c(C(C)(C)C)c(B(c2c(C(C)(C)C)c(Cl)c(C)c(Cl)c2C(C)(C)C)c2c(C(C)(C)C)c(Cl)c(C)c(Cl)c2C(C)(C)C)c(C(C)(C)C)c1Cl',\n",
       " 'Cc1c(Br)c(C(C)(C)C)c(B(c2c(C(C)(C)C)c(Br)c(C)c(Br)c2C(C)(C)C)c2c(C(C)(C)C)c(Br)c(C)c(Br)c2C(C)(C)C)c(C(C)(C)C)c1Br',\n",
       " 'Cc1cc(C(C)(C)C)c(B(c2c(C(C)(C)C)cc(C)cc2C(C)(C)C)c2c(C(C)(C)C)cc(C)cc2C(C)(C)C)c(C(C)(C)C)c1',\n",
       " 'Cc1c(C#N)c(C(C)(C)C)c(B(c2c(C(C)(C)C)c(C#N)c(C)c(C#N)c2C(C)(C)C)c2c(C(C)(C)C)c(C#N)c(C)c(C#N)c2C(C)(C)C)c(C(C)(C)C)c1C#N',\n",
       " 'Cc1c(C(C)(C)C)c(C(C)(C)C)c(B(c2c(C(C)(C)C)c(C(C)(C)C)c(C)c(C(C)(C)C)c2C(C)(C)C)c2c(C(C)(C)C)c(C(C)(C)C)c(C)c(C(C)(C)C)c2C(C)(C)C)c(C(C)(C)C)c1C(C)(C)C',\n",
       " 'Cc1c(C(F)(F)F)c(C(C)(C)C)c(B(c2c(C(C)(C)C)c(C(F)(F)F)c(C)c(C(F)(F)F)c2C(C)(C)C)c2c(C(C)(C)C)c(C(F)(F)F)c(C)c(C(F)(F)F)c2C(C)(C)C)c(C(C)(C)C)c1C(F)(F)F']"
      ]
     },
     "execution_count": 65,
     "metadata": {},
     "output_type": "execute_result"
    }
   ],
   "source": [
    "smi_not_F[:6]"
   ]
  },
  {
   "cell_type": "code",
   "execution_count": 66,
   "metadata": {},
   "outputs": [
    {
     "data": {
      "text/plain": [
       "['Cc1c(Cl)c(C(C)(C)C)c([B-](F)(c2c(C(C)(C)C)c(Cl)c(C)c(Cl)c2C(C)(C)C)c2c(C(C)(C)C)c(Cl)c(C)c(Cl)c2C(C)(C)C)c(C(C)(C)C)c1Cl',\n",
       " 'Cc1c(Br)c(C(C)(C)C)c([B-](F)(c2c(C(C)(C)C)c(Br)c(C)c(Br)c2C(C)(C)C)c2c(C(C)(C)C)c(Br)c(C)c(Br)c2C(C)(C)C)c(C(C)(C)C)c1Br',\n",
       " 'Cc1cc(C(C)(C)C)c([B-](F)(c2c(C(C)(C)C)cc(C)cc2C(C)(C)C)c2c(C(C)(C)C)cc(C)cc2C(C)(C)C)c(C(C)(C)C)c1',\n",
       " 'Cc1c(C#N)c(C(C)(C)C)c([B-](F)(c2c(C(C)(C)C)c(C#N)c(C)c(C#N)c2C(C)(C)C)c2c(C(C)(C)C)c(C#N)c(C)c(C#N)c2C(C)(C)C)c(C(C)(C)C)c1C#N',\n",
       " 'Cc1c(C(C)(C)C)c(C(C)(C)C)c([B-](F)(c2c(C(C)(C)C)c(C(C)(C)C)c(C)c(C(C)(C)C)c2C(C)(C)C)c2c(C(C)(C)C)c(C(C)(C)C)c(C)c(C(C)(C)C)c2C(C)(C)C)c(C(C)(C)C)c1C(C)(C)C',\n",
       " 'Cc1c(C(F)(F)F)c(C(C)(C)C)c([B-](F)(c2c(C(C)(C)C)c(C(F)(F)F)c(C)c(C(F)(F)F)c2C(C)(C)C)c2c(C(C)(C)C)c(C(F)(F)F)c(C)c(C(F)(F)F)c2C(C)(C)C)c(C(C)(C)C)c1C(F)(F)F']"
      ]
     },
     "execution_count": 66,
     "metadata": {},
     "output_type": "execute_result"
    }
   ],
   "source": [
    "smi_F[:6]"
   ]
  },
  {
   "cell_type": "code",
   "execution_count": 40,
   "metadata": {},
   "outputs": [
    {
     "name": "stderr",
     "output_type": "stream",
     "text": [
      "INFO:autoqchem.gaussian_input_generator:Generating Gaussian input files for 0 conformations.\n",
      "INFO:autoqchem.gaussian_input_generator:Generating Gaussian input files for 0 conformations.\n",
      "INFO:autoqchem.gaussian_input_generator:Generating Gaussian input files for 0 conformations.\n",
      "INFO:autoqchem.gaussian_input_generator:Generating Gaussian input files for 0 conformations.\n",
      "INFO:autoqchem.gaussian_input_generator:Generating Gaussian input files for 0 conformations.\n",
      "INFO:autoqchem.gaussian_input_generator:Generating Gaussian input files for 0 conformations.\n",
      "INFO:autoqchem.gaussian_input_generator:Generating Gaussian input files for 0 conformations.\n"
     ]
    }
   ],
   "source": [
    "to_recreate = [0, 4, 5, 46, 47, 48, 49]\n",
    "for i in to_recreate :\n",
    "    sm.create_jobs_for_molecule(mols_to_run[i], workflow_type =\"equilibrium\")"
   ]
  },
  {
   "cell_type": "code",
   "execution_count": 42,
   "metadata": {},
   "outputs": [
    {
     "name": "stderr",
     "output_type": "stream",
     "text": [
      "INFO:autoqchem.gaussian_input_generator:Generating Gaussian input files for 0 conformations.\n"
     ]
    }
   ],
   "source": [
    "sm.create_jobs_for_molecule(mols_to_run[0], workflow_type =\"equilibrium\")"
   ]
  },
  {
   "cell_type": "code",
   "execution_count": 3,
   "metadata": {
    "scrolled": false
   },
   "outputs": [
    {
     "data": {
      "text/html": [
       "<div>\n",
       "<style scoped>\n",
       "    .dataframe tbody tr th:only-of-type {\n",
       "        vertical-align: middle;\n",
       "    }\n",
       "\n",
       "    .dataframe tbody tr th {\n",
       "        vertical-align: top;\n",
       "    }\n",
       "\n",
       "    .dataframe thead th {\n",
       "        text-align: right;\n",
       "    }\n",
       "</style>\n",
       "<table border=\"1\" class=\"dataframe\">\n",
       "  <thead>\n",
       "    <tr style=\"text-align: right;\">\n",
       "      <th>status</th>\n",
       "      <th>done</th>\n",
       "      <th>duplicate</th>\n",
       "      <th>failed</th>\n",
       "      <th>incomplete</th>\n",
       "      <th>uploaded</th>\n",
       "    </tr>\n",
       "  </thead>\n",
       "  <tbody>\n",
       "    <tr>\n",
       "      <th>jobs</th>\n",
       "      <td>3</td>\n",
       "      <td>2</td>\n",
       "      <td>4</td>\n",
       "      <td>11</td>\n",
       "      <td>385</td>\n",
       "    </tr>\n",
       "  </tbody>\n",
       "</table>\n",
       "</div>"
      ],
      "text/plain": [
       "status  done  duplicate  failed  incomplete  uploaded\n",
       "jobs       3          2       4          11       385"
      ]
     },
     "execution_count": 3,
     "metadata": {},
     "output_type": "execute_result"
    }
   ],
   "source": [
    "sm.get_job_stats(split_by_can=False)"
   ]
  },
  {
   "cell_type": "markdown",
   "metadata": {},
   "source": [
    "### Remove Jobs"
   ]
  },
  {
   "cell_type": "code",
   "execution_count": 21,
   "metadata": {
    "scrolled": true
   },
   "outputs": [
    {
     "data": {
      "image/png": "[encoded data removed]",
      "text/plain": [
       "<IPython.core.display.Image object>"
      ]
     },
     "execution_count": 21,
     "metadata": {},
     "output_type": "execute_result"
    }
   ],
   "source": [
    "jobs_dict = sm.get_jobs()\n",
    "smiles = [job.can for job in jobs_dict.values()]\n",
    "mols = [Chem.MolFromSmiles(smi) for smi in smiles]\n",
    "names = [job.base_name for job in jobs_dict.values()]\n",
    "Chem.Draw.MolsToGridImage(mols, subImgSize=(350,250), legends = names)"
   ]
  },
  {
   "cell_type": "code",
   "execution_count": 30,
   "metadata": {},
   "outputs": [],
   "source": [
    "smiles_to_rm = smi_to_rm"
   ]
  },
  {
   "cell_type": "code",
   "execution_count": 31,
   "metadata": {},
   "outputs": [],
   "source": [
    "for smi in smiles_to_rm :\n",
    "    sm.remove_jobs(sm.get_jobs(can=smi))\n",
    "    "
   ]
  },
  {
   "cell_type": "markdown",
   "metadata": {},
   "source": [
    "### Submit the jobs to the server \n"
   ]
  },
  {
   "cell_type": "code",
   "execution_count": 14,
   "metadata": {
    "scrolled": true
   },
   "outputs": [
    {
     "name": "stderr",
     "output_type": "stream",
     "text": [
      "INFO:autoqchem.slurm_manager:Submitting 2 jobs.\n",
      "INFO:paramiko.transport.sftp:[chan 2] Opened sftp connection (server version 3)\n"
     ]
    },
    {
     "name": "stdout",
     "output_type": "stream",
     "text": [
      "Submitted batch job 25421\n"
     ]
    },
    {
     "name": "stderr",
     "output_type": "stream",
     "text": [
      "INFO:autoqchem.slurm_manager:Submitted job e485e6564976cc4867750a5932d72788, job_id: 25421.\n"
     ]
    },
    {
     "name": "stdout",
     "output_type": "stream",
     "text": [
      "Submitted batch job 25422\n"
     ]
    },
    {
     "name": "stderr",
     "output_type": "stream",
     "text": [
      "INFO:autoqchem.slurm_manager:Submitted job b67ae258eb07ee2aa35aeb92d29e7d36, job_id: 25422.\n"
     ]
    }
   ],
   "source": [
    "sm.submit_jobs()"
   ]
  },
  {
   "cell_type": "markdown",
   "metadata": {},
   "source": [
    "Check the status of the jobs on the server"
   ]
  },
  {
   "cell_type": "code",
   "execution_count": 34,
   "metadata": {
    "scrolled": false
   },
   "outputs": [
    {
     "data": {
      "text/html": [
       "<div>\n",
       "<style scoped>\n",
       "    .dataframe tbody tr th:only-of-type {\n",
       "        vertical-align: middle;\n",
       "    }\n",
       "\n",
       "    .dataframe tbody tr th {\n",
       "        vertical-align: top;\n",
       "    }\n",
       "\n",
       "    .dataframe thead th {\n",
       "        text-align: right;\n",
       "    }\n",
       "</style>\n",
       "<table border=\"1\" class=\"dataframe\">\n",
       "  <thead>\n",
       "    <tr style=\"text-align: right;\">\n",
       "      <th></th>\n",
       "      <th>JOBID</th>\n",
       "      <th>PARTITION</th>\n",
       "      <th>NAME</th>\n",
       "      <th>USER</th>\n",
       "      <th>ST</th>\n",
       "      <th>TIME</th>\n",
       "      <th>NODES</th>\n",
       "      <th>NODELIST(REASON)</th>\n",
       "    </tr>\n",
       "  </thead>\n",
       "  <tbody>\n",
       "    <tr>\n",
       "      <th>0</th>\n",
       "      <td>17850</td>\n",
       "      <td>cpu_p1</td>\n",
       "      <td>FXAYMGGB</td>\n",
       "      <td>uuo83ic</td>\n",
       "      <td>R</td>\n",
       "      <td>6:26:15</td>\n",
       "      <td>1</td>\n",
       "      <td>r1i0n2</td>\n",
       "    </tr>\n",
       "    <tr>\n",
       "      <th>1</th>\n",
       "      <td>17955</td>\n",
       "      <td>cpu_p1</td>\n",
       "      <td>pre_opt.</td>\n",
       "      <td>uuo83ic</td>\n",
       "      <td>R</td>\n",
       "      <td>6:21:14</td>\n",
       "      <td>1</td>\n",
       "      <td>r1i6n16</td>\n",
       "    </tr>\n",
       "    <tr>\n",
       "      <th>2</th>\n",
       "      <td>17538</td>\n",
       "      <td>cpu_p1</td>\n",
       "      <td>KVRQUYSD</td>\n",
       "      <td>uuo83ic</td>\n",
       "      <td>R</td>\n",
       "      <td>6:54:37</td>\n",
       "      <td>1</td>\n",
       "      <td>r4i2n2</td>\n",
       "    </tr>\n",
       "    <tr>\n",
       "      <th>3</th>\n",
       "      <td>17729</td>\n",
       "      <td>cpu_p1</td>\n",
       "      <td>JRKXOUHW</td>\n",
       "      <td>uuo83ic</td>\n",
       "      <td>R</td>\n",
       "      <td>6:40:28</td>\n",
       "      <td>1</td>\n",
       "      <td>r2i4n16</td>\n",
       "    </tr>\n",
       "    <tr>\n",
       "      <th>4</th>\n",
       "      <td>17568</td>\n",
       "      <td>cpu_p1</td>\n",
       "      <td>XQNVXDNE</td>\n",
       "      <td>uuo83ic</td>\n",
       "      <td>R</td>\n",
       "      <td>6:52:36</td>\n",
       "      <td>1</td>\n",
       "      <td>r1i1n0</td>\n",
       "    </tr>\n",
       "    <tr>\n",
       "      <th>5</th>\n",
       "      <td>18232</td>\n",
       "      <td>cpu_p1</td>\n",
       "      <td>pre_opt.</td>\n",
       "      <td>uuo83ic</td>\n",
       "      <td>R</td>\n",
       "      <td>5:56:37</td>\n",
       "      <td>1</td>\n",
       "      <td>r2i5n20</td>\n",
       "    </tr>\n",
       "    <tr>\n",
       "      <th>6</th>\n",
       "      <td>18132</td>\n",
       "      <td>cpu_p1</td>\n",
       "      <td>FGDKROOW</td>\n",
       "      <td>uuo83ic</td>\n",
       "      <td>R</td>\n",
       "      <td>6:09:10</td>\n",
       "      <td>1</td>\n",
       "      <td>r6i0n2</td>\n",
       "    </tr>\n",
       "    <tr>\n",
       "      <th>7</th>\n",
       "      <td>18152</td>\n",
       "      <td>cpu_p1</td>\n",
       "      <td>WPUBJZQB</td>\n",
       "      <td>uuo83ic</td>\n",
       "      <td>R</td>\n",
       "      <td>6:08:10</td>\n",
       "      <td>1</td>\n",
       "      <td>r5i7n12</td>\n",
       "    </tr>\n",
       "    <tr>\n",
       "      <th>8</th>\n",
       "      <td>25083</td>\n",
       "      <td>cpu_p1</td>\n",
       "      <td>pre_opt.</td>\n",
       "      <td>uuo83ic</td>\n",
       "      <td>R</td>\n",
       "      <td>4:27:38</td>\n",
       "      <td>1</td>\n",
       "      <td>r1i6n16</td>\n",
       "    </tr>\n",
       "    <tr>\n",
       "      <th>9</th>\n",
       "      <td>25355</td>\n",
       "      <td>cpu_p1</td>\n",
       "      <td>XVFZNTFC</td>\n",
       "      <td>uuo83ic</td>\n",
       "      <td>R</td>\n",
       "      <td>3:58:10</td>\n",
       "      <td>1</td>\n",
       "      <td>r2i2n21</td>\n",
       "    </tr>\n",
       "    <tr>\n",
       "      <th>10</th>\n",
       "      <td>25303</td>\n",
       "      <td>cpu_p1</td>\n",
       "      <td>HZVZNGZJ</td>\n",
       "      <td>uuo83ic</td>\n",
       "      <td>R</td>\n",
       "      <td>4:01:14</td>\n",
       "      <td>1</td>\n",
       "      <td>r4i5n6</td>\n",
       "    </tr>\n",
       "    <tr>\n",
       "      <th>11</th>\n",
       "      <td>25276</td>\n",
       "      <td>cpu_p1</td>\n",
       "      <td>XFZVNZZT</td>\n",
       "      <td>uuo83ic</td>\n",
       "      <td>R</td>\n",
       "      <td>4:02:49</td>\n",
       "      <td>1</td>\n",
       "      <td>r6i0n2</td>\n",
       "    </tr>\n",
       "    <tr>\n",
       "      <th>12</th>\n",
       "      <td>25263</td>\n",
       "      <td>cpu_p1</td>\n",
       "      <td>YHRXUTGP</td>\n",
       "      <td>uuo83ic</td>\n",
       "      <td>R</td>\n",
       "      <td>4:06:26</td>\n",
       "      <td>1</td>\n",
       "      <td>r1i0n7</td>\n",
       "    </tr>\n",
       "  </tbody>\n",
       "</table>\n",
       "</div>"
      ],
      "text/plain": [
       "    JOBID PARTITION      NAME     USER ST     TIME NODES NODELIST(REASON)\n",
       "0   17850    cpu_p1  FXAYMGGB  uuo83ic  R  6:26:15     1           r1i0n2\n",
       "1   17955    cpu_p1  pre_opt.  uuo83ic  R  6:21:14     1          r1i6n16\n",
       "2   17538    cpu_p1  KVRQUYSD  uuo83ic  R  6:54:37     1           r4i2n2\n",
       "3   17729    cpu_p1  JRKXOUHW  uuo83ic  R  6:40:28     1          r2i4n16\n",
       "4   17568    cpu_p1  XQNVXDNE  uuo83ic  R  6:52:36     1           r1i1n0\n",
       "5   18232    cpu_p1  pre_opt.  uuo83ic  R  5:56:37     1          r2i5n20\n",
       "6   18132    cpu_p1  FGDKROOW  uuo83ic  R  6:09:10     1           r6i0n2\n",
       "7   18152    cpu_p1  WPUBJZQB  uuo83ic  R  6:08:10     1          r5i7n12\n",
       "8   25083    cpu_p1  pre_opt.  uuo83ic  R  4:27:38     1          r1i6n16\n",
       "9   25355    cpu_p1  XVFZNTFC  uuo83ic  R  3:58:10     1          r2i2n21\n",
       "10  25303    cpu_p1  HZVZNGZJ  uuo83ic  R  4:01:14     1           r4i5n6\n",
       "11  25276    cpu_p1  XFZVNZZT  uuo83ic  R  4:02:49     1           r6i0n2\n",
       "12  25263    cpu_p1  YHRXUTGP  uuo83ic  R  4:06:26     1           r1i0n7"
      ]
     },
     "execution_count": 34,
     "metadata": {},
     "output_type": "execute_result"
    }
   ],
   "source": [
    "sm.squeue(summary=False)"
   ]
  },
  {
   "cell_type": "code",
   "execution_count": 14,
   "metadata": {
    "scrolled": true
   },
   "outputs": [
    {
     "data": {
      "text/html": [
       "<div>\n",
       "<style scoped>\n",
       "    .dataframe tbody tr th:only-of-type {\n",
       "        vertical-align: middle;\n",
       "    }\n",
       "\n",
       "    .dataframe tbody tr th {\n",
       "        vertical-align: top;\n",
       "    }\n",
       "\n",
       "    .dataframe thead th {\n",
       "        text-align: right;\n",
       "    }\n",
       "</style>\n",
       "<table border=\"1\" class=\"dataframe\">\n",
       "  <thead>\n",
       "    <tr style=\"text-align: right;\">\n",
       "      <th>status</th>\n",
       "      <th>done</th>\n",
       "      <th>duplicate</th>\n",
       "      <th>failed</th>\n",
       "      <th>incomplete</th>\n",
       "      <th>uploaded</th>\n",
       "    </tr>\n",
       "  </thead>\n",
       "  <tbody>\n",
       "    <tr>\n",
       "      <th>jobs</th>\n",
       "      <td>1</td>\n",
       "      <td>2</td>\n",
       "      <td>9</td>\n",
       "      <td>6</td>\n",
       "      <td>389</td>\n",
       "    </tr>\n",
       "  </tbody>\n",
       "</table>\n",
       "</div>"
      ],
      "text/plain": [
       "status  done  duplicate  failed  incomplete  uploaded\n",
       "jobs       1          2       9           6       389"
      ]
     },
     "execution_count": 14,
     "metadata": {},
     "output_type": "execute_result"
    }
   ],
   "source": [
    "sm.get_job_stats()"
   ]
  },
  {
   "cell_type": "markdown",
   "metadata": {},
   "source": [
    "### Retrieve jobs\n",
    "\n",
    "If there are some finished jobs the log files will be checked for completion and downloaded locally."
   ]
  },
  {
   "cell_type": "code",
   "execution_count": 10,
   "metadata": {
    "scrolled": false
   },
   "outputs": [
    {
     "name": "stderr",
     "output_type": "stream",
     "text": [
      "INFO:autoqchem.slurm_manager:There are 0 running/pending jobs, 18 finished jobs.\n",
      "INFO:autoqchem.slurm_manager:Retrieving log files of finished jobs.\n",
      "INFO:paramiko.transport.sftp:[chan 2] Opened sftp connection (server version 3)\n",
      "WARNING:autoqchem.slurm_manager:Job KVRQUYSDHBOUOI-UHFFFAOYSA-N_conf_0 failed - the log file does not contain geometry. Cannot resubmit.\n",
      "WARNING:autoqchem.slurm_manager:Job XQNVXDNEMLXGFU-UHFFFAOYSA-N_conf_0 failed - the log file does not contain geometry. Cannot resubmit.\n",
      "WARNING:autoqchem.slurm_manager:Job JRKXOUHWDJOORF-UHFFFAOYSA-N_conf_0 failed - the log file does not contain geometry. Cannot resubmit.\n",
      "INFO:autoqchem.gaussian_log_extractor:Output file does not have a 'freq' part. Cannot extract frequencies.\n",
      "WARNING:autoqchem.slurm_manager:Job XVFZNTFCBBJPRE-UHFFFAOYSA-N_conf_0 incomplete - geometry optimization did not complete.\n",
      "WARNING:autoqchem.slurm_manager:Job QPQGUMFTCNJJQQ-UHFFFAOYSA-N_conf_0 failed - the log file does not contain geometry. Cannot resubmit.\n",
      "INFO:autoqchem.gaussian_log_extractor:Output file does not have a 'freq' part. Cannot extract frequencies.\n",
      "WARNING:autoqchem.slurm_manager:Job BQEYCSWXNVENBD-UHFFFAOYSA-N_conf_0 incomplete - geometry optimization did not complete.\n",
      "INFO:autoqchem.gaussian_log_extractor:Output file does not have a 'freq' part. Cannot extract frequencies.\n",
      "WARNING:autoqchem.slurm_manager:Job SCZYRSNBTCASEG-UHFFFAOYSA-N_conf_0 incomplete - geometry optimization did not complete.\n",
      "WARNING:autoqchem.slurm_manager:Job FGDKROOWKCAKND-UHFFFAOYSA-N_conf_0 failed - the log file does not contain geometry. Cannot resubmit.\n",
      "INFO:autoqchem.gaussian_log_extractor:Output file does not have a 'freq' part. Cannot extract frequencies.\n",
      "WARNING:autoqchem.slurm_manager:Job UERFTJJISABULA-UHFFFAOYSA-N_conf_0 incomplete - geometry optimization did not complete.\n",
      "INFO:autoqchem.gaussian_log_extractor:Output file does not have a 'freq' part. Cannot extract frequencies.\n",
      "WARNING:autoqchem.slurm_manager:Job JVJAWCILMBZRNV-UHFFFAOYSA-N_conf_0 incomplete - geometry optimization did not complete.\n",
      "WARNING:autoqchem.slurm_manager:Job YHRXUTGPVFYYMY-UHFFFAOYSA-N_conf_0 failed - the log file does not contain geometry. Cannot resubmit.\n",
      "WARNING:autoqchem.slurm_manager:Job XFZVNZZTTOICQG-UHFFFAOYSA-N_conf_0 failed - the log file does not contain geometry. Cannot resubmit.\n",
      "INFO:autoqchem.gaussian_log_extractor:Output file does not have a 'freq' part. Cannot extract frequencies.\n",
      "WARNING:autoqchem.slurm_manager:Job HZVZNGZJICLQBS-UHFFFAOYSA-N_conf_0 incomplete - geometry optimization did not complete.\n",
      "WARNING:autoqchem.slurm_manager:Job OROCRHFRMVGXSC-UHFFFAOYSA-N_conf_0 failed - the log file does not contain geometry. Cannot resubmit.\n",
      "WARNING:autoqchem.slurm_manager:Job YDAYSSMMXJWQEW-UHFFFAOYSA-N_conf_0 failed - the log file does not contain geometry. Cannot resubmit.\n",
      "INFO:autoqchem.slurm_manager:3 jobs finished successfully (all Gaussian steps finished normally). 15 jobs failed.\n"
     ]
    }
   ],
   "source": [
    "sm.retrieve_jobs()"
   ]
  },
  {
   "cell_type": "code",
   "execution_count": 8,
   "metadata": {},
   "outputs": [],
   "source": [
    "for j in sm.get_jobs(slurm_status.incomplete).values():\n",
    "    j.status = slurm_status.submitted"
   ]
  },
  {
   "cell_type": "markdown",
   "metadata": {},
   "source": [
    "#### Check exceptions"
   ]
  },
  {
   "cell_type": "code",
   "execution_count": 23,
   "metadata": {},
   "outputs": [
    {
     "name": "stdout",
     "output_type": "stream",
     "text": [
      "XQNVXDNEMLXGFU-UHFFFAOYSA-N_conf_0\n"
     ]
    },
    {
     "name": "stderr",
     "output_type": "stream",
     "text": [
      "INFO:autoqchem.gaussian_log_extractor:Output file does not have a 'freq' part. Cannot extract frequencies.\n"
     ]
    },
    {
     "name": "stdout",
     "output_type": "stream",
     "text": [
      "XVFZNTFCBBJPRE-UHFFFAOYSA-N_conf_0\n",
      "BQEYCSWXNVENBD-UHFFFAOYSA-N_conf_0\n"
     ]
    },
    {
     "name": "stderr",
     "output_type": "stream",
     "text": [
      "INFO:autoqchem.gaussian_log_extractor:Output file does not have a 'freq' part. Cannot extract frequencies.\n"
     ]
    },
    {
     "name": "stdout",
     "output_type": "stream",
     "text": [
      "FRQGIANXVLIETL-UHFFFAOYSA-N_conf_0\n",
      "ADWRAMMLCILJIZ-UHFFFAOYSA-N_conf_0\n"
     ]
    }
   ],
   "source": [
    "for job in sm.get_jobs(slurm_status.incomplete).values() :\n",
    "    print(job.base_name)\n",
    "    log_file = sm.connection.get(f\"{job.remote_dir}/{job.base_name}.log\",\n",
    "                                           local=f\"{job.directory}/{job.base_name}.log\")\n",
    "    gle = gaussian_log_extractor(log_file.local)\n",
    "    try : \n",
    "        gle.check_for_exceptions()\n",
    "    except :\n",
    "        pass"
   ]
  },
  {
   "cell_type": "code",
   "execution_count": null,
   "metadata": {
    "scrolled": true
   },
   "outputs": [],
   "source": [
    "smiles_failed = [ job.can for job in sm.get_jobs(slurm_status.incomplete).values()]\n",
    "names = [job.base_name for job in sm.get_jobs(slurm_status.incomplete).values()]\n",
    "mols_failed = [Chem.MolFromSmiles(smi) for smi in smiles_failed]\n",
    "Chem.Draw.MolsToGridImage(mols_failed, legends = names)"
   ]
  },
  {
   "cell_type": "code",
   "execution_count": 29,
   "metadata": {},
   "outputs": [
    {
     "data": {
      "text/plain": [
       "{'b88b7a52cdfbf62a316c8aa85a95eab7': slurm_job(can='COc1c(B(c2c(OC)c(C(F)(F)F)c(C)c(C(F)(F)F)c2OC)c2c(OC)c(C(F)(F)F)c(C)c(C(F)(F)F)c2OC)c(OC)c(C(F)(F)F)c(C)c1C(F)(F)F', inchi='InChI=1S/C33H27BF18O6/c1-10-13(28(35,36)37)22(53-4)19(23(54-5)14(10)29(38,39)40)34(20-24(55-6)15(30(41,42)43)11(2)16(25(20)56-7)31(44,45)46)21-26(57-8)17(32(47,48)49)12(3)18(27(21)58-9)33(50,51)52/h1-9H3', inchikey='XVFZNTFCBBJPRE-UHFFFAOYSA-N', elements=['C', 'O', 'C', 'C', 'B', 'C', 'C', 'O', 'C', 'C', 'C', 'F', 'F', 'F', 'C', 'C', 'C', 'C', 'F', 'F', 'F', 'C', 'O', 'C', 'C', 'C', 'O', 'C', 'C', 'C', 'F', 'F', 'F', 'C', 'C', 'C', 'C', 'F', 'F', 'F', 'C', 'O', 'C', 'C', 'O', 'C', 'C', 'C', 'F', 'F', 'F', 'C', 'C', 'C', 'C', 'F', 'F', 'F', 'H', 'H', 'H', 'H', 'H', 'H', 'H', 'H', 'H', 'H', 'H', 'H', 'H', 'H', 'H', 'H', 'H', 'H', 'H', 'H', 'H', 'H', 'H', 'H', 'H', 'H', 'H'], charges=array([0, 0, 0, 0, 0, 0, 0, 0, 0, 0, 0, 0, 0, 0, 0, 0, 0, 0, 0, 0, 0, 0,\n",
       "        0, 0, 0, 0, 0, 0, 0, 0, 0, 0, 0, 0, 0, 0, 0, 0, 0, 0, 0, 0, 0, 0,\n",
       "        0, 0, 0, 0, 0, 0, 0, 0, 0, 0, 0, 0, 0, 0, 0, 0, 0, 0, 0, 0, 0, 0,\n",
       "        0, 0, 0, 0, 0, 0, 0, 0, 0, 0, 0, 0, 0, 0, 0, 0, 0, 0, 0]), connectivity_matrix=array([[0., 1., 0., ..., 0., 0., 0.],\n",
       "        [1., 0., 1., ..., 0., 0., 0.],\n",
       "        [0., 1., 0., ..., 0., 0., 0.],\n",
       "        ...,\n",
       "        [0., 0., 0., ..., 0., 0., 0.],\n",
       "        [0., 0., 0., ..., 0., 0., 0.],\n",
       "        [0., 0., 0., ..., 0., 0., 0.]]), conformation=0, max_num_conformers=1, conformer_engine='rdkit', tasks=('opt M062X/6-31G(d) scf=(xqc,tight) integral(grid=ultrafinegrid)', 'freq M062X/6-31G(d) volume NMR pop=NPA density=current Geom=AllCheck Guess=Read integral(grid=ultrafinegrid) scf(xqc,tight)', 'TD(NStates=5, Root=1) M062X/6-31G(d) volume pop=NPA density=current Geom=AllCheck Guess=Read'), config={'theory': 'M062X', 'solvent': 'None', 'light_basis_set': '6-31G(d)', 'heavy_basis_set': 'LANL2DZ', 'generic_basis_set': 'genecp', 'max_light_atomic_number': 36}, job_id='2131468', directory='/home/jfenogli/.local/share/jean-zay/triarylboranes/XVFZNTFCBBJPRE-UHFFFAOYSA-N', remote_dir='/gpfswork/rech/ihj/uuo83ic/triarylboranes/XVFZNTFCBBJPRE-UHFFFAOYSA-N', base_name='XVFZNTFCBBJPRE-UHFFFAOYSA-N_conf_0', status=<slurm_status.incomplete: 5>, n_submissions=1, n_success_tasks=0),\n",
       " '8811c166715542a9adfbd7eb9282dcf7': slurm_job(can='Cc1c(F)c(C#N)c(B(c2c(C#N)c(F)c(C)c(F)c2C#N)c2c(C#N)c(F)c(C)c(F)c2C#N)c(C#N)c1F', inchi='InChI=1S/C27H9BF6N6/c1-10-22(29)13(4-35)19(14(5-36)23(10)30)28(20-15(6-37)24(31)11(2)25(32)16(20)7-38)21-17(8-39)26(33)12(3)27(34)18(21)9-40/h1-3H3', inchikey='BQEYCSWXNVENBD-UHFFFAOYSA-N', elements=['C', 'C', 'C', 'F', 'C', 'C', 'N', 'C', 'B', 'C', 'C', 'C', 'N', 'C', 'F', 'C', 'C', 'C', 'F', 'C', 'C', 'N', 'C', 'C', 'C', 'N', 'C', 'F', 'C', 'C', 'C', 'F', 'C', 'C', 'N', 'C', 'C', 'N', 'C', 'F', 'H', 'H', 'H', 'H', 'H', 'H', 'H', 'H', 'H'], charges=array([0, 0, 0, 0, 0, 0, 0, 0, 0, 0, 0, 0, 0, 0, 0, 0, 0, 0, 0, 0, 0, 0,\n",
       "        0, 0, 0, 0, 0, 0, 0, 0, 0, 0, 0, 0, 0, 0, 0, 0, 0, 0, 0, 0, 0, 0,\n",
       "        0, 0, 0, 0, 0]), connectivity_matrix=array([[0. , 1. , 0. , ..., 0. , 0. , 0. ],\n",
       "        [1. , 0. , 1.5, ..., 0. , 0. , 0. ],\n",
       "        [0. , 1.5, 0. , ..., 0. , 0. , 0. ],\n",
       "        ...,\n",
       "        [0. , 0. , 0. , ..., 0. , 0. , 0. ],\n",
       "        [0. , 0. , 0. , ..., 0. , 0. , 0. ],\n",
       "        [0. , 0. , 0. , ..., 0. , 0. , 0. ]]), conformation=0, max_num_conformers=1, conformer_engine='rdkit', tasks=('opt M062X/6-31G(d) scf=(xqc,tight) integral(grid=ultrafinegrid)', 'freq M062X/6-31G(d) volume NMR pop=NPA density=current Geom=AllCheck Guess=Read integral(grid=ultrafinegrid) scf(xqc,tight)', 'TD(NStates=5, Root=1) M062X/6-31G(d) volume pop=NPA density=current Geom=AllCheck Guess=Read'), config={'theory': 'M062X', 'solvent': 'None', 'light_basis_set': '6-31G(d)', 'heavy_basis_set': 'LANL2DZ', 'generic_basis_set': 'genecp', 'max_light_atomic_number': 36}, job_id='2131480', directory='/home/jfenogli/.local/share/jean-zay/triarylboranes/BQEYCSWXNVENBD-UHFFFAOYSA-N', remote_dir='/gpfswork/rech/ihj/uuo83ic/triarylboranes/BQEYCSWXNVENBD-UHFFFAOYSA-N', base_name='BQEYCSWXNVENBD-UHFFFAOYSA-N_conf_0', status=<slurm_status.incomplete: 5>, n_submissions=1, n_success_tasks=0),\n",
       " '6707cae59f049cc225189e601ee51f32': slurm_job(can='Cc1cc(C#N)c([B-](F)(c2c(C#N)cc(C)cc2C#N)c2c(C#N)cc(C)cc2C#N)c(C#N)c1', inchi='InChI=1S/C27H15BFN6/c1-16-4-19(10-30)25(20(5-16)11-31)28(29,26-21(12-32)6-17(2)7-22(26)13-33)27-23(14-34)8-18(3)9-24(27)15-35/h4-9H,1-3H3/q-1', inchikey='ADWRAMMLCILJIZ-UHFFFAOYSA-N', elements=['C', 'C', 'C', 'C', 'C', 'N', 'C', 'B', 'F', 'C', 'C', 'C', 'N', 'C', 'C', 'C', 'C', 'C', 'C', 'N', 'C', 'C', 'C', 'N', 'C', 'C', 'C', 'C', 'C', 'C', 'N', 'C', 'C', 'N', 'C', 'H', 'H', 'H', 'H', 'H', 'H', 'H', 'H', 'H', 'H', 'H', 'H', 'H', 'H', 'H'], charges=array([ 0,  0,  0,  0,  0,  0,  0, -1,  0,  0,  0,  0,  0,  0,  0,  0,  0,\n",
       "         0,  0,  0,  0,  0,  0,  0,  0,  0,  0,  0,  0,  0,  0,  0,  0,  0,\n",
       "         0,  0,  0,  0,  0,  0,  0,  0,  0,  0,  0,  0,  0,  0,  0,  0]), connectivity_matrix=array([[0. , 1. , 0. , ..., 0. , 0. , 0. ],\n",
       "        [1. , 0. , 1.5, ..., 0. , 0. , 0. ],\n",
       "        [0. , 1.5, 0. , ..., 0. , 0. , 0. ],\n",
       "        ...,\n",
       "        [0. , 0. , 0. , ..., 0. , 0. , 0. ],\n",
       "        [0. , 0. , 0. , ..., 0. , 0. , 0. ],\n",
       "        [0. , 0. , 0. , ..., 0. , 0. , 0. ]]), conformation=0, max_num_conformers=1, conformer_engine='rdkit', tasks=('opt M062X/6-31G(d) scf=(xqc,tight) integral(grid=ultrafinegrid)', 'freq M062X/6-31G(d) volume NMR pop=NPA density=current Geom=AllCheck Guess=Read integral(grid=ultrafinegrid) scf(xqc,tight)', 'TD(NStates=5, Root=1) M062X/6-31G(d) volume pop=NPA density=current Geom=AllCheck Guess=Read'), config={'theory': 'M062X', 'solvent': 'None', 'light_basis_set': '6-31G(d)', 'heavy_basis_set': 'LANL2DZ', 'generic_basis_set': 'genecp', 'max_light_atomic_number': 36}, job_id='2131489', directory='/home/jfenogli/.local/share/jean-zay/triarylboranes/ADWRAMMLCILJIZ-UHFFFAOYSA-N', remote_dir='/gpfswork/rech/ihj/uuo83ic/triarylboranes/ADWRAMMLCILJIZ-UHFFFAOYSA-N', base_name='ADWRAMMLCILJIZ-UHFFFAOYSA-N_conf_0', status=<slurm_status.incomplete: 5>, n_submissions=1, n_success_tasks=0),\n",
       " '691ff8a69a5940e9656ddb9e17cc3c89': slurm_job(can='Cc1cc(C(F)(F)F)c(B(c2c(C(F)(F)F)cc(C)cc2C(F)(F)F)c2c(C(F)(F)F)cc(C)cc2C(F)(F)F)c(C(F)(F)F)c1', inchi='InChI=1S/C27H15BF18/c1-10-4-13(22(29,30)31)19(14(5-10)23(32,33)34)28(20-15(24(35,36)37)6-11(2)7-16(20)25(38,39)40)21-17(26(41,42)43)8-12(3)9-18(21)27(44,45)46/h4-9H,1-3H3', inchikey='WPUBJZQBJJTUKK-UHFFFAOYSA-N', elements=['C', 'C', 'C', 'C', 'C', 'F', 'F', 'F', 'C', 'B', 'C', 'C', 'C', 'F', 'F', 'F', 'C', 'C', 'C', 'C', 'C', 'C', 'F', 'F', 'F', 'C', 'C', 'C', 'F', 'F', 'F', 'C', 'C', 'C', 'C', 'C', 'C', 'F', 'F', 'F', 'C', 'C', 'F', 'F', 'F', 'C', 'H', 'H', 'H', 'H', 'H', 'H', 'H', 'H', 'H', 'H', 'H', 'H', 'H', 'H', 'H'], charges=array([0, 0, 0, 0, 0, 0, 0, 0, 0, 0, 0, 0, 0, 0, 0, 0, 0, 0, 0, 0, 0, 0,\n",
       "        0, 0, 0, 0, 0, 0, 0, 0, 0, 0, 0, 0, 0, 0, 0, 0, 0, 0, 0, 0, 0, 0,\n",
       "        0, 0, 0, 0, 0, 0, 0, 0, 0, 0, 0, 0, 0, 0, 0, 0, 0]), connectivity_matrix=array([[0. , 1. , 0. , ..., 0. , 0. , 0. ],\n",
       "        [1. , 0. , 1.5, ..., 0. , 0. , 0. ],\n",
       "        [0. , 1.5, 0. , ..., 0. , 0. , 0. ],\n",
       "        ...,\n",
       "        [0. , 0. , 0. , ..., 0. , 0. , 0. ],\n",
       "        [0. , 0. , 0. , ..., 0. , 0. , 0. ],\n",
       "        [0. , 0. , 0. , ..., 0. , 0. , 0. ]]), conformation=0, max_num_conformers=1, conformer_engine='rdkit', tasks=('opt M062X/6-31G(d) scf=(xqc,tight) integral(grid=ultrafinegrid)', 'freq M062X/6-31G(d) volume NMR pop=NPA density=current Geom=AllCheck Guess=Read integral(grid=ultrafinegrid) scf(xqc,tight)', 'TD(NStates=5, Root=1) M062X/6-31G(d) volume pop=NPA density=current Geom=AllCheck Guess=Read'), config={'theory': 'M062X', 'solvent': 'None', 'light_basis_set': '6-31G(d)', 'heavy_basis_set': 'LANL2DZ', 'generic_basis_set': 'genecp', 'max_light_atomic_number': 36}, job_id='2186892', directory='/home/jfenogli/.local/share/jean-zay/triarylboranes/WPUBJZQBJJTUKK-UHFFFAOYSA-N', remote_dir='/gpfswork/rech/ihj/uuo83ic/triarylboranes/WPUBJZQBJJTUKK-UHFFFAOYSA-N', base_name='WPUBJZQBJJTUKK-UHFFFAOYSA-N_conf_0', status=<slurm_status.incomplete: 5>, n_submissions=1, n_success_tasks=0),\n",
       " '7cf9f9eb434367f08535006b121ec37d': slurm_job(can='Cc1c(C#N)c(C(F)(F)F)c(B(c2c(C(F)(F)F)c(C#N)c(C)c(C#N)c2C(F)(F)F)c2c(C(F)(F)F)c(C#N)c(C)c(C#N)c2C(F)(F)F)c(C(F)(F)F)c1C#N', inchi='InChI=1S/C33H9BF18N6/c1-10-13(4-53)19(28(35,36)37)25(20(14(10)5-54)29(38,39)40)34(26-21(30(41,42)43)15(6-55)11(2)16(7-56)22(26)31(44,45)46)27-23(32(47,48)49)17(8-57)12(3)18(9-58)24(27)33(50,51)52/h1-3H3', inchikey='UERFTJJISABULA-UHFFFAOYSA-N', elements=['C', 'C', 'C', 'C', 'N', 'C', 'C', 'F', 'F', 'F', 'C', 'B', 'C', 'C', 'C', 'F', 'F', 'F', 'C', 'C', 'N', 'C', 'C', 'C', 'C', 'N', 'C', 'C', 'F', 'F', 'F', 'C', 'C', 'C', 'F', 'F', 'F', 'C', 'C', 'N', 'C', 'C', 'C', 'C', 'N', 'C', 'C', 'F', 'F', 'F', 'C', 'C', 'F', 'F', 'F', 'C', 'C', 'N', 'H', 'H', 'H', 'H', 'H', 'H', 'H', 'H', 'H'], charges=array([0, 0, 0, 0, 0, 0, 0, 0, 0, 0, 0, 0, 0, 0, 0, 0, 0, 0, 0, 0, 0, 0,\n",
       "        0, 0, 0, 0, 0, 0, 0, 0, 0, 0, 0, 0, 0, 0, 0, 0, 0, 0, 0, 0, 0, 0,\n",
       "        0, 0, 0, 0, 0, 0, 0, 0, 0, 0, 0, 0, 0, 0, 0, 0, 0, 0, 0, 0, 0, 0,\n",
       "        0]), connectivity_matrix=array([[0. , 1. , 0. , ..., 0. , 0. , 0. ],\n",
       "        [1. , 0. , 1.5, ..., 0. , 0. , 0. ],\n",
       "        [0. , 1.5, 0. , ..., 0. , 0. , 0. ],\n",
       "        ...,\n",
       "        [0. , 0. , 0. , ..., 0. , 0. , 0. ],\n",
       "        [0. , 0. , 0. , ..., 0. , 0. , 0. ],\n",
       "        [0. , 0. , 0. , ..., 0. , 0. , 0. ]]), conformation=0, max_num_conformers=1, conformer_engine='rdkit', tasks=('opt M062X/6-31G(d) scf=(xqc,tight) integral(grid=ultrafinegrid)', 'freq M062X/6-31G(d) volume NMR pop=NPA density=current Geom=AllCheck Guess=Read integral(grid=ultrafinegrid) scf(xqc,tight)', 'TD(NStates=5, Root=1) M062X/6-31G(d) volume pop=NPA density=current Geom=AllCheck Guess=Read'), config={'theory': 'M062X', 'solvent': 'None', 'light_basis_set': '6-31G(d)', 'heavy_basis_set': 'LANL2DZ', 'generic_basis_set': 'genecp', 'max_light_atomic_number': 36}, job_id='2186894', directory='/home/jfenogli/.local/share/jean-zay/triarylboranes/UERFTJJISABULA-UHFFFAOYSA-N', remote_dir='/gpfswork/rech/ihj/uuo83ic/triarylboranes/UERFTJJISABULA-UHFFFAOYSA-N', base_name='UERFTJJISABULA-UHFFFAOYSA-N_conf_0', status=<slurm_status.incomplete: 5>, n_submissions=1, n_success_tasks=0),\n",
       " '50fc926e9200421bb16304e9270c9419': slurm_job(can='Cc1c(C#N)c(C(F)(F)F)c([B-](F)(c2c(C(F)(F)F)c(C#N)c(C)c(C#N)c2C(F)(F)F)c2c(C(F)(F)F)c(C#N)c(C)c(C#N)c2C(F)(F)F)c(C(F)(F)F)c1C#N', inchi='InChI=1S/C33H9BF19N6/c1-10-13(4-54)19(28(35,36)37)25(20(14(10)5-55)29(38,39)40)34(53,26-21(30(41,42)43)15(6-56)11(2)16(7-57)22(26)31(44,45)46)27-23(32(47,48)49)17(8-58)12(3)18(9-59)24(27)33(50,51)52/h1-3H3/q-1', inchikey='JVJAWCILMBZRNV-UHFFFAOYSA-N', elements=['C', 'C', 'C', 'C', 'N', 'C', 'C', 'F', 'F', 'F', 'C', 'B', 'F', 'C', 'C', 'C', 'F', 'F', 'F', 'C', 'C', 'N', 'C', 'C', 'C', 'C', 'N', 'C', 'C', 'F', 'F', 'F', 'C', 'C', 'C', 'F', 'F', 'F', 'C', 'C', 'N', 'C', 'C', 'C', 'C', 'N', 'C', 'C', 'F', 'F', 'F', 'C', 'C', 'F', 'F', 'F', 'C', 'C', 'N', 'H', 'H', 'H', 'H', 'H', 'H', 'H', 'H', 'H'], charges=array([ 0,  0,  0,  0,  0,  0,  0,  0,  0,  0,  0, -1,  0,  0,  0,  0,  0,\n",
       "         0,  0,  0,  0,  0,  0,  0,  0,  0,  0,  0,  0,  0,  0,  0,  0,  0,\n",
       "         0,  0,  0,  0,  0,  0,  0,  0,  0,  0,  0,  0,  0,  0,  0,  0,  0,\n",
       "         0,  0,  0,  0,  0,  0,  0,  0,  0,  0,  0,  0,  0,  0,  0,  0,  0]), connectivity_matrix=array([[0. , 1. , 0. , ..., 0. , 0. , 0. ],\n",
       "        [1. , 0. , 1.5, ..., 0. , 0. , 0. ],\n",
       "        [0. , 1.5, 0. , ..., 0. , 0. , 0. ],\n",
       "        ...,\n",
       "        [0. , 0. , 0. , ..., 0. , 0. , 0. ],\n",
       "        [0. , 0. , 0. , ..., 0. , 0. , 0. ],\n",
       "        [0. , 0. , 0. , ..., 0. , 0. , 0. ]]), conformation=0, max_num_conformers=1, conformer_engine='rdkit', tasks=('opt M062X/6-31G(d) scf=(xqc,tight) integral(grid=ultrafinegrid)', 'freq M062X/6-31G(d) volume NMR pop=NPA density=current Geom=AllCheck Guess=Read integral(grid=ultrafinegrid) scf(xqc,tight)', 'TD(NStates=5, Root=1) M062X/6-31G(d) volume pop=NPA density=current Geom=AllCheck Guess=Read'), config={'theory': 'M062X', 'solvent': 'None', 'light_basis_set': '6-31G(d)', 'heavy_basis_set': 'LANL2DZ', 'generic_basis_set': 'genecp', 'max_light_atomic_number': 36}, job_id='2186896', directory='/home/jfenogli/.local/share/jean-zay/triarylboranes/JVJAWCILMBZRNV-UHFFFAOYSA-N', remote_dir='/gpfswork/rech/ihj/uuo83ic/triarylboranes/JVJAWCILMBZRNV-UHFFFAOYSA-N', base_name='JVJAWCILMBZRNV-UHFFFAOYSA-N_conf_0', status=<slurm_status.incomplete: 5>, n_submissions=1, n_success_tasks=0),\n",
       " 'c244c18deed0a1bf3c680f3ee92278b9': slurm_job(can='Cc1cc([N+](=O)[O-])c(B(c2c([N+](=O)[O-])cc(C)cc2[N+](=O)[O-])c2c([N+](=O)[O-])cc(C)cc2[N+](=O)[O-])c([N+](=O)[O-])c1', inchi='InChI=1S/C21H15BN6O12/c1-10-4-13(23(29)30)19(14(5-10)24(31)32)22(20-15(25(33)34)6-11(2)7-16(20)26(35)36)21-17(27(37)38)8-12(3)9-18(21)28(39)40/h4-9H,1-3H3', inchikey='XFZVNZZTTOICQG-UHFFFAOYSA-N', elements=['C', 'C', 'C', 'C', 'N', 'O', 'O', 'C', 'B', 'C', 'C', 'N', 'O', 'O', 'C', 'C', 'C', 'C', 'C', 'N', 'O', 'O', 'C', 'C', 'N', 'O', 'O', 'C', 'C', 'C', 'C', 'C', 'N', 'O', 'O', 'C', 'N', 'O', 'O', 'C', 'H', 'H', 'H', 'H', 'H', 'H', 'H', 'H', 'H', 'H', 'H', 'H', 'H', 'H', 'H'], charges=array([ 0,  0,  0,  0,  1,  0, -1,  0,  0,  0,  0,  1,  0, -1,  0,  0,  0,\n",
       "         0,  0,  1,  0, -1,  0,  0,  1,  0, -1,  0,  0,  0,  0,  0,  1,  0,\n",
       "        -1,  0,  1,  0, -1,  0,  0,  0,  0,  0,  0,  0,  0,  0,  0,  0,  0,\n",
       "         0,  0,  0,  0]), connectivity_matrix=array([[0. , 1. , 0. , ..., 0. , 0. , 0. ],\n",
       "        [1. , 0. , 1.5, ..., 0. , 0. , 0. ],\n",
       "        [0. , 1.5, 0. , ..., 0. , 0. , 0. ],\n",
       "        ...,\n",
       "        [0. , 0. , 0. , ..., 0. , 0. , 0. ],\n",
       "        [0. , 0. , 0. , ..., 0. , 0. , 0. ],\n",
       "        [0. , 0. , 0. , ..., 0. , 0. , 0. ]]), conformation=0, max_num_conformers=1, conformer_engine='rdkit', tasks=('opt M062X/6-31G(d) scf=(xqc,tight) integral(grid=ultrafinegrid)', 'freq M062X/6-31G(d) volume NMR pop=NPA density=current Geom=AllCheck Guess=Read integral(grid=ultrafinegrid) scf(xqc,tight)', 'TD(NStates=5, Root=1) M062X/6-31G(d) volume pop=NPA density=current Geom=AllCheck Guess=Read'), config={'theory': 'M062X', 'solvent': 'None', 'light_basis_set': '6-31G(d)', 'heavy_basis_set': 'LANL2DZ', 'generic_basis_set': 'genecp', 'max_light_atomic_number': 36}, job_id='2186915', directory='/home/jfenogli/.local/share/jean-zay/triarylboranes/XFZVNZZTTOICQG-UHFFFAOYSA-N', remote_dir='/gpfswork/rech/ihj/uuo83ic/triarylboranes/XFZVNZZTTOICQG-UHFFFAOYSA-N', base_name='XFZVNZZTTOICQG-UHFFFAOYSA-N_conf_0', status=<slurm_status.incomplete: 5>, n_submissions=1, n_success_tasks=0),\n",
       " '1a20c131ea37a0134bad032b6ab4da43': slurm_job(can='Cc1c(C#N)c([N+](=O)[O-])c(B(c2c([N+](=O)[O-])c(C#N)c(C)c(C#N)c2[N+](=O)[O-])c2c([N+](=O)[O-])c(C#N)c(C)c(C#N)c2[N+](=O)[O-])c([N+](=O)[O-])c1C#N', inchi='InChI=1S/C27H9BN12O12/c1-10-13(4-29)22(35(41)42)19(23(36(43)44)14(10)5-30)28(20-24(37(45)46)15(6-31)11(2)16(7-32)25(20)38(47)48)21-26(39(49)50)17(8-33)12(3)18(9-34)27(21)40(51)52/h1-3H3', inchikey='HZVZNGZJICLQBS-UHFFFAOYSA-N', elements=['C', 'C', 'C', 'C', 'N', 'C', 'N', 'O', 'O', 'C', 'B', 'C', 'C', 'N', 'O', 'O', 'C', 'C', 'N', 'C', 'C', 'C', 'C', 'N', 'C', 'N', 'O', 'O', 'C', 'C', 'N', 'O', 'O', 'C', 'C', 'N', 'C', 'C', 'C', 'C', 'N', 'C', 'N', 'O', 'O', 'C', 'N', 'O', 'O', 'C', 'C', 'N', 'H', 'H', 'H', 'H', 'H', 'H', 'H', 'H', 'H'], charges=array([ 0,  0,  0,  0,  0,  0,  1,  0, -1,  0,  0,  0,  0,  1,  0, -1,  0,\n",
       "         0,  0,  0,  0,  0,  0,  0,  0,  1,  0, -1,  0,  0,  1,  0, -1,  0,\n",
       "         0,  0,  0,  0,  0,  0,  0,  0,  1,  0, -1,  0,  1,  0, -1,  0,  0,\n",
       "         0,  0,  0,  0,  0,  0,  0,  0,  0,  0]), connectivity_matrix=array([[0. , 1. , 0. , ..., 0. , 0. , 0. ],\n",
       "        [1. , 0. , 1.5, ..., 0. , 0. , 0. ],\n",
       "        [0. , 1.5, 0. , ..., 0. , 0. , 0. ],\n",
       "        ...,\n",
       "        [0. , 0. , 0. , ..., 0. , 0. , 0. ],\n",
       "        [0. , 0. , 0. , ..., 0. , 0. , 0. ],\n",
       "        [0. , 0. , 0. , ..., 0. , 0. , 0. ]]), conformation=0, max_num_conformers=1, conformer_engine='rdkit', tasks=('opt M062X/6-31G(d) scf=(xqc,tight) integral(grid=ultrafinegrid)', 'freq M062X/6-31G(d) volume NMR pop=NPA density=current Geom=AllCheck Guess=Read integral(grid=ultrafinegrid) scf(xqc,tight)', 'TD(NStates=5, Root=1) M062X/6-31G(d) volume pop=NPA density=current Geom=AllCheck Guess=Read'), config={'theory': 'M062X', 'solvent': 'None', 'light_basis_set': '6-31G(d)', 'heavy_basis_set': 'LANL2DZ', 'generic_basis_set': 'genecp', 'max_light_atomic_number': 36}, job_id='2186917', directory='/home/jfenogli/.local/share/jean-zay/triarylboranes/HZVZNGZJICLQBS-UHFFFAOYSA-N', remote_dir='/gpfswork/rech/ihj/uuo83ic/triarylboranes/HZVZNGZJICLQBS-UHFFFAOYSA-N', base_name='HZVZNGZJICLQBS-UHFFFAOYSA-N_conf_0', status=<slurm_status.incomplete: 5>, n_submissions=1, n_success_tasks=0)}"
      ]
     },
     "execution_count": 29,
     "metadata": {},
     "output_type": "execute_result"
    }
   ],
   "source": [
    "sm.get_jobs(slurm_status.incomplete)"
   ]
  },
  {
   "cell_type": "markdown",
   "metadata": {},
   "source": [
    "## Resubmit incomplete jobs"
   ]
  },
  {
   "cell_type": "code",
   "execution_count": 6,
   "metadata": {
    "scrolled": true
   },
   "outputs": [
    {
     "name": "stderr",
     "output_type": "stream",
     "text": [
      "INFO:autoqchem.slurm_manager:Substituting last checked geometry in the new input file.\n",
      "INFO:autoqchem.slurm_manager:Substituting wall_time with new value: 20:00:00\n",
      "INFO:autoqchem.slurm_manager:Substituting last checked geometry in the new input file.\n",
      "INFO:autoqchem.slurm_manager:Substituting wall_time with new value: 20:00:00\n",
      "INFO:autoqchem.slurm_manager:Substituting last checked geometry in the new input file.\n",
      "INFO:autoqchem.slurm_manager:Substituting wall_time with new value: 20:00:00\n",
      "INFO:autoqchem.slurm_manager:Substituting last checked geometry in the new input file.\n",
      "INFO:autoqchem.slurm_manager:Substituting wall_time with new value: 20:00:00\n",
      "INFO:autoqchem.slurm_manager:Substituting last checked geometry in the new input file.\n",
      "INFO:autoqchem.slurm_manager:Substituting wall_time with new value: 20:00:00\n",
      "INFO:autoqchem.slurm_manager:Substituting last checked geometry in the new input file.\n",
      "INFO:autoqchem.slurm_manager:Substituting wall_time with new value: 20:00:00\n",
      "INFO:autoqchem.slurm_manager:Substituting last checked geometry in the new input file.\n",
      "INFO:autoqchem.slurm_manager:Substituting wall_time with new value: 20:00:00\n",
      "INFO:autoqchem.slurm_manager:Substituting last checked geometry in the new input file.\n",
      "INFO:autoqchem.slurm_manager:Substituting wall_time with new value: 20:00:00\n",
      "INFO:autoqchem.slurm_manager:Substituting last checked geometry in the new input file.\n",
      "INFO:autoqchem.slurm_manager:Substituting wall_time with new value: 20:00:00\n",
      "INFO:autoqchem.slurm_manager:Substituting last checked geometry in the new input file.\n",
      "INFO:autoqchem.slurm_manager:Substituting wall_time with new value: 20:00:00\n",
      "INFO:autoqchem.slurm_manager:Substituting last checked geometry in the new input file.\n",
      "INFO:autoqchem.slurm_manager:Substituting wall_time with new value: 20:00:00\n",
      "INFO:autoqchem.slurm_manager:Substituting last checked geometry in the new input file.\n",
      "INFO:autoqchem.slurm_manager:Substituting wall_time with new value: 20:00:00\n"
     ]
    },
    {
     "name": "stdout",
     "output_type": "stream",
     "text": [
      "Submitted batch job 1222663\n"
     ]
    },
    {
     "name": "stderr",
     "output_type": "stream",
     "text": [
      "INFO:autoqchem.slurm_manager:Submitted job cd1973b90b5d7016e983ebca11107956, job_id: 1222663.\n"
     ]
    },
    {
     "name": "stdout",
     "output_type": "stream",
     "text": [
      "Submitted batch job 1222664\n"
     ]
    },
    {
     "name": "stderr",
     "output_type": "stream",
     "text": [
      "INFO:autoqchem.slurm_manager:Submitted job 4915614dd33c05aa945a20e88c4a2b20, job_id: 1222664.\n"
     ]
    },
    {
     "name": "stdout",
     "output_type": "stream",
     "text": [
      "Submitted batch job 1222668\n"
     ]
    },
    {
     "name": "stderr",
     "output_type": "stream",
     "text": [
      "INFO:autoqchem.slurm_manager:Submitted job 4d5c9c1a2de804abf1642e0ffecb4370, job_id: 1222668.\n"
     ]
    },
    {
     "name": "stdout",
     "output_type": "stream",
     "text": [
      "Submitted batch job 1222669\n"
     ]
    },
    {
     "name": "stderr",
     "output_type": "stream",
     "text": [
      "INFO:autoqchem.slurm_manager:Submitted job 0be3df75cd5710c3b2e9d6079a37e942, job_id: 1222669.\n"
     ]
    },
    {
     "name": "stdout",
     "output_type": "stream",
     "text": [
      "Submitted batch job 1222672\n"
     ]
    },
    {
     "name": "stderr",
     "output_type": "stream",
     "text": [
      "INFO:autoqchem.slurm_manager:Submitted job 1294a205fe342334077949a69a604b0f, job_id: 1222672.\n"
     ]
    },
    {
     "name": "stdout",
     "output_type": "stream",
     "text": [
      "Submitted batch job 1222674\n"
     ]
    },
    {
     "name": "stderr",
     "output_type": "stream",
     "text": [
      "INFO:autoqchem.slurm_manager:Submitted job 00c22a1c2f4a9d18713c5fdfdb6fdab3, job_id: 1222674.\n"
     ]
    },
    {
     "name": "stdout",
     "output_type": "stream",
     "text": [
      "Submitted batch job 1222676\n"
     ]
    },
    {
     "name": "stderr",
     "output_type": "stream",
     "text": [
      "INFO:autoqchem.slurm_manager:Submitted job 9bdf08500a49756d473d4d8e11de65c5, job_id: 1222676.\n"
     ]
    },
    {
     "name": "stdout",
     "output_type": "stream",
     "text": [
      "Submitted batch job 1222678\n"
     ]
    },
    {
     "name": "stderr",
     "output_type": "stream",
     "text": [
      "INFO:autoqchem.slurm_manager:Submitted job c4a74cf94bc1c15e61f3053d7b9415b1, job_id: 1222678.\n"
     ]
    },
    {
     "name": "stdout",
     "output_type": "stream",
     "text": [
      "Submitted batch job 1222681\n"
     ]
    },
    {
     "name": "stderr",
     "output_type": "stream",
     "text": [
      "INFO:autoqchem.slurm_manager:Submitted job 07e1913d35cda38676b4a97024c2ba50, job_id: 1222681.\n"
     ]
    },
    {
     "name": "stdout",
     "output_type": "stream",
     "text": [
      "Submitted batch job 1222684\n"
     ]
    },
    {
     "name": "stderr",
     "output_type": "stream",
     "text": [
      "INFO:autoqchem.slurm_manager:Submitted job 760fbc37ec44e5a9e03e97128cf4f675, job_id: 1222684.\n"
     ]
    },
    {
     "name": "stdout",
     "output_type": "stream",
     "text": [
      "Submitted batch job 1222688\n"
     ]
    },
    {
     "name": "stderr",
     "output_type": "stream",
     "text": [
      "INFO:autoqchem.slurm_manager:Submitted job 90f4daded9b3ee64d9b9fa85064efe98, job_id: 1222688.\n"
     ]
    },
    {
     "name": "stdout",
     "output_type": "stream",
     "text": [
      "Submitted batch job 1222691\n"
     ]
    },
    {
     "name": "stderr",
     "output_type": "stream",
     "text": [
      "INFO:autoqchem.slurm_manager:Submitted job d9fcb4d3a67728a29521bd6386acd90b, job_id: 1222691.\n"
     ]
    }
   ],
   "source": [
    "sm.resubmit_incomplete_jobs()"
   ]
  },
  {
   "cell_type": "code",
   "execution_count": 7,
   "metadata": {},
   "outputs": [],
   "source": [
    "smiles_to_restart = []    \n",
    "for j in sm.get_jobs(slurm_status.failed).values():\n",
    "    smiles_to_restart.append(j.can)"
   ]
  },
  {
   "cell_type": "code",
   "execution_count": 55,
   "metadata": {},
   "outputs": [],
   "source": [
    "smiles_to_resubmit = []\n",
    "for j in sm.get_jobs(slurm_status.incomplete).values():\n",
    "    smiles_to_resubmit.append(j.can)"
   ]
  },
  {
   "cell_type": "code",
   "execution_count": 10,
   "metadata": {},
   "outputs": [],
   "source": [
    "def restart_jobs(smiles_to_restart) -> None:\n",
    "\n",
    "        \"\"\"restart jobs failed due to time limit\"\"\"\n",
    "        \n",
    "        for smi in smiles_to_restart :\n",
    "            job = list(sm.get_jobs(can = smi).values())[0]\n",
    "            job_log = f\"{job.directory}/{job.base_name}.log\"\n",
    "            job_com = f\"{job.directory}/{job.base_name}.com\"\n",
    "            os.rename(job_com, f\"{job.directory}/{job.base_name}_old.com\")\n",
    "            os.rename(job_log, f\"{job.directory}/{job.base_name}_old.log\")\n",
    "            with open(f\"{job.directory}/{job.base_name}_old.com\", 'r') as old_input :\n",
    "                lignes_source = [next(old_input) for _ in range(4)]\n",
    "                lignes_source.append(\"#P Restart \\n \")\n",
    "            with open(f\"{job.directory}/{job.base_name}.com\", 'w') as new_input :\n",
    "                new_input.writelines(lignes_source)\n",
    "            print(\"added command to restart in job input\")\n",
    "            with open(f\"{job.directory}/{job.base_name}.com\", 'r+') as file:\n",
    "                content = file.read()\n",
    "                updated_content = content.replace(\"conf_0_0.chk\", \"conf_0_2.chk\")\n",
    "                file.seek(0)\n",
    "                file.write(updated_content)\n",
    "                file.truncate()\n",
    "            \n",
    "            sm.connection.put(f\"{job.directory}/{job.base_name}.com\", job.remote_dir)\n",
    "\n",
    "            with sm.connection.cd(job.remote_dir):\n",
    "                ret = sm.connection.run(f\"\\n sbatch {job.base_name}.sh\")\n",
    "                job.job_id = re.search(\"job\\s*(\\d+)\\n\", ret.stdout).group(1)\n",
    "                job.status = slurm_status.submitted\n",
    "                job.n_submissions = job.n_submissions + 1\n",
    "                \n",
    "\n",
    "            sm._cache()\n",
    "\n",
    "            "
   ]
  },
  {
   "cell_type": "code",
   "execution_count": 10,
   "metadata": {},
   "outputs": [],
   "source": [
    "def resubmit_jobs(smiles_to_resubmit) -> None:\n",
    "\n",
    "        \"\"\"resubmit jobs who have negative frequencies from the beginning, adding keyword to compute frequencies at each step : should help converge on global minimum\"\"\"\n",
    "        for smi in smiles_to_resubmit :\n",
    "            job = list(sm.get_jobs(can = smi).values())[0]\n",
    "            job_log = f\"{job.directory}/{job.base_name}.log\"\n",
    "            job_com = f\"{job.directory}/{job.base_name}.com\"\n",
    "            with open(job_com, 'r+') as file:\n",
    "                content = file.read()\n",
    "                updated_content = content.replace(\"# opt\", \"# opt=CalcAll\")\n",
    "                file.seek(0)\n",
    "                file.write(updated_content)\n",
    "                file.truncate()\n",
    "            print(\"added opt=CalcAll in file\")\n",
    "            \n",
    "            sm.connection.put(f\"{job.directory}/{job.base_name}.com\", job.remote_dir)\n",
    "\n",
    "            with sm.connection.cd(job.remote_dir):\n",
    "                ret = sm.connection.run(f\"\\n sbatch {job.base_name}.sh\")\n",
    "                job.job_id = re.search(\"job\\s*(\\d+)\\n\", ret.stdout).group(1)\n",
    "                job.status = slurm_status.submitted\n",
    "                job.n_submissions = job.n_submissions + 1\n",
    "                \n",
    "\n",
    "            sm._cache()\n",
    "\n",
    " "
   ]
  },
  {
   "cell_type": "code",
   "execution_count": 56,
   "metadata": {},
   "outputs": [
    {
     "name": "stdout",
     "output_type": "stream",
     "text": [
      "added opt=CalcAll in file\n",
      "Submitted batch job 2142480\n",
      "added opt=CalcAll in file\n",
      "Submitted batch job 2142490\n",
      "added opt=CalcAll in file\n",
      "Submitted batch job 2142492\n"
     ]
    }
   ],
   "source": [
    "resubmit_jobs(smiles_to_resubmit)"
   ]
  },
  {
   "cell_type": "code",
   "execution_count": 11,
   "metadata": {},
   "outputs": [
    {
     "name": "stdout",
     "output_type": "stream",
     "text": [
      "added command to restart in job input\n",
      "Submitted batch job 2176817\n",
      "added command to restart in job input\n",
      "Submitted batch job 2176819\n",
      "added command to restart in job input\n",
      "Submitted batch job 2176820\n",
      "added command to restart in job input\n",
      "Submitted batch job 2176821\n",
      "added command to restart in job input\n",
      "Submitted batch job 2176822\n"
     ]
    }
   ],
   "source": [
    "restart_jobs(smi_to_restart)"
   ]
  },
  {
   "cell_type": "code",
   "execution_count": 39,
   "metadata": {},
   "outputs": [],
   "source": [
    "jobs = list(sm.get_jobs(can = 'F[B-](c1ccc(C(F)(F)F)cc1)(c1ccc(C(F)(F)F)cc1)c1ccc(C(F)(F)F)cc1').values())\n",
    "jobs[0].status = slurm_status.submitted"
   ]
  },
  {
   "cell_type": "markdown",
   "metadata": {},
   "source": [
    "Try to debug job : \n",
    "XQNVXDNEMLXGFU-UHFFFAOYSA-N\n",
    "\n",
    "job BQEYCSWXNVENBD-UHFFFAOYSA-N still not working\n"
   ]
  },
  {
   "cell_type": "markdown",
   "metadata": {},
   "source": [
    "### Upload molecules to the database"
   ]
  },
  {
   "cell_type": "code",
   "execution_count": 12,
   "metadata": {
    "scrolled": true
   },
   "outputs": [
    {
     "name": "stderr",
     "output_type": "stream",
     "text": [
      "INFO:autoqchem.slurm_manager:There are 1 finished molecules ['Cc1cc(Cl)c(B(c2c(Cl)cc(C)cc2Cl)c2c(Cl)cc(C)cc2Cl)c(Cl)c1'].\n"
     ]
    },
    {
     "ename": "NegativeFrequencyException",
     "evalue": "",
     "output_type": "error",
     "traceback": [
      "\u001b[0;31m---------------------------------------------------------------------------\u001b[0m",
      "\u001b[0;31mNegativeFrequencyException\u001b[0m                Traceback (most recent call last)",
      "Input \u001b[0;32mIn [12]\u001b[0m, in \u001b[0;36m<cell line: 1>\u001b[0;34m()\u001b[0m\n\u001b[0;32m----> 1\u001b[0m \u001b[43msm\u001b[49m\u001b[38;5;241;43m.\u001b[39;49m\u001b[43mupload_done_molecules_to_db\u001b[49m\u001b[43m(\u001b[49m\u001b[43mtags\u001b[49m\u001b[38;5;241;43m=\u001b[39;49m\u001b[43m[\u001b[49m\u001b[38;5;124;43m'\u001b[39;49m\u001b[38;5;124;43mboron_LA_triarylboranes\u001b[39;49m\u001b[38;5;124;43m'\u001b[39;49m\u001b[43m]\u001b[49m\u001b[43m)\u001b[49m\n",
      "File \u001b[0;32m~/FIA/autoqchem/slurm_manager.py:377\u001b[0m, in \u001b[0;36mslurm_manager.upload_done_molecules_to_db\u001b[0;34m(self, tags, RMSD_threshold)\u001b[0m\n\u001b[1;32m    375\u001b[0m \u001b[38;5;28;01mfor\u001b[39;00m done_can \u001b[38;5;129;01min\u001b[39;00m done_cans:\n\u001b[1;32m    376\u001b[0m     (keys, jobs) \u001b[38;5;241m=\u001b[39m \u001b[38;5;28mzip\u001b[39m(\u001b[38;5;241m*\u001b[39m\u001b[38;5;28mself\u001b[39m\u001b[38;5;241m.\u001b[39mget_jobs(can\u001b[38;5;241m=\u001b[39mdone_can)\u001b[38;5;241m.\u001b[39mitems())\n\u001b[0;32m--> 377\u001b[0m     rdmol, energies \u001b[38;5;241m=\u001b[39m \u001b[43mrdmol_from_slurm_jobs\u001b[49m\u001b[43m(\u001b[49m\u001b[43mjobs\u001b[49m\u001b[43m,\u001b[49m\u001b[43m \u001b[49m\u001b[43mpostDFT\u001b[49m\u001b[38;5;241;43m=\u001b[39;49m\u001b[38;5;28;43;01mTrue\u001b[39;49;00m\u001b[43m)\u001b[49m\n\u001b[1;32m    378\u001b[0m     keep \u001b[38;5;241m=\u001b[39m prune_rmsds(rdmol, RMSD_threshold)\n\u001b[1;32m    379\u001b[0m     logger\u001b[38;5;241m.\u001b[39minfo(\u001b[38;5;124mf\u001b[39m\u001b[38;5;124m\"\u001b[39m\u001b[38;5;124mMolecule \u001b[39m\u001b[38;5;132;01m{\u001b[39;00mdone_can\u001b[38;5;132;01m}\u001b[39;00m\u001b[38;5;124m has \u001b[39m\u001b[38;5;132;01m{\u001b[39;00m\u001b[38;5;28mlen\u001b[39m(keys) \u001b[38;5;241m-\u001b[39m \u001b[38;5;28mlen\u001b[39m(keep)\u001b[38;5;132;01m}\u001b[39;00m\u001b[38;5;124m / \u001b[39m\u001b[38;5;132;01m{\u001b[39;00m\u001b[38;5;28mlen\u001b[39m(keys)\u001b[38;5;132;01m}\u001b[39;00m\u001b[38;5;124m duplicate conformers.\u001b[39m\u001b[38;5;124m\"\u001b[39m)\n",
      "File \u001b[0;32m~/FIA/autoqchem/rdkit_utils.py:188\u001b[0m, in \u001b[0;36mrdmol_from_slurm_jobs\u001b[0;34m(jobs, postDFT)\u001b[0m\n\u001b[1;32m    185\u001b[0m \u001b[38;5;28;01mif\u001b[39;00m postDFT:\n\u001b[1;32m    187\u001b[0m     le \u001b[38;5;241m=\u001b[39m gaussian_log_extractor(\u001b[38;5;124mf\u001b[39m\u001b[38;5;124m\"\u001b[39m\u001b[38;5;132;01m{\u001b[39;00mj\u001b[38;5;241m.\u001b[39mdirectory\u001b[38;5;132;01m}\u001b[39;00m\u001b[38;5;124m/\u001b[39m\u001b[38;5;132;01m{\u001b[39;00mj\u001b[38;5;241m.\u001b[39mbase_name\u001b[38;5;132;01m}\u001b[39;00m\u001b[38;5;124m.log\u001b[39m\u001b[38;5;124m\"\u001b[39m)\n\u001b[0;32m--> 188\u001b[0m     \u001b[43mle\u001b[49m\u001b[38;5;241;43m.\u001b[39;49m\u001b[43mcheck_for_exceptions\u001b[49m\u001b[43m(\u001b[49m\u001b[43m)\u001b[49m\n\u001b[1;32m    189\u001b[0m     le\u001b[38;5;241m.\u001b[39mget_atom_labels()\n\u001b[1;32m    191\u001b[0m     \u001b[38;5;66;03m# verify that the labels are in the same order in gaussian after running it\u001b[39;00m\n",
      "File \u001b[0;32m~/FIA/autoqchem/gaussian_log_extractor.py:50\u001b[0m, in \u001b[0;36mgaussian_log_extractor.check_for_exceptions\u001b[0;34m(self)\u001b[0m\n\u001b[1;32m     48\u001b[0m     freqs \u001b[38;5;241m=\u001b[39m [\u001b[38;5;241m*\u001b[39m\u001b[38;5;28mmap\u001b[39m(\u001b[38;5;28mfloat\u001b[39m, \u001b[38;5;28mself\u001b[39m\u001b[38;5;241m.\u001b[39mmodes[\u001b[38;5;124m'\u001b[39m\u001b[38;5;124mFrequencies\u001b[39m\u001b[38;5;124m'\u001b[39m])]  \u001b[38;5;66;03m# extract frequencies\u001b[39;00m\n\u001b[1;32m     49\u001b[0m     \u001b[38;5;28;01mif\u001b[39;00m [\u001b[38;5;241m*\u001b[39m\u001b[38;5;28mfilter\u001b[39m(\u001b[38;5;28;01mlambda\u001b[39;00m x: x \u001b[38;5;241m<\u001b[39m \u001b[38;5;241m0.\u001b[39m, freqs)]:  \u001b[38;5;66;03m# check for negative frequencies\u001b[39;00m\n\u001b[0;32m---> 50\u001b[0m         \u001b[38;5;28;01mraise\u001b[39;00m NegativeFrequencyException()\n\u001b[1;32m     51\u001b[0m         logger\u001b[38;5;241m.\u001b[39minfo(\u001b[38;5;124m\"\u001b[39m\u001b[38;5;124mFound negative frequency\u001b[39m\u001b[38;5;124m\"\u001b[39m)\n\u001b[1;32m     52\u001b[0m \u001b[38;5;28;01mexcept\u001b[39;00m \u001b[38;5;167;01mTypeError\u001b[39;00m:  \u001b[38;5;66;03m# no frequencies\u001b[39;00m\n",
      "\u001b[0;31mNegativeFrequencyException\u001b[0m: "
     ]
    }
   ],
   "source": [
    "sm.upload_done_molecules_to_db(tags=['boron_LA_triarylboranes'])"
   ]
  },
  {
   "cell_type": "code",
   "execution_count": 8,
   "metadata": {},
   "outputs": [],
   "source": [
    "jobs = list(sm.get_jobs(can = 'COc1c(B(c2c(OC)c(C(F)(F)F)c(C)c(C(F)(F)F)c2OC)c2c(OC)c(C(F)(F)F)c(C)c(C(F)(F)F)c2OC)c(OC)c(C(F)(F)F)c(C)c1C(F)(F)F').values())\n",
    "jobs[0].status = slurm_status.submitted"
   ]
  },
  {
   "cell_type": "code",
   "execution_count": 13,
   "metadata": {},
   "outputs": [
    {
     "data": {
      "text/plain": [
       "{'49f1f219fa2ceee11ae68883f2cdda54': slurm_job(can='Cc1cc(Cl)c(B(c2c(Cl)cc(C)cc2Cl)c2c(Cl)cc(C)cc2Cl)c(Cl)c1', inchi='InChI=1S/C21H15BCl6/c1-10-4-13(23)19(14(24)5-10)22(20-15(25)6-11(2)7-16(20)26)21-17(27)8-12(3)9-18(21)28/h4-9H,1-3H3', inchikey='WJOBXADVUGWCQF-UHFFFAOYSA-N', elements=['C', 'C', 'C', 'C', 'Cl', 'C', 'B', 'C', 'C', 'Cl', 'C', 'C', 'C', 'C', 'C', 'Cl', 'C', 'C', 'Cl', 'C', 'C', 'C', 'C', 'C', 'Cl', 'C', 'Cl', 'C', 'H', 'H', 'H', 'H', 'H', 'H', 'H', 'H', 'H', 'H', 'H', 'H', 'H', 'H', 'H'], charges=array([0, 0, 0, 0, 0, 0, 0, 0, 0, 0, 0, 0, 0, 0, 0, 0, 0, 0, 0, 0, 0, 0,\n",
       "        0, 0, 0, 0, 0, 0, 0, 0, 0, 0, 0, 0, 0, 0, 0, 0, 0, 0, 0, 0, 0]), connectivity_matrix=array([[0. , 1. , 0. , ..., 0. , 0. , 0. ],\n",
       "        [1. , 0. , 1.5, ..., 0. , 0. , 0. ],\n",
       "        [0. , 1.5, 0. , ..., 0. , 0. , 0. ],\n",
       "        ...,\n",
       "        [0. , 0. , 0. , ..., 0. , 0. , 0. ],\n",
       "        [0. , 0. , 0. , ..., 0. , 0. , 0. ],\n",
       "        [0. , 0. , 0. , ..., 0. , 0. , 0. ]]), conformation=0, max_num_conformers=1, conformer_engine='rdkit', tasks=('opt M062X/6-31G(d) scf=(xqc,tight) integral(grid=ultrafinegrid)', 'freq M062X/6-31G(d) volume NMR pop=NPA density=current Geom=AllCheck Guess=Read integral(grid=ultrafinegrid) scf(xqc,tight)', 'TD(NStates=5, Root=1) M062X/6-31G(d) volume pop=NPA density=current Geom=AllCheck Guess=Read'), config={'theory': 'M062X', 'solvent': 'None', 'light_basis_set': '6-31G(d)', 'heavy_basis_set': 'LANL2DZ', 'generic_basis_set': 'genecp', 'max_light_atomic_number': 36}, job_id='2176819', directory='/home/jfenogli/.local/share/jean-zay/triarylboranes/WJOBXADVUGWCQF-UHFFFAOYSA-N', remote_dir='/gpfswork/rech/ihj/uuo83ic/triarylboranes/WJOBXADVUGWCQF-UHFFFAOYSA-N', base_name='WJOBXADVUGWCQF-UHFFFAOYSA-N_conf_0', status=<slurm_status.done: 3>, n_submissions=3, n_success_tasks=0)}"
      ]
     },
     "execution_count": 13,
     "metadata": {},
     "output_type": "execute_result"
    }
   ],
   "source": [
    "sm.get_jobs(can = 'Cc1cc(Cl)c(B(c2c(Cl)cc(C)cc2Cl)c2c(Cl)cc(C)cc2Cl)c(Cl)c1')"
   ]
  },
  {
   "cell_type": "markdown",
   "metadata": {},
   "source": [
    "#### To force upload molecule"
   ]
  },
  {
   "cell_type": "code",
   "execution_count": 27,
   "metadata": {},
   "outputs": [],
   "source": [
    "(keys, jobs) = zip(*sm.get_jobs(can='Cc1cc(C#N)c(B(c2c(C#N)cc(C)cc2C#N)c2c(C#N)cc(C)cc2C#N)c(C#N)c1').items())"
   ]
  },
  {
   "cell_type": "code",
   "execution_count": 29,
   "metadata": {
    "scrolled": false
   },
   "outputs": [
    {
     "name": "stderr",
     "output_type": "stream",
     "text": [
      "INFO:autoqchem.slurm_manager:Uploaded descriptors to DB for smiles: Cc1cc(C#N)c(B(c2c(C#N)cc(C)cc2C#N)c2c(C#N)cc(C)cc2C#N)c(C#N)c1, number of conformers: 1, DB molecule id 65a537b2f9e2eb62cb6019d0.\n"
     ]
    }
   ],
   "source": [
    "sm._upload_can_to_db(keys,tags=['boron_LA_triarylboranes'])"
   ]
  },
  {
   "cell_type": "code",
   "execution_count": 28,
   "metadata": {},
   "outputs": [
    {
     "data": {
      "text/plain": [
       "('e5f1a64b13dfbf42d45db774f05ad5b9',)"
      ]
     },
     "execution_count": 28,
     "metadata": {},
     "output_type": "execute_result"
    }
   ],
   "source": [
    "keys"
   ]
  },
  {
   "cell_type": "markdown",
   "metadata": {},
   "source": [
    "## Compute energies"
   ]
  },
  {
   "cell_type": "code",
   "execution_count": 4,
   "metadata": {
    "scrolled": true
   },
   "outputs": [],
   "source": [
    "from compute_FIA_HIA_utils import *\n",
    "from autoqchem.db_functions import *\n",
    "from scripts.machine_learning_utils import *"
   ]
  },
  {
   "cell_type": "code",
   "execution_count": 5,
   "metadata": {},
   "outputs": [],
   "source": [
    "jobs_done = sm.get_jobs(slurm_status.done)\n",
    "smiles_done = [ job.can for job in jobs_done.values()]"
   ]
  },
  {
   "cell_type": "code",
   "execution_count": 5,
   "metadata": {
    "scrolled": true
   },
   "outputs": [
    {
     "name": "stderr",
     "output_type": "stream",
     "text": [
      "/home/jfenogli/FIA/autoqchem/db_functions.py:216: FutureWarning: Indexing with multiple keys (implicitly converted to a tuple of keys) will be deprecated, use a list instead.\n",
      "  df = pd.concat([grouped['metadata', 'molecule_id', 'name'].first(),\n"
     ]
    }
   ],
   "source": [
    "mol_df_triaryl = db_select_molecules(tags=['boron_LA_triarylboranes'])\n",
    "\n",
    "smiles = []\n",
    "for i in mol_df_triaryl.axes[0]:\n",
    "    smiles.append(mol_df_triaryl.at[i,'can'])\n",
    "\n",
    "smi_to_rm = []\n",
    "for smi in smiles : \n",
    "    if '[B-]' in smi :\n",
    "        smi_to_rm.append(smi)\n",
    "    if '[BH-]' in smi :\n",
    "        smi_to_rm.append(smi)\n",
    "for smi in smi_to_rm :\n",
    "    smiles.remove(smi)"
   ]
  },
  {
   "cell_type": "code",
   "execution_count": 6,
   "metadata": {},
   "outputs": [
    {
     "data": {
      "text/plain": [
       "193"
      ]
     },
     "execution_count": 6,
     "metadata": {},
     "output_type": "execute_result"
    }
   ],
   "source": [
    "len(smiles)"
   ]
  },
  {
   "cell_type": "markdown",
   "metadata": {},
   "source": [
    "### Compute FIA & HIA"
   ]
  },
  {
   "cell_type": "code",
   "execution_count": 7,
   "metadata": {},
   "outputs": [],
   "source": [
    "FIA = list_FIA(smiles)"
   ]
  },
  {
   "cell_type": "code",
   "execution_count": 11,
   "metadata": {},
   "outputs": [
    {
     "data": {
      "text/plain": [
       "[435.16225439310074,\n",
       " 380.08674040064216,\n",
       " 570.189068400301,\n",
       " 436.7770363986492,\n",
       " 320.7701844004914,\n",
       " 369.1215003989637,\n",
       " 286.54479840025306,\n",
       " 326.2222023997456,\n",
       " 674.0741483997554,\n",
       " 321.0413123993203,\n",
       " 445.4963184008375,\n",
       " 344.9956584004685,\n",
       " 362.7416204009205,\n",
       " 415.1498464010656,\n",
       " 371.60101640131325,\n",
       " 294.5891463998705,\n",
       " 347.0819764006883,\n",
       " 483.10388840176165,\n",
       " 389.6807923987508,\n",
       " 424.38372039981186,\n",
       " 315.07504040095955,\n",
       " 270.88715640082955,\n",
       " 418.5604223990813,\n",
       " 298.2252724003047,\n",
       " 279.8980543995276,\n",
       " 401.9987343996763,\n",
       " 423.8080544024706,\n",
       " 490.9289524005726,\n",
       " 442.48213839903474,\n",
       " 317.0768844000995,\n",
       " 422.1785824019462,\n",
       " 392.2511523999274,\n",
       " 322.39983840007335,\n",
       " 290.65992240048945,\n",
       " 389.79547840356827,\n",
       " 359.4444303996861,\n",
       " 430.82488240115345,\n",
       " 381.7935883998871,\n",
       " 301.6345224007964,\n",
       " 348.68542240094393,\n",
       " 324.2019244004041,\n",
       " 323.014816400595,\n",
       " 296.58170839957893,\n",
       " 'missing correctedH_mol_F',\n",
       " 436.0273264013231,\n",
       " 461.1468624006957,\n",
       " 415.3575864005834,\n",
       " 384.964028400369,\n",
       " 294.4318204000592,\n",
       " 352.6061704000458,\n",
       " 512.5416083997115,\n",
       " 319.6736864000559,\n",
       " 391.6951164007187,\n",
       " 306.6699944008142,\n",
       " 294.22090840060264,\n",
       " 431.38008640054613,\n",
       " 320.6866438006982,\n",
       " 312.98828560020775,\n",
       " 457.39537439495325,\n",
       " 457.9621744044125,\n",
       " 458.5030264016241,\n",
       " 434.87729439884424,\n",
       " 376.39617040008307,\n",
       " 488.56963439285755,\n",
       " 490.66783439926803,\n",
       " 513.2907203994691,\n",
       " 483.26553039997816,\n",
       " 392.83199240267277,\n",
       " 'missing correctedH_mol_F',\n",
       " 471.5166763998568,\n",
       " 475.6061904001981,\n",
       " 422.9966984000057,\n",
       " 403.07895640004426,\n",
       " 346.293942399323,\n",
       " 517.1623544022441,\n",
       " 516.9956944063306,\n",
       " 543.6049524005502,\n",
       " 522.6751343999058,\n",
       " 1233.5854124007747,\n",
       " 441.69862840045244,\n",
       " 557.789148401469,\n",
       " 573.2440163996071,\n",
       " 544.6471363985911,\n",
       " 442.6528284000233,\n",
       " 610.9929744005203,\n",
       " 545.8980744006112,\n",
       " 523.9615623997524,\n",
       " 441.75216760020703,\n",
       " 462.21000240091234,\n",
       " 372.0888543948531,\n",
       " 385.59099239856005,\n",
       " 423.68473640084267,\n",
       " 323.9852403998375,\n",
       " 454.2263903999701,\n",
       " 341.4905983991921,\n",
       " 343.4025083994493,\n",
       " 315.6262924000621,\n",
       " 287.5876323999837,\n",
       " 295.1955703999847,\n",
       " 298.8154204003513,\n",
       " 275.88776240032166,\n",
       " 519.1602204013616,\n",
       " 587.8033403996378,\n",
       " 554.337856400758,\n",
       " 548.0054004015401,\n",
       " 504.42880240175873,\n",
       " 536.3750544004142,\n",
       " 459.0960604008287,\n",
       " 458.3230023998767,\n",
       " 356.4239843999967,\n",
       " 407.0299943983555,\n",
       " 380.582846400328,\n",
       " 394.0904183983803,\n",
       " 380.16341440193355,\n",
       " 301.0548783997074,\n",
       " 341.985352399759,\n",
       " 305.0377273997292,\n",
       " 322.76490959944203]"
      ]
     },
     "execution_count": 11,
     "metadata": {},
     "output_type": "execute_result"
    }
   ],
   "source": [
    "FIA"
   ]
  },
  {
   "cell_type": "code",
   "execution_count": null,
   "metadata": {},
   "outputs": [],
   "source": [
    "smiles = smi_triarylboranes\n",
    "FIA_str = []\n",
    "for fia in FIA : \n",
    "    if type(fia) != str :\n",
    "        fia = round(fia,3)\n",
    "    FIA_str.append(str(fia))\n",
    "mols = []\n",
    "for i in range(len(smiles)):\n",
    "    mols.append(Chem.MolFromSmiles(smiles[i]))\n",
    "    #mols.append(Chem.MolFromSmiles(smiles_F[i]))  \n",
    "#Chem.Draw.MolsToGridImage(mols)\n",
    "Chem.Draw.MolsToGridImage(mols, subImgSize=(400,500), legends = FIA_str, maxMols=150)"
   ]
  },
  {
   "cell_type": "markdown",
   "metadata": {},
   "source": [
    "### Compute reorganization energy"
   ]
  },
  {
   "cell_type": "code",
   "execution_count": 14,
   "metadata": {},
   "outputs": [
    {
     "name": "stdout",
     "output_type": "stream",
     "text": [
      "folder name of remote directory: triarylboranes\n"
     ]
    }
   ],
   "source": [
    "from reorganization_energy_utils import *"
   ]
  },
  {
   "cell_type": "code",
   "execution_count": 15,
   "metadata": {},
   "outputs": [
    {
     "ename": "UnboundLocalError",
     "evalue": "local variable 'pyramid_nrj' referenced before assignment",
     "output_type": "error",
     "traceback": [
      "\u001b[0;31m---------------------------------------------------------------------------\u001b[0m",
      "\u001b[0;31mUnboundLocalError\u001b[0m                         Traceback (most recent call last)",
      "Input \u001b[0;32mIn [15]\u001b[0m, in \u001b[0;36m<cell line: 1>\u001b[0;34m()\u001b[0m\n\u001b[0;32m----> 1\u001b[0m reorg_nrjs \u001b[38;5;241m=\u001b[39m \u001b[43mreorganization_nrj\u001b[49m\u001b[43m(\u001b[49m\u001b[43msmiles\u001b[49m\u001b[43m)\u001b[49m\n",
      "File \u001b[0;32m~/FIA/reorganization_energy_utils.py:113\u001b[0m, in \u001b[0;36mreorganization_nrj\u001b[0;34m(smiles)\u001b[0m\n\u001b[1;32m    110\u001b[0m \u001b[38;5;28;01mexcept\u001b[39;00m :\n\u001b[1;32m    111\u001b[0m     \u001b[38;5;66;03m#print(\"no opt nrj found\")\u001b[39;00m\n\u001b[1;32m    112\u001b[0m     fails \u001b[38;5;241m+\u001b[39m\u001b[38;5;241m=\u001b[39m \u001b[38;5;241m1\u001b[39m\n\u001b[0;32m--> 113\u001b[0m reorg_nrj \u001b[38;5;241m=\u001b[39m (\u001b[43mpyramid_nrj\u001b[49m \u001b[38;5;241m-\u001b[39m opt_nrj)\u001b[38;5;241m*\u001b[39m\u001b[38;5;241m2625.5002\u001b[39m\n\u001b[1;32m    114\u001b[0m \u001b[38;5;66;03m#print(fails)\u001b[39;00m\n\u001b[1;32m    115\u001b[0m \u001b[38;5;28;01mif\u001b[39;00m fails \u001b[38;5;241m>\u001b[39m\u001b[38;5;241m=\u001b[39m \u001b[38;5;241m1\u001b[39m :\n",
      "\u001b[0;31mUnboundLocalError\u001b[0m: local variable 'pyramid_nrj' referenced before assignment"
     ]
    }
   ],
   "source": [
    "reorg_nrjs = reorganization_nrj(smiles)"
   ]
  },
  {
   "cell_type": "markdown",
   "metadata": {},
   "source": [
    "## Write csv"
   ]
  },
  {
   "cell_type": "code",
   "execution_count": 9,
   "metadata": {},
   "outputs": [],
   "source": [
    "def replace(value):\n",
    "    if type(value)==str :\n",
    "        return(None)\n",
    "    elif value == None : \n",
    "        return(None)\n",
    "    elif value <=0 :\n",
    "        return(None)\n",
    "    elif value >=2000 :\n",
    "        return(None)\n",
    "    else :\n",
    "        return(value)"
   ]
  },
  {
   "cell_type": "code",
   "execution_count": 10,
   "metadata": {},
   "outputs": [],
   "source": [
    "#HIA = [replace(hia) for hia in HIA]\n",
    "FIA = [replace(fia) for fia in FIA]\n",
    "#reorg_nrjs = [replace(nrj) for nrj in reorg_nrjs]"
   ]
  },
  {
   "cell_type": "code",
   "execution_count": 11,
   "metadata": {},
   "outputs": [],
   "source": [
    "df = pd.DataFrame()\n",
    "df['SMILES']=smiles\n",
    "df['FIA']= FIA\n",
    "df = df.set_index(\"SMILES\")"
   ]
  },
  {
   "cell_type": "code",
   "execution_count": 12,
   "metadata": {},
   "outputs": [],
   "source": [
    "os.chdir('/home/jfenogli/FIA')\n",
    "df.dropna().to_csv(\"csv/table_smiles_FIA_triarylboranes.csv\")"
   ]
  },
  {
   "cell_type": "code",
   "execution_count": 21,
   "metadata": {},
   "outputs": [],
   "source": [
    "## write csv\n",
    "\n",
    "os.chdir('/home/jfenogli/FIA')\n",
    "import csv \n",
    "\n",
    "csv_file = \"csv/table_smiles_FIA_triarylboranes.csv\"\n",
    "\n",
    "    \n",
    "with open(csv_file, 'w') as csvfile :\n",
    "    csvwriter = csv.writer(csvfile) \n",
    "    csvwriter.writerow(['SMILES', 'FIA'])\n",
    "    csvwriter.writerows(rows)"
   ]
  }
 ],
 "metadata": {
  "kernelspec": {
   "display_name": "Python 3 (ipykernel)",
   "language": "python",
   "name": "python3"
  },
  "language_info": {
   "codemirror_mode": {
    "name": "ipython",
    "version": 3
   },
   "file_extension": ".py",
   "mimetype": "text/x-python",
   "name": "python",
   "nbconvert_exporter": "python",
   "pygments_lexer": "ipython3",
   "version": "3.10.9"
  }
 },
 "nbformat": 4,
 "nbformat_minor": 4
}
