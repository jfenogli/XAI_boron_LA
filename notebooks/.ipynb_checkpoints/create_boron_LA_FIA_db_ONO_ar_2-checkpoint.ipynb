{
 "cells": [
  {
   "cell_type": "markdown",
   "metadata": {},
   "source": [
    "### Startup imports"
   ]
  },
  {
   "cell_type": "code",
   "execution_count": 1,
   "metadata": {},
   "outputs": [],
   "source": [
    "import sys\n",
    "import pandas as pd\n",
    "\n",
    "from autoqchem.molecule import molecule\n",
    "from autoqchem.slurm_manager import slurm_manager\n",
    "from autoqchem.helper_classes import slurm_status\n",
    "from autoqchem.helper_classes import slurm_job\n",
    "\n",
    "from autoqchem.draw_utils import draw\n",
    "\n",
    "from generate_smiles import *\n",
    "\n",
    "import os\n",
    "import re\n",
    "\n",
    "import logging\n",
    "logging.basicConfig(level=logging.INFO)"
   ]
  },
  {
   "cell_type": "markdown",
   "metadata": {},
   "source": [
    "### Connect to the cluster"
   ]
  },
  {
   "cell_type": "code",
   "execution_count": 3,
   "metadata": {
    "scrolled": true
   },
   "outputs": [
    {
     "name": "stderr",
     "output_type": "stream",
     "text": [
      "INFO:autoqchem.slurm_manager:Creating connection to jean-zay.idris.fr as uuo83ic\n",
      "INFO:paramiko.transport:Connected (version 2.0, client OpenSSH_8.0)\n",
      "INFO:paramiko.transport:Authentication (password) successful!\n",
      "INFO:autoqchem.slurm_manager:Connected to jean-zay.idris.fr as uuo83ic.\n"
     ]
    }
   ],
   "source": [
    "#Enter your username\n",
    "from autoqchem.slurm_manager import slurm_manager\n",
    "import logging\n",
    "logging.basicConfig(level=logging.INFO)\n",
    "\n",
    "sm=slurm_manager(user='uuo83ic', host='jean-zay.idris.fr', file_name='db_ONO_ar_2')\n",
    "\n",
    "# Your password can be written in slurm_manager.py\n",
    "\n",
    "sm.connect()\n"
   ]
  },
  {
   "cell_type": "code",
   "execution_count": 4,
   "metadata": {
    "scrolled": true
   },
   "outputs": [
    {
     "data": {
      "text/html": [
       "<div>\n",
       "<style scoped>\n",
       "    .dataframe tbody tr th:only-of-type {\n",
       "        vertical-align: middle;\n",
       "    }\n",
       "\n",
       "    .dataframe tbody tr th {\n",
       "        vertical-align: top;\n",
       "    }\n",
       "\n",
       "    .dataframe thead th {\n",
       "        text-align: right;\n",
       "    }\n",
       "</style>\n",
       "<table border=\"1\" class=\"dataframe\">\n",
       "  <thead>\n",
       "    <tr style=\"text-align: right;\">\n",
       "      <th>status</th>\n",
       "      <th>duplicate</th>\n",
       "      <th>failed</th>\n",
       "      <th>uploaded</th>\n",
       "    </tr>\n",
       "  </thead>\n",
       "  <tbody>\n",
       "    <tr>\n",
       "      <th>jobs</th>\n",
       "      <td>2</td>\n",
       "      <td>1</td>\n",
       "      <td>674</td>\n",
       "    </tr>\n",
       "  </tbody>\n",
       "</table>\n",
       "</div>"
      ],
      "text/plain": [
       "status  duplicate  failed  uploaded\n",
       "jobs            2       1       674"
      ]
     },
     "execution_count": 4,
     "metadata": {},
     "output_type": "execute_result"
    }
   ],
   "source": [
    "sm.get_job_stats()"
   ]
  },
  {
   "cell_type": "code",
   "execution_count": 4,
   "metadata": {},
   "outputs": [
    {
     "data": {
      "text/plain": [
       "200"
      ]
     },
     "execution_count": 4,
     "metadata": {},
     "output_type": "execute_result"
    }
   ],
   "source": [
    "jobs = sm.get_jobs()\n",
    "smiles = [ job.can for job in jobs.values()]\n",
    "smi_to_rm = []\n",
    "for smi in smiles : \n",
    "    if '[B-]' in smi :\n",
    "        smi_to_rm.append(smi)\n",
    "    if '[BH-]' in smi :\n",
    "        smi_to_rm.append(smi)\n",
    "for smi in smi_to_rm :\n",
    "    smiles.remove(smi)\n",
    "len(smiles)"
   ]
  },
  {
   "cell_type": "markdown",
   "metadata": {},
   "source": [
    "### Provide some smiles string(s)"
   ]
  },
  {
   "cell_type": "code",
   "execution_count": 16,
   "metadata": {},
   "outputs": [],
   "source": [
    "smi_already_run=[]\n",
    "\n",
    "jobs_dict = sm.get_jobs()\n",
    "for key in jobs_dict.keys():    \n",
    "    can = jobs_dict[key].can\n",
    "    smi_already_run.append(can)\n",
    "    #mol  = Chem.MolFromSmiles(can)\n",
    "    #smi = Chem.MolToSmiles(mol)\n",
    "    #smi_already_run.append(smi)\n",
    "  "
   ]
  },
  {
   "cell_type": "code",
   "execution_count": 6,
   "metadata": {},
   "outputs": [],
   "source": [
    "os.chdir('/home/jfenogli/FIA')\n",
    "import csv \n",
    "\n",
    "\n",
    "\n",
    "## read data from csv\n",
    "\n",
    "df = pd.read_csv(\"table_smiles_FIA_db_ONO_ar_2.csv\", delimiter=',')\n",
    "list_of_rows = [list(row) for row in df.values]\n",
    "\n",
    "smiles_AL = [list_of_rows[i][0] for i in range(len(list_of_rows))]"
   ]
  },
  {
   "cell_type": "code",
   "execution_count": 17,
   "metadata": {},
   "outputs": [
    {
     "data": {
      "image/png": "[encoded data removed]",
      "text/plain": [
       "<rdkit.Chem.rdchem.Mol at 0x7f22ee55c100>"
      ]
     },
     "execution_count": 17,
     "metadata": {},
     "output_type": "execute_result"
    }
   ],
   "source": [
    "smi_base = 'c1(*)c(*)c(OB4N2(c3c(O4)c(*)c(*)c(*)c3))c2cc1(*)'\n",
    "\n",
    "frags = ['N', 'O', 'Cl', 'F', 'Br', 'C', 'OC', 'N(C)C', '[H]','[H]','[H]','[H]',\n",
    "         '[H]','[H]','[H]','[H]','[H]','[H]',\"C#N\", \"C(C)(C)C\", \"C(F)(F)F\",\"[N+]([O-])=O\"]\n",
    "\n",
    "Chem.MolFromSmiles(smi_base)"
   ]
  },
  {
   "cell_type": "code",
   "execution_count": 12,
   "metadata": {},
   "outputs": [],
   "source": [
    "def generate_boronic_ONO(frags, N):\n",
    "    \n",
    "    \"\"\" smi_base = SMILES de structure de base avec les liaisons à compléter \n",
    "        frags = liste de SMILES pour les potentiels fragments à rajouter \n",
    "        N = nombre de SMILES à générer.\n",
    "        retourne une liste de SMILES \"\"\"\n",
    "    smi_base = 'c1(*)c(*)c(OB4N2(c3c(O4)c(*)c(*)c(*)c3))c2cc1(*)'\n",
    "    boronics_smi = []\n",
    "    i = 0\n",
    "    while i < N :    \n",
    "        L = list(smi_base)\n",
    "        L[3] = frags[np.random.randint(0, high=len(frags), size=None)]\n",
    "        L[30]=L[3]\n",
    "        L[7] = frags[np.random.randint(0, high=len(frags), size=None)]\n",
    "        L[26] = L[7]\n",
    "        L[34] = frags[np.random.randint(0, high=len(frags), size=None)]\n",
    "        L[46] = L[34]\n",
    "        indexes = []\n",
    "        new_L = \"\".join(L)\n",
    "        #print(new_L)\n",
    "        mol  = Chem.MolFromSmiles(new_L)\n",
    "        smi = Chem.MolToSmiles(mol)\n",
    "        if (smi not in boronics_smi) and (smi not in smi_already_run):\n",
    "            boronics_smi.append(smi)\n",
    "            i += 1       \n",
    "    return boronics_smi"
   ]
  },
  {
   "cell_type": "code",
   "execution_count": null,
   "metadata": {
    "scrolled": true
   },
   "outputs": [],
   "source": [
    "mols = [Chem.MolFromSmiles(smi) for smi in smiles_AL[70:]]\n",
    "mols_H = get_hydride_adduct(mols)\n",
    "smi_H = [Chem.MolToSmiles(mol) for mol in mols_H]\n",
    "Chem.Draw.MolsToGridImage(mols_H)"
   ]
  },
  {
   "cell_type": "code",
   "execution_count": 35,
   "metadata": {},
   "outputs": [],
   "source": [
    "os.chdir('/home/jfenogli/FIA')\n",
    "df = pd.read_csv('csv/smiles_to_run_coverage.csv')"
   ]
  },
  {
   "cell_type": "code",
   "execution_count": null,
   "metadata": {},
   "outputs": [],
   "source": [
    "smi_not_F = smi_failed\n",
    "\n",
    "mols = [Chem.MolFromSmiles(smi) for smi in smi_not_F]\n",
    "mols_F = get_fluoride_adduct(mols)\n",
    "#smi_F = [Chem.MolToSmiles(mol) for mol in mols_F]\n",
    "Chem.Draw.MolsToGridImage(mols)"
   ]
  },
  {
   "cell_type": "markdown",
   "metadata": {},
   "source": [
    "### Initialize the molecules and generate conformations\n",
    "\n",
    "We will use some ```for``` loops to loop over the smiles"
   ]
  },
  {
   "cell_type": "code",
   "execution_count": null,
   "metadata": {
    "scrolled": true
   },
   "outputs": [],
   "source": [
    "mols_to_run = []\n",
    "\n",
    "for i in range(len(smi_not_F)):\n",
    "    mol = molecule(smi_not_F[i], num_conf=1)\n",
    "    mol_F = molecule(smi_F[i], num_conf=1)\n",
    "    mols_to_run.append(mol)\n",
    "    mols_to_run.append(mol_F)    "
   ]
  },
  {
   "cell_type": "code",
   "execution_count": 29,
   "metadata": {
    "scrolled": true
   },
   "outputs": [
    {
     "name": "stderr",
     "output_type": "stream",
     "text": [
      "[17:37:51] WARNING: Charges were rearranged\n",
      "\n",
      "[17:37:51] WARNING: Charges were rearranged\n",
      "\n",
      "[17:37:52] WARNING: Charges were rearranged\n",
      "\n"
     ]
    }
   ],
   "source": [
    "mols_to_run = []\n",
    "\n",
    "for i in range(len(smi_failed)):\n",
    "    mol = molecule(smi_failed[i], num_conf=1)\n",
    "    mols_to_run.append(mol)  "
   ]
  },
  {
   "cell_type": "markdown",
   "metadata": {},
   "source": [
    "Draw some molecules\n",
    "\n",
    "Here you can see that the starting conformers are not optimized, which may cause some Gaussian geometry optimizations to crash"
   ]
  },
  {
   "cell_type": "code",
   "execution_count": null,
   "metadata": {
    "scrolled": false
   },
   "outputs": [],
   "source": [
    "draw(mols_to_run[0].mol)"
   ]
  },
  {
   "cell_type": "markdown",
   "metadata": {},
   "source": [
    "### Create gaussian jobs for each conformation"
   ]
  },
  {
   "cell_type": "code",
   "execution_count": 31,
   "metadata": {
    "scrolled": true
   },
   "outputs": [
    {
     "name": "stderr",
     "output_type": "stream",
     "text": [
      "INFO:autoqchem.gaussian_input_generator:Generating Gaussian input files for 1 conformations.\n",
      "WARNING:autoqchem.slurm_manager:A job with exactly the same parameters, molecule Oc1c(F)cc2c(c1Br)O[B-]1(F)Oc3c(cc(F)c(O)c3Br)N21, conformation 0, workflow ('opt M062X/6-31G(d) scf=(xqc,tight) integral(grid=ultrafinegrid)', 'freq M062X/6-31G(d) volume NMR pop=NPA density=current Geom=AllCheck Guess=Read integral(grid=ultrafinegrid) scf(xqc,tight)', 'TD(NStates=5, Root=1) M062X/6-31G(d) volume pop=NPA density=current Geom=AllCheck Guess=Read') already exists. Not creating a duplicate\n",
      "INFO:autoqchem.gaussian_input_generator:Generating Gaussian input files for 1 conformations.\n",
      "WARNING:autoqchem.slurm_manager:A job with exactly the same parameters, molecule Cc1cc2c(c([N+](=O)[O-])c1N)OB1Oc3c(cc(C)c(N)c3[N+](=O)[O-])N12, conformation 0, workflow ('opt M062X/6-31G(d) scf=(xqc,tight) integral(grid=ultrafinegrid)', 'freq M062X/6-31G(d) volume NMR pop=NPA density=current Geom=AllCheck Guess=Read integral(grid=ultrafinegrid) scf(xqc,tight)', 'TD(NStates=5, Root=1) M062X/6-31G(d) volume pop=NPA density=current Geom=AllCheck Guess=Read') already exists. Not creating a duplicate\n",
      "INFO:autoqchem.gaussian_input_generator:Generating Gaussian input files for 1 conformations.\n",
      "WARNING:autoqchem.slurm_manager:A job with exactly the same parameters, molecule COc1c(N)c(C)cc2c1OB1Oc3c(cc(C)c(N)c3OC)N12, conformation 0, workflow ('opt M062X/6-31G(d) scf=(xqc,tight) integral(grid=ultrafinegrid)', 'freq M062X/6-31G(d) volume NMR pop=NPA density=current Geom=AllCheck Guess=Read integral(grid=ultrafinegrid) scf(xqc,tight)', 'TD(NStates=5, Root=1) M062X/6-31G(d) volume pop=NPA density=current Geom=AllCheck Guess=Read') already exists. Not creating a duplicate\n",
      "INFO:autoqchem.gaussian_input_generator:Generating Gaussian input files for 1 conformations.\n",
      "WARNING:autoqchem.slurm_manager:A job with exactly the same parameters, molecule Nc1cc2c(c(Cl)c1C(F)(F)F)O[B-]1(F)Oc3c(cc(N)c(C(F)(F)F)c3Cl)N21, conformation 0, workflow ('opt M062X/6-31G(d) scf=(xqc,tight) integral(grid=ultrafinegrid)', 'freq M062X/6-31G(d) volume NMR pop=NPA density=current Geom=AllCheck Guess=Read integral(grid=ultrafinegrid) scf(xqc,tight)', 'TD(NStates=5, Root=1) M062X/6-31G(d) volume pop=NPA density=current Geom=AllCheck Guess=Read') already exists. Not creating a duplicate\n",
      "INFO:autoqchem.gaussian_input_generator:Generating Gaussian input files for 1 conformations.\n",
      "WARNING:autoqchem.slurm_manager:A job with exactly the same parameters, molecule Oc1c(F)c(F)cc2c1O[B-]1(F)Oc3c(cc(F)c(F)c3O)N21, conformation 0, workflow ('opt M062X/6-31G(d) scf=(xqc,tight) integral(grid=ultrafinegrid)', 'freq M062X/6-31G(d) volume NMR pop=NPA density=current Geom=AllCheck Guess=Read integral(grid=ultrafinegrid) scf(xqc,tight)', 'TD(NStates=5, Root=1) M062X/6-31G(d) volume pop=NPA density=current Geom=AllCheck Guess=Read') already exists. Not creating a duplicate\n",
      "INFO:autoqchem.gaussian_input_generator:Generating Gaussian input files for 1 conformations.\n",
      "WARNING:autoqchem.slurm_manager:A job with exactly the same parameters, molecule CC(C)(C)c1c2c(cc(Cl)c1C(F)(F)F)N1B(O2)Oc2c1cc(Cl)c(C(F)(F)F)c2C(C)(C)C, conformation 0, workflow ('opt M062X/6-31G(d) scf=(xqc,tight) integral(grid=ultrafinegrid)', 'freq M062X/6-31G(d) volume NMR pop=NPA density=current Geom=AllCheck Guess=Read integral(grid=ultrafinegrid) scf(xqc,tight)', 'TD(NStates=5, Root=1) M062X/6-31G(d) volume pop=NPA density=current Geom=AllCheck Guess=Read') already exists. Not creating a duplicate\n",
      "INFO:autoqchem.gaussian_input_generator:Generating Gaussian input files for 1 conformations.\n",
      "WARNING:autoqchem.slurm_manager:A job with exactly the same parameters, molecule O=[N+]([O-])c1c(Cl)c(Cl)cc2c1O[B-]1(F)Oc3c(cc(Cl)c(Cl)c3[N+](=O)[O-])N21, conformation 0, workflow ('opt M062X/6-31G(d) scf=(xqc,tight) integral(grid=ultrafinegrid)', 'freq M062X/6-31G(d) volume NMR pop=NPA density=current Geom=AllCheck Guess=Read integral(grid=ultrafinegrid) scf(xqc,tight)', 'TD(NStates=5, Root=1) M062X/6-31G(d) volume pop=NPA density=current Geom=AllCheck Guess=Read') already exists. Not creating a duplicate\n",
      "INFO:autoqchem.gaussian_input_generator:Generating Gaussian input files for 1 conformations.\n",
      "WARNING:autoqchem.slurm_manager:A job with exactly the same parameters, molecule Cc1c2c(cc(C#N)c1C(C)(C)C)N1B(O2)Oc2c1cc(C#N)c(C(C)(C)C)c2C, conformation 0, workflow ('opt M062X/6-31G(d) scf=(xqc,tight) integral(grid=ultrafinegrid)', 'freq M062X/6-31G(d) volume NMR pop=NPA density=current Geom=AllCheck Guess=Read integral(grid=ultrafinegrid) scf(xqc,tight)', 'TD(NStates=5, Root=1) M062X/6-31G(d) volume pop=NPA density=current Geom=AllCheck Guess=Read') already exists. Not creating a duplicate\n",
      "INFO:autoqchem.gaussian_input_generator:Generating Gaussian input files for 1 conformations.\n",
      "WARNING:autoqchem.slurm_manager:A job with exactly the same parameters, molecule N#Cc1c(Br)c(C(F)(F)F)cc2c1OB1Oc3c(cc(C(F)(F)F)c(Br)c3C#N)N12, conformation 0, workflow ('opt M062X/6-31G(d) scf=(xqc,tight) integral(grid=ultrafinegrid)', 'freq M062X/6-31G(d) volume NMR pop=NPA density=current Geom=AllCheck Guess=Read integral(grid=ultrafinegrid) scf(xqc,tight)', 'TD(NStates=5, Root=1) M062X/6-31G(d) volume pop=NPA density=current Geom=AllCheck Guess=Read') already exists. Not creating a duplicate\n",
      "INFO:autoqchem.gaussian_input_generator:Generating Gaussian input files for 1 conformations.\n",
      "WARNING:autoqchem.slurm_manager:A job with exactly the same parameters, molecule COc1c(F)cc2c(c1C(F)(F)F)O[B-]1(F)Oc3c(cc(F)c(OC)c3C(F)(F)F)N21, conformation 0, workflow ('opt M062X/6-31G(d) scf=(xqc,tight) integral(grid=ultrafinegrid)', 'freq M062X/6-31G(d) volume NMR pop=NPA density=current Geom=AllCheck Guess=Read integral(grid=ultrafinegrid) scf(xqc,tight)', 'TD(NStates=5, Root=1) M062X/6-31G(d) volume pop=NPA density=current Geom=AllCheck Guess=Read') already exists. Not creating a duplicate\n",
      "INFO:autoqchem.gaussian_input_generator:Generating Gaussian input files for 1 conformations.\n",
      "WARNING:autoqchem.slurm_manager:A job with exactly the same parameters, molecule COc1c2c(cc(C(C)(C)C)c1C(C)(C)C)N1B(O2)Oc2c1cc(C(C)(C)C)c(C(C)(C)C)c2OC, conformation 0, workflow ('opt M062X/6-31G(d) scf=(xqc,tight) integral(grid=ultrafinegrid)', 'freq M062X/6-31G(d) volume NMR pop=NPA density=current Geom=AllCheck Guess=Read integral(grid=ultrafinegrid) scf(xqc,tight)', 'TD(NStates=5, Root=1) M062X/6-31G(d) volume pop=NPA density=current Geom=AllCheck Guess=Read') already exists. Not creating a duplicate\n",
      "INFO:autoqchem.gaussian_input_generator:Generating Gaussian input files for 1 conformations.\n",
      "WARNING:autoqchem.slurm_manager:A job with exactly the same parameters, molecule Cc1c(F)cc2c(c1C(F)(F)F)O[B-]1(F)Oc3c(cc(F)c(C)c3C(F)(F)F)N21, conformation 0, workflow ('opt M062X/6-31G(d) scf=(xqc,tight) integral(grid=ultrafinegrid)', 'freq M062X/6-31G(d) volume NMR pop=NPA density=current Geom=AllCheck Guess=Read integral(grid=ultrafinegrid) scf(xqc,tight)', 'TD(NStates=5, Root=1) M062X/6-31G(d) volume pop=NPA density=current Geom=AllCheck Guess=Read') already exists. Not creating a duplicate\n",
      "INFO:autoqchem.gaussian_input_generator:Generating Gaussian input files for 1 conformations.\n",
      "WARNING:autoqchem.slurm_manager:A job with exactly the same parameters, molecule Nc1cc2c(c(C(F)(F)F)c1F)OB1Oc3c(cc(N)c(F)c3C(F)(F)F)N12, conformation 0, workflow ('opt M062X/6-31G(d) scf=(xqc,tight) integral(grid=ultrafinegrid)', 'freq M062X/6-31G(d) volume NMR pop=NPA density=current Geom=AllCheck Guess=Read integral(grid=ultrafinegrid) scf(xqc,tight)', 'TD(NStates=5, Root=1) M062X/6-31G(d) volume pop=NPA density=current Geom=AllCheck Guess=Read') already exists. Not creating a duplicate\n",
      "INFO:autoqchem.gaussian_input_generator:Generating Gaussian input files for 1 conformations.\n",
      "WARNING:autoqchem.slurm_manager:A job with exactly the same parameters, molecule N#Cc1c([N+](=O)[O-])cc2c(c1Br)OB1Oc3c(cc([N+](=O)[O-])c(C#N)c3Br)N12, conformation 0, workflow ('opt M062X/6-31G(d) scf=(xqc,tight) integral(grid=ultrafinegrid)', 'freq M062X/6-31G(d) volume NMR pop=NPA density=current Geom=AllCheck Guess=Read integral(grid=ultrafinegrid) scf(xqc,tight)', 'TD(NStates=5, Root=1) M062X/6-31G(d) volume pop=NPA density=current Geom=AllCheck Guess=Read') already exists. Not creating a duplicate\n",
      "INFO:autoqchem.gaussian_input_generator:Generating Gaussian input files for 1 conformations.\n",
      "WARNING:autoqchem.slurm_manager:A job with exactly the same parameters, molecule Fc1cc2c(c(F)c1C(F)(F)F)OB1Oc3c(cc(F)c(C(F)(F)F)c3F)N12, conformation 0, workflow ('opt M062X/6-31G(d) scf=(xqc,tight) integral(grid=ultrafinegrid)', 'freq M062X/6-31G(d) volume NMR pop=NPA density=current Geom=AllCheck Guess=Read integral(grid=ultrafinegrid) scf(xqc,tight)', 'TD(NStates=5, Root=1) M062X/6-31G(d) volume pop=NPA density=current Geom=AllCheck Guess=Read') already exists. Not creating a duplicate\n",
      "INFO:autoqchem.gaussian_input_generator:Generating Gaussian input files for 1 conformations.\n",
      "WARNING:autoqchem.slurm_manager:A job with exactly the same parameters, molecule COc1c(C)cc2c(c1F)OB1Oc3c(cc(C)c(OC)c3F)N12, conformation 0, workflow ('opt M062X/6-31G(d) scf=(xqc,tight) integral(grid=ultrafinegrid)', 'freq M062X/6-31G(d) volume NMR pop=NPA density=current Geom=AllCheck Guess=Read integral(grid=ultrafinegrid) scf(xqc,tight)', 'TD(NStates=5, Root=1) M062X/6-31G(d) volume pop=NPA density=current Geom=AllCheck Guess=Read') already exists. Not creating a duplicate\n",
      "INFO:autoqchem.gaussian_input_generator:Generating Gaussian input files for 1 conformations.\n",
      "WARNING:autoqchem.slurm_manager:A job with exactly the same parameters, molecule COc1cc2c(c(OC)c1C)OB1Oc3c(cc(OC)c(C)c3OC)N12, conformation 0, workflow ('opt M062X/6-31G(d) scf=(xqc,tight) integral(grid=ultrafinegrid)', 'freq M062X/6-31G(d) volume NMR pop=NPA density=current Geom=AllCheck Guess=Read integral(grid=ultrafinegrid) scf(xqc,tight)', 'TD(NStates=5, Root=1) M062X/6-31G(d) volume pop=NPA density=current Geom=AllCheck Guess=Read') already exists. Not creating a duplicate\n",
      "INFO:autoqchem.gaussian_input_generator:Generating Gaussian input files for 1 conformations.\n",
      "WARNING:autoqchem.slurm_manager:A job with exactly the same parameters, molecule COc1c(C#N)cc2c(c1C(C)(C)C)OB1Oc3c(cc(C#N)c(OC)c3C(C)(C)C)N12, conformation 0, workflow ('opt M062X/6-31G(d) scf=(xqc,tight) integral(grid=ultrafinegrid)', 'freq M062X/6-31G(d) volume NMR pop=NPA density=current Geom=AllCheck Guess=Read integral(grid=ultrafinegrid) scf(xqc,tight)', 'TD(NStates=5, Root=1) M062X/6-31G(d) volume pop=NPA density=current Geom=AllCheck Guess=Read') already exists. Not creating a duplicate\n",
      "INFO:autoqchem.gaussian_input_generator:Generating Gaussian input files for 1 conformations.\n",
      "WARNING:autoqchem.slurm_manager:A job with exactly the same parameters, molecule Cc1c(N(C)C)cc2c(c1Br)O[B-]1(F)Oc3c(cc(N(C)C)c(C)c3Br)N21, conformation 0, workflow ('opt M062X/6-31G(d) scf=(xqc,tight) integral(grid=ultrafinegrid)', 'freq M062X/6-31G(d) volume NMR pop=NPA density=current Geom=AllCheck Guess=Read integral(grid=ultrafinegrid) scf(xqc,tight)', 'TD(NStates=5, Root=1) M062X/6-31G(d) volume pop=NPA density=current Geom=AllCheck Guess=Read') already exists. Not creating a duplicate\n",
      "INFO:autoqchem.gaussian_input_generator:Generating Gaussian input files for 1 conformations.\n",
      "WARNING:autoqchem.slurm_manager:A job with exactly the same parameters, molecule COc1c(F)c(N(C)C)cc2c1O[B-]1(F)Oc3c(cc(N(C)C)c(F)c3OC)N21, conformation 0, workflow ('opt M062X/6-31G(d) scf=(xqc,tight) integral(grid=ultrafinegrid)', 'freq M062X/6-31G(d) volume NMR pop=NPA density=current Geom=AllCheck Guess=Read integral(grid=ultrafinegrid) scf(xqc,tight)', 'TD(NStates=5, Root=1) M062X/6-31G(d) volume pop=NPA density=current Geom=AllCheck Guess=Read') already exists. Not creating a duplicate\n"
     ]
    }
   ],
   "source": [
    "for mol in mols_to_run:\n",
    "    sm.create_jobs_for_molecule(mol, workflow_type=\"equilibrium\")"
   ]
  },
  {
   "cell_type": "code",
   "execution_count": 6,
   "metadata": {},
   "outputs": [],
   "source": [
    "jobs = list(sm.get_jobs(slurm_status.submitted).values())\n",
    "jobs[0].status = slurm_status.created"
   ]
  },
  {
   "cell_type": "code",
   "execution_count": 7,
   "metadata": {
    "scrolled": true
   },
   "outputs": [
    {
     "data": {
      "text/html": [
       "<div>\n",
       "<style scoped>\n",
       "    .dataframe tbody tr th:only-of-type {\n",
       "        vertical-align: middle;\n",
       "    }\n",
       "\n",
       "    .dataframe tbody tr th {\n",
       "        vertical-align: top;\n",
       "    }\n",
       "\n",
       "    .dataframe thead th {\n",
       "        text-align: right;\n",
       "    }\n",
       "</style>\n",
       "<table border=\"1\" class=\"dataframe\">\n",
       "  <thead>\n",
       "    <tr style=\"text-align: right;\">\n",
       "      <th>status</th>\n",
       "      <th>created</th>\n",
       "      <th>duplicate</th>\n",
       "      <th>uploaded</th>\n",
       "    </tr>\n",
       "  </thead>\n",
       "  <tbody>\n",
       "    <tr>\n",
       "      <th>jobs</th>\n",
       "      <td>1</td>\n",
       "      <td>2</td>\n",
       "      <td>674</td>\n",
       "    </tr>\n",
       "  </tbody>\n",
       "</table>\n",
       "</div>"
      ],
      "text/plain": [
       "status  created  duplicate  uploaded\n",
       "jobs          1          2       674"
      ]
     },
     "execution_count": 7,
     "metadata": {},
     "output_type": "execute_result"
    }
   ],
   "source": [
    "sm.get_job_stats(split_by_can=False)"
   ]
  },
  {
   "cell_type": "code",
   "execution_count": 32,
   "metadata": {},
   "outputs": [],
   "source": [
    "smi_created=[]\n",
    "\n",
    "jobs_dict = sm.get_jobs(slurm_status.created)\n",
    "for key in jobs_dict.keys():    \n",
    "    can = jobs_dict[key].can\n",
    "    smi_created.append(can)\n",
    "\n",
    "\n"
   ]
  },
  {
   "cell_type": "markdown",
   "metadata": {},
   "source": [
    "### Remove Jobs"
   ]
  },
  {
   "cell_type": "code",
   "execution_count": null,
   "metadata": {
    "scrolled": true
   },
   "outputs": [],
   "source": [
    "jobs_dict = sm.get_jobs()\n",
    "smiles = [job.can for job in jobs_dict.values()]\n",
    "mols = [Chem.MolFromSmiles(smi) for smi in smiles]\n",
    "names = [job.base_name for job in jobs_dict.values()]\n",
    "Chem.Draw.MolsToGridImage(mols, subImgSize=(350,250), legends = names)"
   ]
  },
  {
   "cell_type": "code",
   "execution_count": 33,
   "metadata": {},
   "outputs": [
    {
     "name": "stderr",
     "output_type": "stream",
     "text": [
      "rm: cannot remove '/gpfswork/rech/ihj/uuo83ic/db_ONO_ar_2/LQUIWCTWZXKWPH-UHFFFAOYSA-N': No such file or directory\n"
     ]
    },
    {
     "name": "stdout",
     "output_type": "stream",
     "text": [
      "could not find remote directory for the job\n"
     ]
    },
    {
     "name": "stderr",
     "output_type": "stream",
     "text": [
      "rm: cannot remove '/gpfswork/rech/ihj/uuo83ic/db_ONO_ar_2/FBJNRETUDSUCOC-UHFFFAOYSA-N': No such file or directory\n"
     ]
    },
    {
     "name": "stdout",
     "output_type": "stream",
     "text": [
      "could not find remote directory for the job\n"
     ]
    },
    {
     "name": "stderr",
     "output_type": "stream",
     "text": [
      "rm: cannot remove '/gpfswork/rech/ihj/uuo83ic/db_ONO_ar_2/DUIAZYNYZHIDMV-UHFFFAOYSA-N': No such file or directory\n"
     ]
    },
    {
     "name": "stdout",
     "output_type": "stream",
     "text": [
      "could not find remote directory for the job\n"
     ]
    },
    {
     "name": "stderr",
     "output_type": "stream",
     "text": [
      "rm: cannot remove '/gpfswork/rech/ihj/uuo83ic/db_ONO_ar_2/QMYRJZUXBRFGKP-UHFFFAOYSA-N': No such file or directory\n"
     ]
    },
    {
     "name": "stdout",
     "output_type": "stream",
     "text": [
      "could not find remote directory for the job\n"
     ]
    },
    {
     "name": "stderr",
     "output_type": "stream",
     "text": [
      "rm: cannot remove '/gpfswork/rech/ihj/uuo83ic/db_ONO_ar_2/FSQAKDAJXXOQCM-UHFFFAOYSA-N': No such file or directory\n"
     ]
    },
    {
     "name": "stdout",
     "output_type": "stream",
     "text": [
      "could not find remote directory for the job\n"
     ]
    },
    {
     "name": "stderr",
     "output_type": "stream",
     "text": [
      "rm: cannot remove '/gpfswork/rech/ihj/uuo83ic/db_ONO_ar_2/NWMWEMAKYJGWBQ-UHFFFAOYSA-N': No such file or directory\n"
     ]
    },
    {
     "name": "stdout",
     "output_type": "stream",
     "text": [
      "could not find remote directory for the job\n"
     ]
    },
    {
     "name": "stderr",
     "output_type": "stream",
     "text": [
      "rm: cannot remove '/gpfswork/rech/ihj/uuo83ic/db_ONO_ar_2/PXSSZSGHTHVNHO-UHFFFAOYSA-N': No such file or directory\n"
     ]
    },
    {
     "name": "stdout",
     "output_type": "stream",
     "text": [
      "could not find remote directory for the job\n"
     ]
    },
    {
     "name": "stderr",
     "output_type": "stream",
     "text": [
      "rm: cannot remove '/gpfswork/rech/ihj/uuo83ic/db_ONO_ar_2/CVDUNPRFAUCANK-UHFFFAOYSA-N': No such file or directory\n"
     ]
    },
    {
     "name": "stdout",
     "output_type": "stream",
     "text": [
      "could not find remote directory for the job\n"
     ]
    },
    {
     "name": "stderr",
     "output_type": "stream",
     "text": [
      "rm: cannot remove '/gpfswork/rech/ihj/uuo83ic/db_ONO_ar_2/UELZQKLOCULIEK-UHFFFAOYSA-N': No such file or directory\n"
     ]
    },
    {
     "name": "stdout",
     "output_type": "stream",
     "text": [
      "could not find remote directory for the job\n"
     ]
    },
    {
     "name": "stderr",
     "output_type": "stream",
     "text": [
      "rm: cannot remove '/gpfswork/rech/ihj/uuo83ic/db_ONO_ar_2/WPRNHJNHXPSSLQ-UHFFFAOYSA-N': No such file or directory\n"
     ]
    },
    {
     "name": "stdout",
     "output_type": "stream",
     "text": [
      "could not find remote directory for the job\n"
     ]
    },
    {
     "name": "stderr",
     "output_type": "stream",
     "text": [
      "rm: cannot remove '/gpfswork/rech/ihj/uuo83ic/db_ONO_ar_2/NIVYLVSSFUAUBV-UHFFFAOYSA-N': No such file or directory\n"
     ]
    },
    {
     "name": "stdout",
     "output_type": "stream",
     "text": [
      "could not find remote directory for the job\n"
     ]
    },
    {
     "name": "stderr",
     "output_type": "stream",
     "text": [
      "rm: cannot remove '/gpfswork/rech/ihj/uuo83ic/db_ONO_ar_2/CMZNMBYIFJPDMI-UHFFFAOYSA-N': No such file or directory\n"
     ]
    },
    {
     "name": "stdout",
     "output_type": "stream",
     "text": [
      "could not find remote directory for the job\n"
     ]
    },
    {
     "name": "stderr",
     "output_type": "stream",
     "text": [
      "rm: cannot remove '/gpfswork/rech/ihj/uuo83ic/db_ONO_ar_2/OBOZVTNCFSTSHX-UHFFFAOYSA-N': No such file or directory\n"
     ]
    },
    {
     "name": "stdout",
     "output_type": "stream",
     "text": [
      "could not find remote directory for the job\n"
     ]
    },
    {
     "name": "stderr",
     "output_type": "stream",
     "text": [
      "rm: cannot remove '/gpfswork/rech/ihj/uuo83ic/db_ONO_ar_2/KJWSSOSNOLJHEL-UHFFFAOYSA-N': No such file or directory\n"
     ]
    },
    {
     "name": "stdout",
     "output_type": "stream",
     "text": [
      "could not find remote directory for the job\n"
     ]
    },
    {
     "name": "stderr",
     "output_type": "stream",
     "text": [
      "rm: cannot remove '/gpfswork/rech/ihj/uuo83ic/db_ONO_ar_2/HDPIEKITBGPLHZ-UHFFFAOYSA-N': No such file or directory\n"
     ]
    },
    {
     "name": "stdout",
     "output_type": "stream",
     "text": [
      "could not find remote directory for the job\n"
     ]
    },
    {
     "name": "stderr",
     "output_type": "stream",
     "text": [
      "rm: cannot remove '/gpfswork/rech/ihj/uuo83ic/db_ONO_ar_2/LCUXUBHQZBIBFK-UHFFFAOYSA-N': No such file or directory\n"
     ]
    },
    {
     "name": "stdout",
     "output_type": "stream",
     "text": [
      "could not find remote directory for the job\n"
     ]
    },
    {
     "name": "stderr",
     "output_type": "stream",
     "text": [
      "rm: cannot remove '/gpfswork/rech/ihj/uuo83ic/db_ONO_ar_2/NAFOARXSPNXXHW-UHFFFAOYSA-N': No such file or directory\n"
     ]
    },
    {
     "name": "stdout",
     "output_type": "stream",
     "text": [
      "could not find remote directory for the job\n"
     ]
    },
    {
     "name": "stderr",
     "output_type": "stream",
     "text": [
      "rm: cannot remove '/gpfswork/rech/ihj/uuo83ic/db_ONO_ar_2/XWXMBVKLNLSMJL-UHFFFAOYSA-N': No such file or directory\n"
     ]
    },
    {
     "name": "stdout",
     "output_type": "stream",
     "text": [
      "could not find remote directory for the job\n"
     ]
    },
    {
     "name": "stderr",
     "output_type": "stream",
     "text": [
      "rm: cannot remove '/gpfswork/rech/ihj/uuo83ic/db_ONO_ar_2/BWFLODFRQWVWLN-UHFFFAOYSA-N': No such file or directory\n"
     ]
    },
    {
     "name": "stdout",
     "output_type": "stream",
     "text": [
      "could not find remote directory for the job\n"
     ]
    },
    {
     "name": "stderr",
     "output_type": "stream",
     "text": [
      "rm: cannot remove '/gpfswork/rech/ihj/uuo83ic/db_ONO_ar_2/GBCIJFGJYVYKCL-UHFFFAOYSA-N': No such file or directory\n"
     ]
    },
    {
     "name": "stdout",
     "output_type": "stream",
     "text": [
      "could not find remote directory for the job\n"
     ]
    },
    {
     "name": "stderr",
     "output_type": "stream",
     "text": [
      "rm: cannot remove '/gpfswork/rech/ihj/uuo83ic/db_ONO_ar_2/CZOCWLAXOGEZQB-UHFFFAOYSA-N': No such file or directory\n"
     ]
    },
    {
     "name": "stdout",
     "output_type": "stream",
     "text": [
      "could not find remote directory for the job\n"
     ]
    },
    {
     "name": "stderr",
     "output_type": "stream",
     "text": [
      "rm: cannot remove '/gpfswork/rech/ihj/uuo83ic/db_ONO_ar_2/AFMGGUWSCBPDFU-UHFFFAOYSA-N': No such file or directory\n"
     ]
    },
    {
     "name": "stdout",
     "output_type": "stream",
     "text": [
      "could not find remote directory for the job\n"
     ]
    },
    {
     "name": "stderr",
     "output_type": "stream",
     "text": [
      "rm: cannot remove '/gpfswork/rech/ihj/uuo83ic/db_ONO_ar_2/XQYVAMXEIRFIDH-UHFFFAOYSA-N': No such file or directory\n"
     ]
    },
    {
     "name": "stdout",
     "output_type": "stream",
     "text": [
      "could not find remote directory for the job\n"
     ]
    },
    {
     "name": "stderr",
     "output_type": "stream",
     "text": [
      "rm: cannot remove '/gpfswork/rech/ihj/uuo83ic/db_ONO_ar_2/ZXUJURZDOKFHSA-UHFFFAOYSA-N': No such file or directory\n"
     ]
    },
    {
     "name": "stdout",
     "output_type": "stream",
     "text": [
      "could not find remote directory for the job\n"
     ]
    },
    {
     "name": "stderr",
     "output_type": "stream",
     "text": [
      "rm: cannot remove '/gpfswork/rech/ihj/uuo83ic/db_ONO_ar_2/YRLJJWMYDPCGQL-UHFFFAOYSA-N': No such file or directory\n"
     ]
    },
    {
     "name": "stdout",
     "output_type": "stream",
     "text": [
      "could not find remote directory for the job\n"
     ]
    },
    {
     "name": "stderr",
     "output_type": "stream",
     "text": [
      "rm: cannot remove '/gpfswork/rech/ihj/uuo83ic/db_ONO_ar_2/ULMUAEZIBPETRK-UHFFFAOYSA-N': No such file or directory\n"
     ]
    },
    {
     "name": "stdout",
     "output_type": "stream",
     "text": [
      "could not find remote directory for the job\n"
     ]
    },
    {
     "name": "stderr",
     "output_type": "stream",
     "text": [
      "rm: cannot remove '/gpfswork/rech/ihj/uuo83ic/db_ONO_ar_2/BIPJDERYDXMAAH-UHFFFAOYSA-N': No such file or directory\n"
     ]
    },
    {
     "name": "stdout",
     "output_type": "stream",
     "text": [
      "could not find remote directory for the job\n"
     ]
    },
    {
     "name": "stderr",
     "output_type": "stream",
     "text": [
      "rm: cannot remove '/gpfswork/rech/ihj/uuo83ic/db_ONO_ar_2/PEYVLPUGSOGZRY-UHFFFAOYSA-N': No such file or directory\n"
     ]
    },
    {
     "name": "stdout",
     "output_type": "stream",
     "text": [
      "could not find remote directory for the job\n"
     ]
    },
    {
     "name": "stderr",
     "output_type": "stream",
     "text": [
      "rm: cannot remove '/gpfswork/rech/ihj/uuo83ic/db_ONO_ar_2/FXIKKXMSAVSMBN-UHFFFAOYSA-N': No such file or directory\n"
     ]
    },
    {
     "name": "stdout",
     "output_type": "stream",
     "text": [
      "could not find remote directory for the job\n"
     ]
    },
    {
     "name": "stderr",
     "output_type": "stream",
     "text": [
      "rm: cannot remove '/gpfswork/rech/ihj/uuo83ic/db_ONO_ar_2/RWPJCTUWIJOLFZ-UHFFFAOYSA-N': No such file or directory\n"
     ]
    },
    {
     "name": "stdout",
     "output_type": "stream",
     "text": [
      "could not find remote directory for the job\n"
     ]
    },
    {
     "name": "stderr",
     "output_type": "stream",
     "text": [
      "rm: cannot remove '/gpfswork/rech/ihj/uuo83ic/db_ONO_ar_2/VXMZJQKKWFIQCJ-UHFFFAOYSA-N': No such file or directory\n"
     ]
    },
    {
     "name": "stdout",
     "output_type": "stream",
     "text": [
      "could not find remote directory for the job\n"
     ]
    },
    {
     "name": "stderr",
     "output_type": "stream",
     "text": [
      "rm: cannot remove '/gpfswork/rech/ihj/uuo83ic/db_ONO_ar_2/QNOOHIRZECYWSC-UHFFFAOYSA-N': No such file or directory\n"
     ]
    },
    {
     "name": "stdout",
     "output_type": "stream",
     "text": [
      "could not find remote directory for the job\n"
     ]
    },
    {
     "name": "stderr",
     "output_type": "stream",
     "text": [
      "rm: cannot remove '/gpfswork/rech/ihj/uuo83ic/db_ONO_ar_2/BEEJASGPNDGRML-UHFFFAOYSA-N': No such file or directory\n"
     ]
    },
    {
     "name": "stdout",
     "output_type": "stream",
     "text": [
      "could not find remote directory for the job\n"
     ]
    },
    {
     "name": "stderr",
     "output_type": "stream",
     "text": [
      "rm: cannot remove '/gpfswork/rech/ihj/uuo83ic/db_ONO_ar_2/CKYLJBOHJGHEGR-UHFFFAOYSA-N': No such file or directory\n"
     ]
    },
    {
     "name": "stdout",
     "output_type": "stream",
     "text": [
      "could not find remote directory for the job\n"
     ]
    },
    {
     "name": "stderr",
     "output_type": "stream",
     "text": [
      "rm: cannot remove '/gpfswork/rech/ihj/uuo83ic/db_ONO_ar_2/WNCSRZNCKODBHF-UHFFFAOYSA-N': No such file or directory\n"
     ]
    },
    {
     "name": "stdout",
     "output_type": "stream",
     "text": [
      "could not find remote directory for the job\n"
     ]
    },
    {
     "name": "stderr",
     "output_type": "stream",
     "text": [
      "rm: cannot remove '/gpfswork/rech/ihj/uuo83ic/db_ONO_ar_2/UDETVYIRKXBUEH-UHFFFAOYSA-N': No such file or directory\n"
     ]
    },
    {
     "name": "stdout",
     "output_type": "stream",
     "text": [
      "could not find remote directory for the job\n"
     ]
    },
    {
     "name": "stderr",
     "output_type": "stream",
     "text": [
      "rm: cannot remove '/gpfswork/rech/ihj/uuo83ic/db_ONO_ar_2/CXUWWJPNYOAOMV-UHFFFAOYSA-N': No such file or directory\n"
     ]
    },
    {
     "name": "stdout",
     "output_type": "stream",
     "text": [
      "could not find remote directory for the job\n"
     ]
    },
    {
     "name": "stderr",
     "output_type": "stream",
     "text": [
      "rm: cannot remove '/gpfswork/rech/ihj/uuo83ic/db_ONO_ar_2/SBTUQTAVYCHDSW-UHFFFAOYSA-N': No such file or directory\n"
     ]
    },
    {
     "name": "stdout",
     "output_type": "stream",
     "text": [
      "could not find remote directory for the job\n"
     ]
    },
    {
     "name": "stderr",
     "output_type": "stream",
     "text": [
      "rm: cannot remove '/gpfswork/rech/ihj/uuo83ic/db_ONO_ar_2/VNGDQSDRPIKUKM-UHFFFAOYSA-N': No such file or directory\n"
     ]
    },
    {
     "name": "stdout",
     "output_type": "stream",
     "text": [
      "could not find remote directory for the job\n"
     ]
    },
    {
     "name": "stderr",
     "output_type": "stream",
     "text": [
      "rm: cannot remove '/gpfswork/rech/ihj/uuo83ic/db_ONO_ar_2/FXPJYQFYMBTJDK-UHFFFAOYSA-N': No such file or directory\n"
     ]
    },
    {
     "name": "stdout",
     "output_type": "stream",
     "text": [
      "could not find remote directory for the job\n"
     ]
    },
    {
     "name": "stderr",
     "output_type": "stream",
     "text": [
      "rm: cannot remove '/gpfswork/rech/ihj/uuo83ic/db_ONO_ar_2/QZSXWFIAVLDDHI-UHFFFAOYSA-N': No such file or directory\n"
     ]
    },
    {
     "name": "stdout",
     "output_type": "stream",
     "text": [
      "could not find remote directory for the job\n"
     ]
    },
    {
     "name": "stderr",
     "output_type": "stream",
     "text": [
      "rm: cannot remove '/gpfswork/rech/ihj/uuo83ic/db_ONO_ar_2/JRDRJQNDWPKJEM-UHFFFAOYSA-N': No such file or directory\n"
     ]
    },
    {
     "name": "stdout",
     "output_type": "stream",
     "text": [
      "could not find remote directory for the job\n"
     ]
    },
    {
     "name": "stderr",
     "output_type": "stream",
     "text": [
      "rm: cannot remove '/gpfswork/rech/ihj/uuo83ic/db_ONO_ar_2/GYMRSKQVMBPBKB-UHFFFAOYSA-N': No such file or directory\n"
     ]
    },
    {
     "name": "stdout",
     "output_type": "stream",
     "text": [
      "could not find remote directory for the job\n"
     ]
    },
    {
     "name": "stderr",
     "output_type": "stream",
     "text": [
      "rm: cannot remove '/gpfswork/rech/ihj/uuo83ic/db_ONO_ar_2/MDFAMYREAOGQOS-UHFFFAOYSA-N': No such file or directory\n"
     ]
    },
    {
     "name": "stdout",
     "output_type": "stream",
     "text": [
      "could not find remote directory for the job\n"
     ]
    },
    {
     "name": "stderr",
     "output_type": "stream",
     "text": [
      "rm: cannot remove '/gpfswork/rech/ihj/uuo83ic/db_ONO_ar_2/JCTGXYDAYZUBII-UHFFFAOYSA-N': No such file or directory\n"
     ]
    },
    {
     "name": "stdout",
     "output_type": "stream",
     "text": [
      "could not find remote directory for the job\n"
     ]
    },
    {
     "name": "stderr",
     "output_type": "stream",
     "text": [
      "rm: cannot remove '/gpfswork/rech/ihj/uuo83ic/db_ONO_ar_2/SRWOZUCQUKTAGS-UHFFFAOYSA-N': No such file or directory\n"
     ]
    },
    {
     "name": "stdout",
     "output_type": "stream",
     "text": [
      "could not find remote directory for the job\n"
     ]
    },
    {
     "name": "stderr",
     "output_type": "stream",
     "text": [
      "rm: cannot remove '/gpfswork/rech/ihj/uuo83ic/db_ONO_ar_2/ABHSXAZELGTJKL-UHFFFAOYSA-N': No such file or directory\n"
     ]
    },
    {
     "name": "stdout",
     "output_type": "stream",
     "text": [
      "could not find remote directory for the job\n"
     ]
    },
    {
     "name": "stderr",
     "output_type": "stream",
     "text": [
      "rm: cannot remove '/gpfswork/rech/ihj/uuo83ic/db_ONO_ar_2/QOHUOVXEZPKZPV-UHFFFAOYSA-N': No such file or directory\n"
     ]
    },
    {
     "name": "stdout",
     "output_type": "stream",
     "text": [
      "could not find remote directory for the job\n"
     ]
    },
    {
     "name": "stderr",
     "output_type": "stream",
     "text": [
      "rm: cannot remove '/gpfswork/rech/ihj/uuo83ic/db_ONO_ar_2/SXPVHGCNGBGHLS-UHFFFAOYSA-N': No such file or directory\n"
     ]
    },
    {
     "name": "stdout",
     "output_type": "stream",
     "text": [
      "could not find remote directory for the job\n"
     ]
    },
    {
     "name": "stderr",
     "output_type": "stream",
     "text": [
      "rm: cannot remove '/gpfswork/rech/ihj/uuo83ic/db_ONO_ar_2/RYVMZDBDHOCZRW-UHFFFAOYSA-N': No such file or directory\n"
     ]
    },
    {
     "name": "stdout",
     "output_type": "stream",
     "text": [
      "could not find remote directory for the job\n"
     ]
    },
    {
     "name": "stderr",
     "output_type": "stream",
     "text": [
      "rm: cannot remove '/gpfswork/rech/ihj/uuo83ic/db_ONO_ar_2/OKNZTTPFWPZJAS-UHFFFAOYSA-N': No such file or directory\n"
     ]
    },
    {
     "name": "stdout",
     "output_type": "stream",
     "text": [
      "could not find remote directory for the job\n"
     ]
    },
    {
     "name": "stderr",
     "output_type": "stream",
     "text": [
      "rm: cannot remove '/gpfswork/rech/ihj/uuo83ic/db_ONO_ar_2/AOYYTZNUCRERKX-UHFFFAOYSA-N': No such file or directory\n"
     ]
    },
    {
     "name": "stdout",
     "output_type": "stream",
     "text": [
      "could not find remote directory for the job\n"
     ]
    },
    {
     "name": "stderr",
     "output_type": "stream",
     "text": [
      "rm: cannot remove '/gpfswork/rech/ihj/uuo83ic/db_ONO_ar_2/WRGIKIQCBFQHNQ-UHFFFAOYSA-N': No such file or directory\n"
     ]
    },
    {
     "name": "stdout",
     "output_type": "stream",
     "text": [
      "could not find remote directory for the job\n"
     ]
    },
    {
     "name": "stderr",
     "output_type": "stream",
     "text": [
      "rm: cannot remove '/gpfswork/rech/ihj/uuo83ic/db_ONO_ar_2/HKMKNQLUYBBZOQ-UHFFFAOYSA-N': No such file or directory\n"
     ]
    },
    {
     "name": "stdout",
     "output_type": "stream",
     "text": [
      "could not find remote directory for the job\n"
     ]
    },
    {
     "name": "stderr",
     "output_type": "stream",
     "text": [
      "rm: cannot remove '/gpfswork/rech/ihj/uuo83ic/db_ONO_ar_2/CDEPSXKMWROTQE-UHFFFAOYSA-N': No such file or directory\n"
     ]
    },
    {
     "name": "stdout",
     "output_type": "stream",
     "text": [
      "could not find remote directory for the job\n"
     ]
    },
    {
     "name": "stderr",
     "output_type": "stream",
     "text": [
      "rm: cannot remove '/gpfswork/rech/ihj/uuo83ic/db_ONO_ar_2/MNWQQPZATWBDRZ-UHFFFAOYSA-N': No such file or directory\n"
     ]
    },
    {
     "name": "stdout",
     "output_type": "stream",
     "text": [
      "could not find remote directory for the job\n"
     ]
    },
    {
     "name": "stderr",
     "output_type": "stream",
     "text": [
      "rm: cannot remove '/gpfswork/rech/ihj/uuo83ic/db_ONO_ar_2/CKZCMZMWEAKCKB-UHFFFAOYSA-N': No such file or directory\n"
     ]
    },
    {
     "name": "stdout",
     "output_type": "stream",
     "text": [
      "could not find remote directory for the job\n"
     ]
    },
    {
     "name": "stderr",
     "output_type": "stream",
     "text": [
      "rm: cannot remove '/gpfswork/rech/ihj/uuo83ic/db_ONO_ar_2/ODQHCPSTVILDIJ-UHFFFAOYSA-N': No such file or directory\n"
     ]
    },
    {
     "name": "stdout",
     "output_type": "stream",
     "text": [
      "could not find remote directory for the job\n"
     ]
    },
    {
     "name": "stderr",
     "output_type": "stream",
     "text": [
      "rm: cannot remove '/gpfswork/rech/ihj/uuo83ic/db_ONO_ar_2/KNAWPLACMQRQEH-UHFFFAOYSA-N': No such file or directory\n"
     ]
    },
    {
     "name": "stdout",
     "output_type": "stream",
     "text": [
      "could not find remote directory for the job\n"
     ]
    },
    {
     "name": "stderr",
     "output_type": "stream",
     "text": [
      "rm: cannot remove '/gpfswork/rech/ihj/uuo83ic/db_ONO_ar_2/QPYQNKGSBLMYMP-UHFFFAOYSA-N': No such file or directory\n"
     ]
    },
    {
     "name": "stdout",
     "output_type": "stream",
     "text": [
      "could not find remote directory for the job\n"
     ]
    },
    {
     "name": "stderr",
     "output_type": "stream",
     "text": [
      "rm: cannot remove '/gpfswork/rech/ihj/uuo83ic/db_ONO_ar_2/TUBCNLZYYRORJX-UHFFFAOYSA-N': No such file or directory\n"
     ]
    },
    {
     "name": "stdout",
     "output_type": "stream",
     "text": [
      "could not find remote directory for the job\n"
     ]
    },
    {
     "name": "stderr",
     "output_type": "stream",
     "text": [
      "rm: cannot remove '/gpfswork/rech/ihj/uuo83ic/db_ONO_ar_2/CFKPGYPXDYMGLU-UHFFFAOYSA-N': No such file or directory\n"
     ]
    },
    {
     "name": "stdout",
     "output_type": "stream",
     "text": [
      "could not find remote directory for the job\n"
     ]
    },
    {
     "name": "stderr",
     "output_type": "stream",
     "text": [
      "rm: cannot remove '/gpfswork/rech/ihj/uuo83ic/db_ONO_ar_2/DOGMVZJJTPFIRV-UHFFFAOYSA-N': No such file or directory\n"
     ]
    },
    {
     "name": "stdout",
     "output_type": "stream",
     "text": [
      "could not find remote directory for the job\n"
     ]
    },
    {
     "name": "stderr",
     "output_type": "stream",
     "text": [
      "rm: cannot remove '/gpfswork/rech/ihj/uuo83ic/db_ONO_ar_2/TVJOBXATYDQYSG-UHFFFAOYSA-N': No such file or directory\n"
     ]
    },
    {
     "name": "stdout",
     "output_type": "stream",
     "text": [
      "could not find remote directory for the job\n"
     ]
    },
    {
     "name": "stderr",
     "output_type": "stream",
     "text": [
      "rm: cannot remove '/gpfswork/rech/ihj/uuo83ic/db_ONO_ar_2/KKLPDCOYOVTABE-UHFFFAOYSA-N': No such file or directory\n"
     ]
    },
    {
     "name": "stdout",
     "output_type": "stream",
     "text": [
      "could not find remote directory for the job\n"
     ]
    },
    {
     "name": "stderr",
     "output_type": "stream",
     "text": [
      "rm: cannot remove '/gpfswork/rech/ihj/uuo83ic/db_ONO_ar_2/AGZKUSLIFHPLDQ-UHFFFAOYSA-N': No such file or directory\n"
     ]
    },
    {
     "name": "stdout",
     "output_type": "stream",
     "text": [
      "could not find remote directory for the job\n"
     ]
    },
    {
     "name": "stderr",
     "output_type": "stream",
     "text": [
      "rm: cannot remove '/gpfswork/rech/ihj/uuo83ic/db_ONO_ar_2/RZMUOPDQDNUDOP-UHFFFAOYSA-N': No such file or directory\n"
     ]
    },
    {
     "name": "stdout",
     "output_type": "stream",
     "text": [
      "could not find remote directory for the job\n"
     ]
    },
    {
     "name": "stderr",
     "output_type": "stream",
     "text": [
      "rm: cannot remove '/gpfswork/rech/ihj/uuo83ic/db_ONO_ar_2/JJLKPYAIPGPTMN-UHFFFAOYSA-N': No such file or directory\n"
     ]
    },
    {
     "name": "stdout",
     "output_type": "stream",
     "text": [
      "could not find remote directory for the job\n"
     ]
    },
    {
     "name": "stderr",
     "output_type": "stream",
     "text": [
      "rm: cannot remove '/gpfswork/rech/ihj/uuo83ic/db_ONO_ar_2/UTQHWWGEMXHDMM-UHFFFAOYSA-N': No such file or directory\n"
     ]
    },
    {
     "name": "stdout",
     "output_type": "stream",
     "text": [
      "could not find remote directory for the job\n"
     ]
    },
    {
     "name": "stderr",
     "output_type": "stream",
     "text": [
      "rm: cannot remove '/gpfswork/rech/ihj/uuo83ic/db_ONO_ar_2/IHCSOPNYCQVPTR-UHFFFAOYSA-N': No such file or directory\n"
     ]
    },
    {
     "name": "stdout",
     "output_type": "stream",
     "text": [
      "could not find remote directory for the job\n"
     ]
    },
    {
     "name": "stderr",
     "output_type": "stream",
     "text": [
      "rm: cannot remove '/gpfswork/rech/ihj/uuo83ic/db_ONO_ar_2/FOYOWOOEQXGLKD-UHFFFAOYSA-N': No such file or directory\n"
     ]
    },
    {
     "name": "stdout",
     "output_type": "stream",
     "text": [
      "could not find remote directory for the job\n"
     ]
    },
    {
     "name": "stderr",
     "output_type": "stream",
     "text": [
      "rm: cannot remove '/gpfswork/rech/ihj/uuo83ic/db_ONO_ar_2/HXOGUYDVXOPGTE-UHFFFAOYSA-N': No such file or directory\n"
     ]
    },
    {
     "name": "stdout",
     "output_type": "stream",
     "text": [
      "could not find remote directory for the job\n"
     ]
    },
    {
     "name": "stderr",
     "output_type": "stream",
     "text": [
      "rm: cannot remove '/gpfswork/rech/ihj/uuo83ic/db_ONO_ar_2/QEFNBGHSQGJWDA-UHFFFAOYSA-N': No such file or directory\n"
     ]
    },
    {
     "name": "stdout",
     "output_type": "stream",
     "text": [
      "could not find remote directory for the job\n"
     ]
    },
    {
     "name": "stderr",
     "output_type": "stream",
     "text": [
      "rm: cannot remove '/gpfswork/rech/ihj/uuo83ic/db_ONO_ar_2/RJJWKJPMJFRMQO-UHFFFAOYSA-N': No such file or directory\n"
     ]
    },
    {
     "name": "stdout",
     "output_type": "stream",
     "text": [
      "could not find remote directory for the job\n"
     ]
    },
    {
     "name": "stderr",
     "output_type": "stream",
     "text": [
      "rm: cannot remove '/gpfswork/rech/ihj/uuo83ic/db_ONO_ar_2/HHSCAIFVDPVPGG-UHFFFAOYSA-N': No such file or directory\n"
     ]
    },
    {
     "name": "stdout",
     "output_type": "stream",
     "text": [
      "could not find remote directory for the job\n"
     ]
    },
    {
     "name": "stderr",
     "output_type": "stream",
     "text": [
      "rm: cannot remove '/gpfswork/rech/ihj/uuo83ic/db_ONO_ar_2/RWFVZCOHRXDQML-UHFFFAOYSA-N': No such file or directory\n"
     ]
    },
    {
     "name": "stdout",
     "output_type": "stream",
     "text": [
      "could not find remote directory for the job\n"
     ]
    },
    {
     "name": "stderr",
     "output_type": "stream",
     "text": [
      "rm: cannot remove '/gpfswork/rech/ihj/uuo83ic/db_ONO_ar_2/QMYFSLDNDUNEQZ-UHFFFAOYSA-N': No such file or directory\n"
     ]
    },
    {
     "name": "stdout",
     "output_type": "stream",
     "text": [
      "could not find remote directory for the job\n"
     ]
    },
    {
     "name": "stderr",
     "output_type": "stream",
     "text": [
      "rm: cannot remove '/gpfswork/rech/ihj/uuo83ic/db_ONO_ar_2/XOXABZCCIBBOLE-UHFFFAOYSA-N': No such file or directory\n"
     ]
    },
    {
     "name": "stdout",
     "output_type": "stream",
     "text": [
      "could not find remote directory for the job\n"
     ]
    },
    {
     "name": "stderr",
     "output_type": "stream",
     "text": [
      "rm: cannot remove '/gpfswork/rech/ihj/uuo83ic/db_ONO_ar_2/RWSRVMZUHPWXRC-UHFFFAOYSA-N': No such file or directory\n"
     ]
    },
    {
     "name": "stdout",
     "output_type": "stream",
     "text": [
      "could not find remote directory for the job\n"
     ]
    },
    {
     "name": "stderr",
     "output_type": "stream",
     "text": [
      "rm: cannot remove '/gpfswork/rech/ihj/uuo83ic/db_ONO_ar_2/NJOCFSCWDZGESO-UHFFFAOYSA-N': No such file or directory\n"
     ]
    },
    {
     "name": "stdout",
     "output_type": "stream",
     "text": [
      "could not find remote directory for the job\n"
     ]
    },
    {
     "name": "stderr",
     "output_type": "stream",
     "text": [
      "rm: cannot remove '/gpfswork/rech/ihj/uuo83ic/db_ONO_ar_2/XQRRIMGQAFPJJR-UHFFFAOYSA-N': No such file or directory\n"
     ]
    },
    {
     "name": "stdout",
     "output_type": "stream",
     "text": [
      "could not find remote directory for the job\n"
     ]
    },
    {
     "name": "stderr",
     "output_type": "stream",
     "text": [
      "rm: cannot remove '/gpfswork/rech/ihj/uuo83ic/db_ONO_ar_2/CMRISTIOTNLDFT-UHFFFAOYSA-N': No such file or directory\n"
     ]
    },
    {
     "name": "stdout",
     "output_type": "stream",
     "text": [
      "could not find remote directory for the job\n"
     ]
    },
    {
     "name": "stderr",
     "output_type": "stream",
     "text": [
      "rm: cannot remove '/gpfswork/rech/ihj/uuo83ic/db_ONO_ar_2/JWOORSWEWIENPG-UHFFFAOYSA-N': No such file or directory\n"
     ]
    },
    {
     "name": "stdout",
     "output_type": "stream",
     "text": [
      "could not find remote directory for the job\n"
     ]
    },
    {
     "name": "stderr",
     "output_type": "stream",
     "text": [
      "rm: cannot remove '/gpfswork/rech/ihj/uuo83ic/db_ONO_ar_2/CJCRKZUOTFJTCB-UHFFFAOYSA-N': No such file or directory\n"
     ]
    },
    {
     "name": "stdout",
     "output_type": "stream",
     "text": [
      "could not find remote directory for the job\n"
     ]
    },
    {
     "name": "stderr",
     "output_type": "stream",
     "text": [
      "rm: cannot remove '/gpfswork/rech/ihj/uuo83ic/db_ONO_ar_2/LDDRTHKFIIEKPL-UHFFFAOYSA-N': No such file or directory\n"
     ]
    },
    {
     "name": "stdout",
     "output_type": "stream",
     "text": [
      "could not find remote directory for the job\n"
     ]
    },
    {
     "name": "stderr",
     "output_type": "stream",
     "text": [
      "rm: cannot remove '/gpfswork/rech/ihj/uuo83ic/db_ONO_ar_2/YJFYRFLJXQZKGV-UHFFFAOYSA-N': No such file or directory\n"
     ]
    },
    {
     "name": "stdout",
     "output_type": "stream",
     "text": [
      "could not find remote directory for the job\n"
     ]
    },
    {
     "name": "stderr",
     "output_type": "stream",
     "text": [
      "rm: cannot remove '/gpfswork/rech/ihj/uuo83ic/db_ONO_ar_2/ZOGHKKUUQIJCBT-UHFFFAOYSA-N': No such file or directory\n"
     ]
    },
    {
     "name": "stdout",
     "output_type": "stream",
     "text": [
      "could not find remote directory for the job\n"
     ]
    },
    {
     "name": "stderr",
     "output_type": "stream",
     "text": [
      "rm: cannot remove '/gpfswork/rech/ihj/uuo83ic/db_ONO_ar_2/PESPHLRZNRQUII-UHFFFAOYSA-N': No such file or directory\n"
     ]
    },
    {
     "name": "stdout",
     "output_type": "stream",
     "text": [
      "could not find remote directory for the job\n"
     ]
    },
    {
     "name": "stderr",
     "output_type": "stream",
     "text": [
      "rm: cannot remove '/gpfswork/rech/ihj/uuo83ic/db_ONO_ar_2/DKPUJZURDQEEFY-UHFFFAOYSA-N': No such file or directory\n"
     ]
    },
    {
     "name": "stdout",
     "output_type": "stream",
     "text": [
      "could not find remote directory for the job\n"
     ]
    },
    {
     "name": "stderr",
     "output_type": "stream",
     "text": [
      "rm: cannot remove '/gpfswork/rech/ihj/uuo83ic/db_ONO_ar_2/AJFSIPIGQZXWJU-UHFFFAOYSA-N': No such file or directory\n"
     ]
    },
    {
     "name": "stdout",
     "output_type": "stream",
     "text": [
      "could not find remote directory for the job\n"
     ]
    },
    {
     "name": "stderr",
     "output_type": "stream",
     "text": [
      "rm: cannot remove '/gpfswork/rech/ihj/uuo83ic/db_ONO_ar_2/FKPCSMXDAQKVJW-UHFFFAOYSA-N': No such file or directory\n"
     ]
    },
    {
     "name": "stdout",
     "output_type": "stream",
     "text": [
      "could not find remote directory for the job\n"
     ]
    },
    {
     "name": "stderr",
     "output_type": "stream",
     "text": [
      "rm: cannot remove '/gpfswork/rech/ihj/uuo83ic/db_ONO_ar_2/MKRYEQYTFSGCOV-UHFFFAOYSA-N': No such file or directory\n"
     ]
    },
    {
     "name": "stdout",
     "output_type": "stream",
     "text": [
      "could not find remote directory for the job\n"
     ]
    },
    {
     "name": "stderr",
     "output_type": "stream",
     "text": [
      "rm: cannot remove '/gpfswork/rech/ihj/uuo83ic/db_ONO_ar_2/ZLAHFHGCZABYNJ-UHFFFAOYSA-N': No such file or directory\n"
     ]
    },
    {
     "name": "stdout",
     "output_type": "stream",
     "text": [
      "could not find remote directory for the job\n"
     ]
    },
    {
     "name": "stderr",
     "output_type": "stream",
     "text": [
      "rm: cannot remove '/gpfswork/rech/ihj/uuo83ic/db_ONO_ar_2/XYBRMLPHTZPWAD-UHFFFAOYSA-N': No such file or directory\n"
     ]
    },
    {
     "name": "stdout",
     "output_type": "stream",
     "text": [
      "could not find remote directory for the job\n"
     ]
    },
    {
     "name": "stderr",
     "output_type": "stream",
     "text": [
      "rm: cannot remove '/gpfswork/rech/ihj/uuo83ic/db_ONO_ar_2/GDPWHLAKJDXEAX-UHFFFAOYSA-N': No such file or directory\n"
     ]
    },
    {
     "name": "stdout",
     "output_type": "stream",
     "text": [
      "could not find remote directory for the job\n"
     ]
    }
   ],
   "source": [
    "sm.remove_jobs(sm.get_jobs(slurm_status.created))"
   ]
  },
  {
   "cell_type": "markdown",
   "metadata": {},
   "source": [
    "### Submit the jobs to the server \n"
   ]
  },
  {
   "cell_type": "markdown",
   "metadata": {},
   "source": [
    "Check the status of the jobs on the server"
   ]
  },
  {
   "cell_type": "code",
   "execution_count": 8,
   "metadata": {},
   "outputs": [
    {
     "name": "stderr",
     "output_type": "stream",
     "text": [
      "INFO:autoqchem.slurm_manager:Submitting 1 jobs.\n"
     ]
    },
    {
     "name": "stdout",
     "output_type": "stream",
     "text": [
      "Submitted batch job 599351\n"
     ]
    },
    {
     "name": "stderr",
     "output_type": "stream",
     "text": [
      "INFO:autoqchem.slurm_manager:Submitted job f22eac315679350a0ec362b67670602b, job_id: 599351.\n"
     ]
    }
   ],
   "source": [
    "sm.submit_jobs()"
   ]
  },
  {
   "cell_type": "code",
   "execution_count": 3,
   "metadata": {},
   "outputs": [
    {
     "name": "stderr",
     "output_type": "stream",
     "text": [
      "INFO:paramiko.transport.sftp:[chan 2] Opened sftp connection (server version 3)\n"
     ]
    },
    {
     "name": "stdout",
     "output_type": "stream",
     "text": [
      "Submitted batch job 485857\n"
     ]
    },
    {
     "name": "stderr",
     "output_type": "stream",
     "text": [
      "INFO:autoqchem.slurm_manager:Submitted job 69a978718350d8e54c8637b428b6c568, job_id: 485857.\n"
     ]
    },
    {
     "name": "stdout",
     "output_type": "stream",
     "text": [
      "Submitted batch job 485863\n"
     ]
    },
    {
     "name": "stderr",
     "output_type": "stream",
     "text": [
      "INFO:autoqchem.slurm_manager:Submitted job f22eac315679350a0ec362b67670602b, job_id: 485863.\n"
     ]
    }
   ],
   "source": [
    "jobs_dict = sm.get_jobs(status=slurm_status.done)\n",
    "sm.submit_jobs_from_jobs_dict(jobs_dict)"
   ]
  },
  {
   "cell_type": "code",
   "execution_count": 60,
   "metadata": {
    "scrolled": true
   },
   "outputs": [
    {
     "data": {
      "text/html": [
       "<div>\n",
       "<style scoped>\n",
       "    .dataframe tbody tr th:only-of-type {\n",
       "        vertical-align: middle;\n",
       "    }\n",
       "\n",
       "    .dataframe tbody tr th {\n",
       "        vertical-align: top;\n",
       "    }\n",
       "\n",
       "    .dataframe thead th {\n",
       "        text-align: right;\n",
       "    }\n",
       "</style>\n",
       "<table border=\"1\" class=\"dataframe\">\n",
       "  <thead>\n",
       "    <tr style=\"text-align: right;\">\n",
       "      <th></th>\n",
       "      <th>JOBID</th>\n",
       "      <th>PARTITION</th>\n",
       "      <th>NAME</th>\n",
       "      <th>USER</th>\n",
       "      <th>ST</th>\n",
       "      <th>TIME</th>\n",
       "      <th>NODES</th>\n",
       "      <th>NODELIST(REASON)</th>\n",
       "    </tr>\n",
       "  </thead>\n",
       "  <tbody>\n",
       "    <tr>\n",
       "      <th>0</th>\n",
       "      <td>623320</td>\n",
       "      <td>cpu_p1</td>\n",
       "      <td>XOXABZCC</td>\n",
       "      <td>uuo83ic</td>\n",
       "      <td>R</td>\n",
       "      <td>6:59:55</td>\n",
       "      <td>1</td>\n",
       "      <td>r1i2n11</td>\n",
       "    </tr>\n",
       "  </tbody>\n",
       "</table>\n",
       "</div>"
      ],
      "text/plain": [
       "    JOBID PARTITION      NAME     USER ST     TIME NODES NODELIST(REASON)\n",
       "0  623320    cpu_p1  XOXABZCC  uuo83ic  R  6:59:55     1          r1i2n11"
      ]
     },
     "execution_count": 60,
     "metadata": {},
     "output_type": "execute_result"
    }
   ],
   "source": [
    "sm.squeue(summary=False)"
   ]
  },
  {
   "cell_type": "code",
   "execution_count": 19,
   "metadata": {},
   "outputs": [
    {
     "data": {
      "text/plain": [
       "<bound method slurm_manager._scancel of <autoqchem.slurm_manager.slurm_manager object at 0x7f7aa8f5ca60>>"
      ]
     },
     "execution_count": 19,
     "metadata": {},
     "output_type": "execute_result"
    }
   ],
   "source": [
    "sm._scancel"
   ]
  },
  {
   "cell_type": "markdown",
   "metadata": {},
   "source": [
    "### Retrieve jobs\n",
    "\n",
    "If there are some finished jobs the log files will be checked for completion and downloaded locally."
   ]
  },
  {
   "cell_type": "code",
   "execution_count": 8,
   "metadata": {
    "scrolled": true
   },
   "outputs": [
    {
     "name": "stderr",
     "output_type": "stream",
     "text": [
      "INFO:autoqchem.slurm_manager:There are 0 running/pending jobs, 1 finished jobs.\n",
      "INFO:autoqchem.slurm_manager:Retrieving log files of finished jobs.\n",
      "INFO:paramiko.transport.sftp:[chan 2] Opened sftp connection (server version 3)\n",
      "WARNING:autoqchem.slurm_manager:Job XOXABZCCIBBOLE-UHFFFAOYSA-N_conf_0 failed - the log file does not contain geometry. Cannot resubmit.\n",
      "INFO:autoqchem.slurm_manager:0 jobs finished successfully (all Gaussian steps finished normally). 1 jobs failed.\n"
     ]
    }
   ],
   "source": [
    "sm.retrieve_jobs()"
   ]
  },
  {
   "cell_type": "code",
   "execution_count": 6,
   "metadata": {
    "scrolled": false
   },
   "outputs": [
    {
     "data": {
      "text/html": [
       "<div>\n",
       "<style scoped>\n",
       "    .dataframe tbody tr th:only-of-type {\n",
       "        vertical-align: middle;\n",
       "    }\n",
       "\n",
       "    .dataframe tbody tr th {\n",
       "        vertical-align: top;\n",
       "    }\n",
       "\n",
       "    .dataframe thead th {\n",
       "        text-align: right;\n",
       "    }\n",
       "</style>\n",
       "<table border=\"1\" class=\"dataframe\">\n",
       "  <thead>\n",
       "    <tr style=\"text-align: right;\">\n",
       "      <th>status</th>\n",
       "      <th>duplicate</th>\n",
       "      <th>incomplete</th>\n",
       "      <th>uploaded</th>\n",
       "    </tr>\n",
       "  </thead>\n",
       "  <tbody>\n",
       "    <tr>\n",
       "      <th>jobs</th>\n",
       "      <td>2</td>\n",
       "      <td>1</td>\n",
       "      <td>674</td>\n",
       "    </tr>\n",
       "  </tbody>\n",
       "</table>\n",
       "</div>"
      ],
      "text/plain": [
       "status  duplicate  incomplete  uploaded\n",
       "jobs            2           1       674"
      ]
     },
     "execution_count": 6,
     "metadata": {},
     "output_type": "execute_result"
    }
   ],
   "source": [
    "sm.get_job_stats(split_by_can=False)"
   ]
  },
  {
   "cell_type": "code",
   "execution_count": 7,
   "metadata": {},
   "outputs": [],
   "source": [
    "jobs_failed = sm.get_jobs(slurm_status.incomplete)\n",
    "for j in jobs_failed.values() : \n",
    "    j.status = slurm_status.submitted"
   ]
  },
  {
   "cell_type": "code",
   "execution_count": 11,
   "metadata": {},
   "outputs": [
    {
     "data": {
      "image/png": "[encoded data removed]",
      "text/plain": [
       "<IPython.core.display.Image object>"
      ]
     },
     "execution_count": 11,
     "metadata": {},
     "output_type": "execute_result"
    }
   ],
   "source": [
    "smiles_failed = [ job.can for job in jobs_failed.values()]\n",
    "names = [job.base_name for job in jobs_failed.values()]\n",
    "mols_failed = [Chem.MolFromSmiles(smi) for smi in smiles_failed]\n",
    "Chem.Draw.MolsToGridImage(mols_failed, legends = names)"
   ]
  },
  {
   "cell_type": "code",
   "execution_count": 23,
   "metadata": {},
   "outputs": [],
   "source": [
    "job_submitted =['DJCCAWRKUQTDOS-UHFFFAOYSA-N_conf_0', 'RWQQIHBQZJQOTF-UHFFFAOYSA-N_conf_0']\n",
    "for job in jobs_failed.values():\n",
    "    if job.base_name in job_submitted : \n",
    "        job.status = slurm_status.submitted"
   ]
  },
  {
   "cell_type": "code",
   "execution_count": 6,
   "metadata": {},
   "outputs": [
    {
     "ename": "NameError",
     "evalue": "name 'jobs_failed' is not defined",
     "output_type": "error",
     "traceback": [
      "\u001b[0;31m---------------------------------------------------------------------------\u001b[0m",
      "\u001b[0;31mNameError\u001b[0m                                 Traceback (most recent call last)",
      "Input \u001b[0;32mIn [6]\u001b[0m, in \u001b[0;36m<cell line: 1>\u001b[0;34m()\u001b[0m\n\u001b[0;32m----> 1\u001b[0m \u001b[38;5;28;01mfor\u001b[39;00m job \u001b[38;5;129;01min\u001b[39;00m \u001b[43mjobs_failed\u001b[49m\u001b[38;5;241m.\u001b[39mvalues():\n\u001b[1;32m      2\u001b[0m     job\u001b[38;5;241m.\u001b[39mstatus \u001b[38;5;241m=\u001b[39m slurm_status\u001b[38;5;241m.\u001b[39mincomplete\n",
      "\u001b[0;31mNameError\u001b[0m: name 'jobs_failed' is not defined"
     ]
    }
   ],
   "source": [
    "sm.get_jobs(can = )\n",
    "for job in jobs_failed.values():\n",
    "    job.status = slurm_status.incomplete"
   ]
  },
  {
   "cell_type": "code",
   "execution_count": 6,
   "metadata": {},
   "outputs": [
    {
     "data": {
      "text/plain": [
       "{'f22eac315679350a0ec362b67670602b': slurm_job(can='COc1cc2c(c(OC)c1C)OB1Oc3c(cc(OC)c(C)c3OC)N12', inchi='InChI=1S/C18H20BNO6/c1-9-13(21-3)7-11-17(15(9)23-5)25-19-20(11)12-8-14(22-4)10(2)16(24-6)18(12)26-19/h7-8H,1-6H3', inchikey='XOXABZCCIBBOLE-UHFFFAOYSA-N', elements=['C', 'O', 'C', 'C', 'C', 'C', 'C', 'O', 'C', 'C', 'C', 'O', 'B', 'O', 'C', 'C', 'C', 'C', 'O', 'C', 'C', 'C', 'C', 'O', 'C', 'N', 'H', 'H', 'H', 'H', 'H', 'H', 'H', 'H', 'H', 'H', 'H', 'H', 'H', 'H', 'H', 'H', 'H', 'H', 'H', 'H'], charges=array([0, 0, 0, 0, 0, 0, 0, 0, 0, 0, 0, 0, 0, 0, 0, 0, 0, 0, 0, 0, 0, 0,\n",
       "        0, 0, 0, 0, 0, 0, 0, 0, 0, 0, 0, 0, 0, 0, 0, 0, 0, 0, 0, 0, 0, 0,\n",
       "        0, 0]), connectivity_matrix=array([[0., 1., 0., ..., 0., 0., 0.],\n",
       "        [1., 0., 1., ..., 0., 0., 0.],\n",
       "        [0., 1., 0., ..., 0., 0., 0.],\n",
       "        ...,\n",
       "        [0., 0., 0., ..., 0., 0., 0.],\n",
       "        [0., 0., 0., ..., 0., 0., 0.],\n",
       "        [0., 0., 0., ..., 0., 0., 0.]]), conformation=0, max_num_conformers=1, conformer_engine='rdkit', tasks=('opt M062X/6-31G(d) scf=(xqc,tight) integral(grid=ultrafinegrid)', 'freq M062X/6-31G(d) volume NMR pop=NPA density=current Geom=AllCheck Guess=Read integral(grid=ultrafinegrid) scf(xqc,tight)', 'TD(NStates=5, Root=1) M062X/6-31G(d) volume pop=NPA density=current Geom=AllCheck Guess=Read'), config={'theory': 'M062X', 'solvent': 'None', 'light_basis_set': '6-31G(d)', 'heavy_basis_set': 'LANL2DZ', 'generic_basis_set': 'genecp', 'max_light_atomic_number': 36}, job_id='599351', directory='/home/jfenogli/.local/share/jean-zay/db_ONO_ar_2/XOXABZCCIBBOLE-UHFFFAOYSA-N', remote_dir='/gpfswork/rech/ihj/uuo83ic/db_ONO_ar_2/XOXABZCCIBBOLE-UHFFFAOYSA-N', base_name='XOXABZCCIBBOLE-UHFFFAOYSA-N_conf_0', status=<slurm_status.failed: 4>, n_submissions=8, n_success_tasks=0)}"
      ]
     },
     "execution_count": 6,
     "metadata": {},
     "output_type": "execute_result"
    }
   ],
   "source": [
    "sm.get_jobs(slurm_status.failed)"
   ]
  },
  {
   "cell_type": "markdown",
   "metadata": {},
   "source": [
    "### Resubmit incomplete jobs"
   ]
  },
  {
   "cell_type": "code",
   "execution_count": null,
   "metadata": {},
   "outputs": [],
   "source": [
    "#### sm.resubmit_incomplete_jobs()"
   ]
  },
  {
   "cell_type": "code",
   "execution_count": 3,
   "metadata": {},
   "outputs": [
    {
     "name": "stderr",
     "output_type": "stream",
     "text": [
      "INFO:autoqchem.slurm_manager:Substituting last checked geometry in the new input file.\n"
     ]
    },
    {
     "ename": "IndexError",
     "evalue": "no such group",
     "output_type": "error",
     "traceback": [
      "\u001b[0;31m---------------------------------------------------------------------------\u001b[0m",
      "\u001b[0;31mIndexError\u001b[0m                                Traceback (most recent call last)",
      "Input \u001b[0;32mIn [3]\u001b[0m, in \u001b[0;36m<cell line: 1>\u001b[0;34m()\u001b[0m\n\u001b[0;32m----> 1\u001b[0m \u001b[43msm\u001b[49m\u001b[38;5;241;43m.\u001b[39;49m\u001b[43mresubmit_incomplete_jobs\u001b[49m\u001b[43m(\u001b[49m\u001b[43mwall_time\u001b[49m\u001b[38;5;241;43m=\u001b[39;49m\u001b[38;5;124;43m\"\u001b[39;49m\u001b[38;5;124;43m48:59:00\u001b[39;49m\u001b[38;5;124;43m\"\u001b[39;49m\u001b[43m)\u001b[49m\n",
      "File \u001b[0;32m~/FIA/autoqchem/slurm_manager.py:335\u001b[0m, in \u001b[0;36mslurm_manager.resubmit_incomplete_jobs\u001b[0;34m(self, wall_time)\u001b[0m\n\u001b[1;32m    333\u001b[0m \u001b[38;5;28;01mwith\u001b[39;00m \u001b[38;5;28mopen\u001b[39m(job_sh, \u001b[38;5;124m\"\u001b[39m\u001b[38;5;124mr\u001b[39m\u001b[38;5;124m\"\u001b[39m) \u001b[38;5;28;01mas\u001b[39;00m f:\n\u001b[1;32m    334\u001b[0m     file_string \u001b[38;5;241m=\u001b[39m f\u001b[38;5;241m.\u001b[39mread()\n\u001b[0;32m--> 335\u001b[0m old_wall_time \u001b[38;5;241m=\u001b[39m \u001b[43mre\u001b[49m\u001b[38;5;241;43m.\u001b[39;49m\u001b[43msearch\u001b[49m\u001b[43m(\u001b[49m\u001b[38;5;124;43mf\u001b[39;49m\u001b[38;5;124;43m\"\u001b[39;49m\u001b[38;5;124;43m#SBATCH --time=\u001b[39;49m\u001b[38;5;124;43m\\\u001b[39;49m\u001b[38;5;124;43md\u001b[39;49m\u001b[38;5;124;43m\\\u001b[39;49m\u001b[38;5;124;43md:\u001b[39;49m\u001b[38;5;124;43m\\\u001b[39;49m\u001b[38;5;124;43md\u001b[39;49m\u001b[38;5;124;43m\\\u001b[39;49m\u001b[38;5;124;43md:\u001b[39;49m\u001b[38;5;124;43m\\\u001b[39;49m\u001b[38;5;124;43md\u001b[39;49m\u001b[38;5;124;43m\\\u001b[39;49m\u001b[38;5;124;43md\u001b[39;49m\u001b[38;5;124;43m\"\u001b[39;49m\u001b[43m,\u001b[49m\u001b[43m \u001b[49m\u001b[43mfile_string\u001b[49m\u001b[43m)\u001b[49m\u001b[38;5;241;43m.\u001b[39;49m\u001b[43mgroup\u001b[49m\u001b[43m(\u001b[49m\u001b[38;5;241;43m1\u001b[39;49m\u001b[43m)\u001b[49m\n\u001b[1;32m    336\u001b[0m file_string \u001b[38;5;241m=\u001b[39m file_string\u001b[38;5;241m.\u001b[39mreplace(old_wall_time, wall_time)\n\u001b[1;32m    337\u001b[0m \u001b[38;5;28;01mwith\u001b[39;00m \u001b[38;5;28mopen\u001b[39m(job_sh, \u001b[38;5;124m\"\u001b[39m\u001b[38;5;124mw\u001b[39m\u001b[38;5;124m\"\u001b[39m) \u001b[38;5;28;01mas\u001b[39;00m f:\n",
      "\u001b[0;31mIndexError\u001b[0m: no such group"
     ]
    }
   ],
   "source": [
    "sm.resubmit_incomplete_jobs()"
   ]
  },
  {
   "cell_type": "code",
   "execution_count": 7,
   "metadata": {},
   "outputs": [],
   "source": [
    "jobs = sm.get_jobs(can = 'N#Cc1c([N+](=O)[O-])cc2c(c1C#N)OB1Oc3c(cc([N+](=O)[O-])c(C#N)c3C#N)N12')\n",
    "for job in jobs.values():\n",
    "    job.status = slurm_status.submitted"
   ]
  },
  {
   "cell_type": "code",
   "execution_count": 9,
   "metadata": {},
   "outputs": [
    {
     "data": {
      "text/html": [
       "<div>\n",
       "<style scoped>\n",
       "    .dataframe tbody tr th:only-of-type {\n",
       "        vertical-align: middle;\n",
       "    }\n",
       "\n",
       "    .dataframe tbody tr th {\n",
       "        vertical-align: top;\n",
       "    }\n",
       "\n",
       "    .dataframe thead th {\n",
       "        text-align: right;\n",
       "    }\n",
       "</style>\n",
       "<table border=\"1\" class=\"dataframe\">\n",
       "  <thead>\n",
       "    <tr style=\"text-align: right;\">\n",
       "      <th>status</th>\n",
       "      <th>done</th>\n",
       "      <th>duplicate</th>\n",
       "      <th>submitted</th>\n",
       "      <th>uploaded</th>\n",
       "    </tr>\n",
       "  </thead>\n",
       "  <tbody>\n",
       "    <tr>\n",
       "      <th>jobs</th>\n",
       "      <td>1</td>\n",
       "      <td>2</td>\n",
       "      <td>1</td>\n",
       "      <td>673</td>\n",
       "    </tr>\n",
       "  </tbody>\n",
       "</table>\n",
       "</div>"
      ],
      "text/plain": [
       "status  done  duplicate  submitted  uploaded\n",
       "jobs       1          2          1       673"
      ]
     },
     "execution_count": 9,
     "metadata": {},
     "output_type": "execute_result"
    }
   ],
   "source": [
    "sm.get_job_stats()"
   ]
  },
  {
   "cell_type": "markdown",
   "metadata": {},
   "source": [
    "### Reorganization energy jobs"
   ]
  },
  {
   "cell_type": "code",
   "execution_count": 2,
   "metadata": {},
   "outputs": [
    {
     "name": "stdout",
     "output_type": "stream",
     "text": [
      "folder name of remote directory: db_ONO_ar_2\n"
     ]
    }
   ],
   "source": [
    "from reorganization_energy_utils import *"
   ]
  },
  {
   "cell_type": "code",
   "execution_count": 15,
   "metadata": {},
   "outputs": [],
   "source": [
    "for smi in smiles_AL[50:]:\n",
    "    create_reorg_geom_input_files(smi)"
   ]
  },
  {
   "cell_type": "code",
   "execution_count": null,
   "metadata": {
    "scrolled": true
   },
   "outputs": [],
   "source": [
    "for smi in smiles_AL[50:]:\n",
    "    submit_pyramid_spe_calc(smi)"
   ]
  },
  {
   "cell_type": "code",
   "execution_count": null,
   "metadata": {
    "scrolled": true
   },
   "outputs": [],
   "source": [
    "for smi in smiles_AL[50:]:\n",
    "    retrieve_pyramid_log_file(smi)"
   ]
  },
  {
   "cell_type": "markdown",
   "metadata": {},
   "source": [
    "### Compute FIA"
   ]
  },
  {
   "cell_type": "code",
   "execution_count": 6,
   "metadata": {},
   "outputs": [
    {
     "name": "stderr",
     "output_type": "stream",
     "text": [
      "WARNING:deepchem.models:Skipped loading some PyTorch models, missing a dependency. No module named 'torch'\n",
      "WARNING:deepchem.models:Skipped loading modules with pytorch-geometric dependency, missing a dependency. No module named 'torch'\n",
      "WARNING:deepchem.models:Skipped loading modules with pytorch-lightning dependency, missing a dependency. No module named 'torch'\n",
      "WARNING:deepchem.models:Skipped loading some Jax models, missing a dependency. No module named 'jax'\n"
     ]
    }
   ],
   "source": [
    "from compute_FIA_HIA_utils import *\n",
    "from autoqchem.db_functions import *\n",
    "from scripts.machine_learning_utils import *"
   ]
  },
  {
   "cell_type": "code",
   "execution_count": 7,
   "metadata": {
    "scrolled": false
   },
   "outputs": [
    {
     "name": "stderr",
     "output_type": "stream",
     "text": [
      "/home/jfenogli/FIA/autoqchem/db_functions.py:216: FutureWarning: Indexing with multiple keys (implicitly converted to a tuple of keys) will be deprecated, use a list instead.\n",
      "  df = pd.concat([grouped['metadata', 'molecule_id', 'name'].first(),\n",
      "/home/jfenogli/FIA/autoqchem/db_functions.py:216: FutureWarning: Indexing with multiple keys (implicitly converted to a tuple of keys) will be deprecated, use a list instead.\n",
      "  df = pd.concat([grouped['metadata', 'molecule_id', 'name'].first(),\n"
     ]
    }
   ],
   "source": [
    "mol_df_ONO = db_select_molecules(tags=[\"boron_LA_ONO_ar_2\"])\n",
    "\n",
    "data_ONO = descriptors([\"boron_LA_ONO_ar_2\"], presets=['global', 'substructure'], \n",
    "            conf_option='mean', \n",
    "            solvent='None', \n",
    "            functional='M062X', \n",
    "            basis_set=\"6-31G(d)\",\n",
    "            substructure='B')\n",
    "data_ONO = LA_only(data_ONO)\n",
    "\n",
    "smiles_ONO = []\n",
    "for i in mol_df_ONO.axes[0]:\n",
    "    smiles_ONO.append(mol_df_ONO.at[i,'can'])\n",
    "\n",
    "smi_to_rm = []\n",
    "for smi in smiles_ONO : \n",
    "    if '[B-]' in smi :\n",
    "        smi_to_rm.append(smi)\n",
    "    if '[BH-]' in smi :\n",
    "        smi_to_rm.append(smi)\n",
    "for smi in smi_to_rm :\n",
    "    smiles_ONO.remove(smi)\n",
    "    \n",
    "smiles = smiles_ONO"
   ]
  },
  {
   "cell_type": "code",
   "execution_count": 8,
   "metadata": {},
   "outputs": [
    {
     "data": {
      "text/plain": [
       "276"
      ]
     },
     "execution_count": 8,
     "metadata": {},
     "output_type": "execute_result"
    }
   ],
   "source": [
    "len(smiles)"
   ]
  },
  {
   "cell_type": "code",
   "execution_count": 7,
   "metadata": {
    "scrolled": true
   },
   "outputs": [],
   "source": [
    "FIA = list_FIA(smiles)"
   ]
  },
  {
   "cell_type": "code",
   "execution_count": 8,
   "metadata": {},
   "outputs": [
    {
     "data": {
      "text/plain": [
       "[416.679895658046,\n",
       " 379.5528548564762,\n",
       " 382.61626223661005,\n",
       " 410.1484388075769,\n",
       " 378.32020876556635,\n",
       " 477.6998809436336,\n",
       " 384.6726327575743,\n",
       " 399.27928806096315,\n",
       " 368.04536624532193,\n",
       " 388.5450617680326,\n",
       " 374.3289233651012,\n",
       " 407.1945147877559,\n",
       " 427.0018133968115,\n",
       " 351.5901487627998,\n",
       " 405.06633683666587,\n",
       " 365.206045310013,\n",
       " 389.96616626065224,\n",
       " 374.32254339940846,\n",
       " 433.8435518583283,\n",
       " 405.6169567378238,\n",
       " 380.62072455510497,\n",
       " 429.0131303342059,\n",
       " 356.5237786974758,\n",
       " 353.6690198201686,\n",
       " 326.2632610825822,\n",
       " 354.17910199891776,\n",
       " 357.8800333328545,\n",
       " 445.8117369906977,\n",
       " 441.0850227251649,\n",
       " 477.33603912685066,\n",
       " 436.10037931986153,\n",
       " 398.23244862258434,\n",
       " 382.4888729667291,\n",
       " 335.4979854458943,\n",
       " 416.244535212405,\n",
       " 346.79364870209247,\n",
       " 326.2165796896443,\n",
       " 332.1576928170398,\n",
       " 417.5457856217399,\n",
       " 430.81222809292376,\n",
       " 460.36309925839305,\n",
       " 343.3187466766685,\n",
       " 385.1091746762395,\n",
       " 365.6133654117584,\n",
       " 313.24377316143364,\n",
       " 444.9250793159008,\n",
       " 403.4820312494412,\n",
       " 396.37041762378067,\n",
       " 386.4749861350283,\n",
       " 435.52145652566105,\n",
       " 377.04833770543337,\n",
       " 371.2182832369581,\n",
       " 306.86428026482463,\n",
       " 345.44713466987014,\n",
       " 329.31348844990134,\n",
       " 333.7807324072346,\n",
       " 407.31452640146017,\n",
       " 371.03389435913414,\n",
       " 356.9477444700897,\n",
       " 340.14165251515806,\n",
       " 400.5737384222448,\n",
       " 376.39269779622555,\n",
       " 389.1735802590847,\n",
       " 453.21885066479445,\n",
       " 426.23296191729605,\n",
       " 372.82398664951324,\n",
       " 369.9086312279105,\n",
       " 421.2423848826438,\n",
       " 362.4789907615632,\n",
       " 379.47432614769787,\n",
       " 388.5806372957304,\n",
       " 376.4559460962191,\n",
       " 411.89279488567263,\n",
       " 348.83731180243194,\n",
       " 395.1836915332824,\n",
       " 337.52938746102154,\n",
       " 382.6474531777203,\n",
       " 350.23541691340506,\n",
       " 396.97157840430737,\n",
       " 349.6779969660565,\n",
       " 419.7298342175782,\n",
       " 388.59300340153277,\n",
       " 345.20466972514987,\n",
       " 420.5686815343797,\n",
       " 377.42811631038785,\n",
       " 443.71354225091636,\n",
       " 347.91371334251016,\n",
       " 360.6538217877969,\n",
       " 353.82229652255774,\n",
       " 416.380641143769,\n",
       " 375.8527899356559,\n",
       " 420.8500563893467,\n",
       " 388.3064563088119,\n",
       " 364.53016279358417,\n",
       " 356.2165164090693,\n",
       " 328.0186180071905,\n",
       " 335.0753586795181,\n",
       " 'missing correctedH_mol',\n",
       " 446.39643588475883,\n",
       " 400.3803178248927,\n",
       " 376.5360501082614,\n",
       " 330.5633840756491,\n",
       " 339.17297684121877,\n",
       " 326.04094947874546,\n",
       " 337.80446374230087,\n",
       " 445.8410375714302,\n",
       " 402.82770409062505,\n",
       " 451.0974202528596,\n",
       " 371.9059279933572,\n",
       " 349.8591302251443,\n",
       " 394.352851995267,\n",
       " 434.2600087011233,\n",
       " 461.0338357947767,\n",
       " 371.22337670996785,\n",
       " 348.49770335294306,\n",
       " 406.01968221366405,\n",
       " 372.1462137727067,\n",
       " 408.5683340234682,\n",
       " 374.92879765015095,\n",
       " 361.1936508845538,\n",
       " 384.2095470316708,\n",
       " 380.8964020758867,\n",
       " 330.3379586292431,\n",
       " 355.6565497275442,\n",
       " 327.21148673444986,\n",
       " 392.86041266005486,\n",
       " 352.7257563630119,\n",
       " 420.39004249777645,\n",
       " 500.41507855430245,\n",
       " 416.0545277632773,\n",
       " 362.9203636003658,\n",
       " 332.65286215394735,\n",
       " 375.0686580464244,\n",
       " 372.63563326653093,\n",
       " 312.4457024903968,\n",
       " 401.56121530383825,\n",
       " 416.6352358981967,\n",
       " 412.6525358790532,\n",
       " 488.8687062850222,\n",
       " 387.3426089314744,\n",
       " 375.6727856416255,\n",
       " 411.66282732319087,\n",
       " 387.72320144064724,\n",
       " 366.681576423347,\n",
       " 329.00186783168465,\n",
       " 357.7031271327287,\n",
       " 363.6025473186746,\n",
       " 343.5724750170484,\n",
       " 406.44777002185583,\n",
       " 358.4134037019685,\n",
       " 379.07412115111947,\n",
       " 486.16438856814057,\n",
       " 408.98450206033885,\n",
       " 398.03648128546774,\n",
       " 374.2983625382185,\n",
       " 336.5664590075612,\n",
       " 387.1686170324683,\n",
       " 332.604237889871,\n",
       " 321.13169206120074,\n",
       " 430.0932348622009,\n",
       " 332.37260313518345,\n",
       " 333.955485700164,\n",
       " 415.7594661740586,\n",
       " 350.8241590792313,\n",
       " 385.7434167591855,\n",
       " 356.3937928089872,\n",
       " 356.9943077163771,\n",
       " 419.29016795381904,\n",
       " 410.7059900276363,\n",
       " 437.84906747192144,\n",
       " 411.18860947713256,\n",
       " 409.5875006914139,\n",
       " 479.68620312027633,\n",
       " 475.35336639359593,\n",
       " 393.126428341493,\n",
       " 439.43476457428187,\n",
       " 424.9353346992284,\n",
       " 392.1984715508297,\n",
       " 429.30175156891346,\n",
       " 433.69497480243444,\n",
       " 400.78338461369276,\n",
       " 450.3949939236045,\n",
       " 433.9616468548775,\n",
       " 399.83303230814636,\n",
       " 401.7366774789989,\n",
       " 381.9184567919001,\n",
       " 431.33026553783566,\n",
       " 415.63166470173746,\n",
       " 384.22852939832956,\n",
       " 357.2106988178566,\n",
       " 365.2610311591998,\n",
       " 360.34686930757016,\n",
       " 495.18497713282704,\n",
       " 467.0511671938002,\n",
       " 478.5528534492478,\n",
       " 481.69657487794757,\n",
       " 467.6758262012154,\n",
       " 437.59536538645625,\n",
       " 416.4074212452397,\n",
       " 421.92995087616146,\n",
       " 392.2568364208564,\n",
       " 472.8539164606482,\n",
       " 521.3218316286802,\n",
       " 564.1994530027732,\n",
       " 499.32378939539194,\n",
       " 507.91636892128736,\n",
       " 458.4867855384946,\n",
       " 442.96606234274805,\n",
       " 420.64077776670456,\n",
       " 478.9569966942072,\n",
       " 480.22264532372355,\n",
       " 491.785715771839,\n",
       " 404.22651808615774,\n",
       " 449.6061361320317,\n",
       " 423.73984731547534,\n",
       " 420.41288434993476,\n",
       " 422.3564082477242,\n",
       " 396.28973599895835,\n",
       " 419.05116866901517,\n",
       " 442.065909598954,\n",
       " 347.6415277356282,\n",
       " 499.0737892668694,\n",
       " 364.67228111997247,\n",
       " 347.88325753994286,\n",
       " 420.30439868196845,\n",
       " 393.2496693218127,\n",
       " 398.15158321522176,\n",
       " 384.6777787376195,\n",
       " 331.0223477659747,\n",
       " 385.2290287595242,\n",
       " 336.0932651069015,\n",
       " 447.0690102716908,\n",
       " 379.1614715429023,\n",
       " 355.0081036873162,\n",
       " 316.15976395457983,\n",
       " 324.53554017469287,\n",
       " 362.2638310212642,\n",
       " 349.51568854413927,\n",
       " 332.13544695451856,\n",
       " 327.40731754433364,\n",
       " 470.74141274020076,\n",
       " 482.7018789034337,\n",
       " 476.5952279865742,\n",
       " 487.329716832377,\n",
       " 446.6690415740013,\n",
       " 496.4820267446339,\n",
       " 483.25992897246033,\n",
       " 484.07102474942803,\n",
       " 486.2161371782422,\n",
       " 478.9567866548896,\n",
       " 571.8716634325683,\n",
       " 462.8486602976918,\n",
       " 430.7390028918162,\n",
       " 429.78928070515394,\n",
       " 431.13912912178785,\n",
       " 403.2549517415464,\n",
       " 415.12097865715623,\n",
       " 429.66837642062455,\n",
       " 404.78028858918697,\n",
       " 396.82418282330036,\n",
       " 382.8050094442442,\n",
       " 371.5334745384753,\n",
       " 372.821965014562,\n",
       " 371.3928002361208,\n",
       " 368.4901784900576,\n",
       " 395.2522170878947,\n",
       " 375.9978488218039,\n",
       " 374.65548307914287,\n",
       " 378.4557108338922,\n",
       " 358.92261946573853,\n",
       " 331.10349935106933,\n",
       " 340.49760207906365,\n",
       " 370.98478700313717,\n",
       " 335.03981728293,\n",
       " 335.03981728293,\n",
       " 335.03981728293]"
      ]
     },
     "execution_count": 8,
     "metadata": {},
     "output_type": "execute_result"
    }
   ],
   "source": [
    "FIA"
   ]
  },
  {
   "cell_type": "code",
   "execution_count": 11,
   "metadata": {},
   "outputs": [
    {
     "name": "stderr",
     "output_type": "stream",
     "text": [
      "[12:39:21] WARNING: not removing hydrogen atom without neighbors\n"
     ]
    }
   ],
   "source": [
    "HIA = list_HIA(smiles)"
   ]
  },
  {
   "cell_type": "code",
   "execution_count": null,
   "metadata": {},
   "outputs": [],
   "source": [
    "FIA_str = []\n",
    "for fia in FIA : \n",
    "    if type(fia) != str :\n",
    "        fia = round(fia,3)\n",
    "    FIA_str.append(str(fia))\n",
    "mols = []\n",
    "for i in range(len(smiles_ONO)):\n",
    "    mols.append(Chem.MolFromSmiles(smiles_ONO[i]))\n",
    "    #mols.append(Chem.MolFromSmiles(smiles_F[i]))            \n",
    "Chem.Draw.MolsToGridImage(mols, molsPerRow=10, subImgSize=(400,500), legends = FIA_str, maxMols=200)"
   ]
  },
  {
   "cell_type": "code",
   "execution_count": 9,
   "metadata": {},
   "outputs": [],
   "source": [
    "## write csv\n",
    "\n",
    "os.chdir('/home/jfenogli/FIA')\n",
    "import csv \n",
    "\n",
    "csv_file = \"table_smiles_FIA_db_ONO_ar_2_extended.csv\"\n",
    "\n",
    "rows = []\n",
    "smiles = smiles_ONO\n",
    "for i in range(len(smiles)):\n",
    "    if isinstance(FIA[i], float): rows.append([smiles[i], FIA[i]])\n",
    "    \n",
    "with open(csv_file, 'w') as csvfile :\n",
    "    csvwriter = csv.writer(csvfile) \n",
    "    csvwriter.writerow(['SMILES', 'FIA'])\n",
    "    csvwriter.writerows(rows)"
   ]
  },
  {
   "cell_type": "code",
   "execution_count": 10,
   "metadata": {
    "scrolled": true
   },
   "outputs": [
    {
     "name": "stdout",
     "output_type": "stream",
     "text": [
      "COc1cc2c(c(OC)c1C)OB1Oc3c(cc(OC)c(C)c3OC)N12 missing correctedH_mol\n"
     ]
    }
   ],
   "source": [
    "smiles_to_rm = []\n",
    "for i in range(len(smiles)):\n",
    "    if isinstance(FIA[i], str): print(smiles[i], FIA[i])"
   ]
  },
  {
   "cell_type": "code",
   "execution_count": 37,
   "metadata": {},
   "outputs": [],
   "source": [
    "smi ='O=[N+]([O-])c1c2c(cc(C(F)(F)F)c1C(F)(F)F)N1B(N2)Nc2c1cc(C(F)(F)F)c(C(F)(F)F)c2[N+](=O)[O-]'\n",
    "mol = Chem.MolFromSmiles(smi) \n",
    "mol_F = get_fluoride_adduct([mol])\n",
    "smi_F = Chem.MolToSmiles(mol_F[0]) "
   ]
  },
  {
   "cell_type": "code",
   "execution_count": 31,
   "metadata": {},
   "outputs": [],
   "source": [
    "reorg_nrjs = reorganization_nrj(smiles)"
   ]
  },
  {
   "cell_type": "code",
   "execution_count": 19,
   "metadata": {},
   "outputs": [],
   "source": [
    "def replace(value):\n",
    "    if type(value)==str :\n",
    "        return(None)\n",
    "    elif value == None : \n",
    "        return(None)\n",
    "    elif value <=0 :\n",
    "        return(None)\n",
    "    elif value >=2000 :\n",
    "        return(None)\n",
    "    else :\n",
    "        return(value)"
   ]
  },
  {
   "cell_type": "code",
   "execution_count": 20,
   "metadata": {},
   "outputs": [],
   "source": [
    "FIA = [replace(fia) for fia in FIA]\n",
    "#HIA = [replace(hia) for hia in FIA]\n",
    "#reorg_nrjs = [replace(nrj) for nrj in reorg_nrjs]"
   ]
  },
  {
   "cell_type": "code",
   "execution_count": 23,
   "metadata": {},
   "outputs": [
    {
     "data": {
      "text/plain": [
       "179"
      ]
     },
     "execution_count": 23,
     "metadata": {},
     "output_type": "execute_result"
    }
   ],
   "source": [
    "len(FIA)"
   ]
  },
  {
   "cell_type": "code",
   "execution_count": 25,
   "metadata": {},
   "outputs": [],
   "source": [
    "import pandas as pd"
   ]
  },
  {
   "cell_type": "code",
   "execution_count": 26,
   "metadata": {},
   "outputs": [],
   "source": [
    "df = pd.DataFrame()"
   ]
  },
  {
   "cell_type": "code",
   "execution_count": 32,
   "metadata": {},
   "outputs": [
    {
     "data": {
      "text/html": [
       "<div>\n",
       "<style scoped>\n",
       "    .dataframe tbody tr th:only-of-type {\n",
       "        vertical-align: middle;\n",
       "    }\n",
       "\n",
       "    .dataframe tbody tr th {\n",
       "        vertical-align: top;\n",
       "    }\n",
       "\n",
       "    .dataframe thead th {\n",
       "        text-align: right;\n",
       "    }\n",
       "</style>\n",
       "<table border=\"1\" class=\"dataframe\">\n",
       "  <thead>\n",
       "    <tr style=\"text-align: right;\">\n",
       "      <th></th>\n",
       "      <th>SMILES</th>\n",
       "      <th>FIA</th>\n",
       "    </tr>\n",
       "  </thead>\n",
       "  <tbody>\n",
       "  </tbody>\n",
       "</table>\n",
       "</div>"
      ],
      "text/plain": [
       "Empty DataFrame\n",
       "Columns: [SMILES, FIA]\n",
       "Index: []"
      ]
     },
     "execution_count": 32,
     "metadata": {},
     "output_type": "execute_result"
    }
   ],
   "source": [
    "df[df.FIA ==None]"
   ]
  },
  {
   "cell_type": "code",
   "execution_count": 40,
   "metadata": {},
   "outputs": [],
   "source": [
    "os.chdir('/home/jfenogli/FIA')\n",
    "df = df.set_index('SMILES')\n",
    "df.to_csv(\"csv/table_smiles_FIA_ONO_ar_2.csv\")"
   ]
  },
  {
   "cell_type": "code",
   "execution_count": 38,
   "metadata": {},
   "outputs": [
    {
     "data": {
      "text/plain": [
       "'/home/jfenogli/.local/share/jean-zay/db_ONO_ar_2'"
      ]
     },
     "execution_count": 38,
     "metadata": {},
     "output_type": "execute_result"
    }
   ],
   "source": [
    "os.getcwd()"
   ]
  },
  {
   "cell_type": "code",
   "execution_count": 15,
   "metadata": {},
   "outputs": [],
   "source": [
    "rows = []\n",
    "#smiles = smiles_NNN\n",
    "for i in range(len(smiles)):\n",
    "    row = [smiles[i], FIA[i], HIA[i]]\n",
    "    if None not in row :\n",
    "        rows.append(row)"
   ]
  },
  {
   "cell_type": "code",
   "execution_count": 17,
   "metadata": {},
   "outputs": [],
   "source": [
    "## write csv\n",
    "\n",
    "os.chdir('/home/jfenogli/FIA')\n",
    "import csv \n",
    "\n",
    "csv_file = \"table_smiles_FIA_HIA_ONO_ar_2.csv\"\n",
    "\n",
    "    \n",
    "with open(csv_file, 'w') as csvfile :\n",
    "    csvwriter = csv.writer(csvfile) \n",
    "    csvwriter.writerow(['SMILES', 'FIA', 'HIA'])\n",
    "    csvwriter.writerows(rows)"
   ]
  },
  {
   "cell_type": "code",
   "execution_count": 10,
   "metadata": {},
   "outputs": [],
   "source": [
    "table_FIA = pd.read_csv(\"csv/table_smiles_FIA_ONO_ar_2.csv\")"
   ]
  },
  {
   "cell_type": "code",
   "execution_count": 13,
   "metadata": {},
   "outputs": [],
   "source": [
    "table_FIA = table_FIA.set_index(\"SMILES\")"
   ]
  },
  {
   "cell_type": "code",
   "execution_count": 14,
   "metadata": {},
   "outputs": [
    {
     "data": {
      "text/plain": [
       "FIA    512.234392\n",
       "Name: N#Cc1c2c(cc(C(F)(F)F)c1C(F)(F)F)N1B(O2)Oc2c1cc(C(F)(F)F)c(C(F)(F)F)c2C#N, dtype: float64"
      ]
     },
     "execution_count": 14,
     "metadata": {},
     "output_type": "execute_result"
    }
   ],
   "source": [
    "table_FIA.loc['N#Cc1c2c(cc(C(F)(F)F)c1C(F)(F)F)N1B(O2)Oc2c1cc(C(F)(F)F)c(C(F)(F)F)c2C#N']"
   ]
  },
  {
   "cell_type": "code",
   "execution_count": 15,
   "metadata": {},
   "outputs": [
    {
     "data": {
      "text/plain": [
       "FIA    504.805958\n",
       "Name: Cc1c([N+](=O)[O-])cc2c(c1[N+](=O)[O-])OB1Oc3c(cc([N+](=O)[O-])c(C)c3[N+](=O)[O-])N12, dtype: float64"
      ]
     },
     "execution_count": 15,
     "metadata": {},
     "output_type": "execute_result"
    }
   ],
   "source": [
    "table_FIA.loc['Cc1c([N+](=O)[O-])cc2c(c1[N+](=O)[O-])OB1Oc3c(cc([N+](=O)[O-])c(C)c3[N+](=O)[O-])N12']"
   ]
  },
  {
   "cell_type": "code",
   "execution_count": 16,
   "metadata": {},
   "outputs": [
    {
     "data": {
      "text/html": [
       "<div>\n",
       "<style scoped>\n",
       "    .dataframe tbody tr th:only-of-type {\n",
       "        vertical-align: middle;\n",
       "    }\n",
       "\n",
       "    .dataframe tbody tr th {\n",
       "        vertical-align: top;\n",
       "    }\n",
       "\n",
       "    .dataframe thead th {\n",
       "        text-align: right;\n",
       "    }\n",
       "</style>\n",
       "<table border=\"1\" class=\"dataframe\">\n",
       "  <thead>\n",
       "    <tr style=\"text-align: right;\">\n",
       "      <th></th>\n",
       "      <th>FIA</th>\n",
       "    </tr>\n",
       "    <tr>\n",
       "      <th>SMILES</th>\n",
       "      <th></th>\n",
       "    </tr>\n",
       "  </thead>\n",
       "  <tbody>\n",
       "    <tr>\n",
       "      <th>CN(C)c1cc2c(cc1O)N1B(O2)Oc2cc(N(C)C)c(O)cc21</th>\n",
       "      <td>313.135024</td>\n",
       "    </tr>\n",
       "    <tr>\n",
       "      <th>CN(C)c1cc(O)c2c(c1)N1B(O2)Oc2c(O)cc(N(C)C)cc21</th>\n",
       "      <td>319.452556</td>\n",
       "    </tr>\n",
       "    <tr>\n",
       "      <th>Nc1ccc2c(c1)N1B(O2)Oc2ccc(N)cc21</th>\n",
       "      <td>322.340226</td>\n",
       "    </tr>\n",
       "    <tr>\n",
       "      <th>Nc1ccc2c(c1)OB1Oc3cc(N)ccc3N12</th>\n",
       "      <td>330.634652</td>\n",
       "    </tr>\n",
       "    <tr>\n",
       "      <th>COc1ccc2c(c1)N1B(O2)Oc2ccc(OC)cc21</th>\n",
       "      <td>332.125440</td>\n",
       "    </tr>\n",
       "    <tr>\n",
       "      <th>...</th>\n",
       "      <td>...</td>\n",
       "    </tr>\n",
       "    <tr>\n",
       "      <th>N#Cc1cc2c(c(F)c1C(F)(F)F)OB1Oc3c(cc(C#N)c(C(F)(F)F)c3F)N12</th>\n",
       "      <td>496.260408</td>\n",
       "    </tr>\n",
       "    <tr>\n",
       "      <th>O=[N+]([O-])c1c2c(cc(Cl)c1C(F)(F)F)N1B(O2)Oc2c1cc(Cl)c(C(F)(F)F)c2[N+](=O)[O-]</th>\n",
       "      <td>500.911106</td>\n",
       "    </tr>\n",
       "    <tr>\n",
       "      <th>N#Cc1c([N+](=O)[O-])ccc2c1OB1Oc3c(ccc([N+](=O)[O-])c3C#N)N12</th>\n",
       "      <td>503.725268</td>\n",
       "    </tr>\n",
       "    <tr>\n",
       "      <th>Cc1c([N+](=O)[O-])cc2c(c1[N+](=O)[O-])OB1Oc3c(cc([N+](=O)[O-])c(C)c3[N+](=O)[O-])N12</th>\n",
       "      <td>504.805958</td>\n",
       "    </tr>\n",
       "    <tr>\n",
       "      <th>N#Cc1c2c(cc(C(F)(F)F)c1C(F)(F)F)N1B(O2)Oc2c1cc(C(F)(F)F)c(C(F)(F)F)c2C#N</th>\n",
       "      <td>512.234392</td>\n",
       "    </tr>\n",
       "  </tbody>\n",
       "</table>\n",
       "<p>179 rows × 1 columns</p>\n",
       "</div>"
      ],
      "text/plain": [
       "                                                           FIA\n",
       "SMILES                                                        \n",
       "CN(C)c1cc2c(cc1O)N1B(O2)Oc2cc(N(C)C)c(O)cc21        313.135024\n",
       "CN(C)c1cc(O)c2c(c1)N1B(O2)Oc2c(O)cc(N(C)C)cc21      319.452556\n",
       "Nc1ccc2c(c1)N1B(O2)Oc2ccc(N)cc21                    322.340226\n",
       "Nc1ccc2c(c1)OB1Oc3cc(N)ccc3N12                      330.634652\n",
       "COc1ccc2c(c1)N1B(O2)Oc2ccc(OC)cc21                  332.125440\n",
       "...                                                        ...\n",
       "N#Cc1cc2c(c(F)c1C(F)(F)F)OB1Oc3c(cc(C#N)c(C(F)(...  496.260408\n",
       "O=[N+]([O-])c1c2c(cc(Cl)c1C(F)(F)F)N1B(O2)Oc2c1...  500.911106\n",
       "N#Cc1c([N+](=O)[O-])ccc2c1OB1Oc3c(ccc([N+](=O)[...  503.725268\n",
       "Cc1c([N+](=O)[O-])cc2c(c1[N+](=O)[O-])OB1Oc3c(c...  504.805958\n",
       "N#Cc1c2c(cc(C(F)(F)F)c1C(F)(F)F)N1B(O2)Oc2c1cc(...  512.234392\n",
       "\n",
       "[179 rows x 1 columns]"
      ]
     },
     "execution_count": 16,
     "metadata": {},
     "output_type": "execute_result"
    }
   ],
   "source": [
    "table_FIA.sort_values(\"FIA\")"
   ]
  },
  {
   "cell_type": "code",
   "execution_count": 19,
   "metadata": {},
   "outputs": [
    {
     "data": {
      "image/png": "[encoded data removed]",
      "text/plain": [
       "<rdkit.Chem.rdchem.Mol at 0x7ffaa0fca880>"
      ]
     },
     "execution_count": 19,
     "metadata": {},
     "output_type": "execute_result"
    }
   ],
   "source": [
    "Chem.MolFromSmiles('Cc1c2c(cc(C#N)c1C(C)(C)C)N1B(O2)Oc2c1cc(C#N)c(C(C)(C)C)c2C')#duplicate"
   ]
  },
  {
   "cell_type": "code",
   "execution_count": 20,
   "metadata": {},
   "outputs": [
    {
     "data": {
      "image/png": "[encoded data removed]",
      "text/plain": [
       "<rdkit.Chem.rdchem.Mol at 0x7ffaa0fcad60>"
      ]
     },
     "execution_count": 20,
     "metadata": {},
     "output_type": "execute_result"
    }
   ],
   "source": [
    "Chem.MolFromSmiles('Cc1c(N(C)C)cc2c(c1Br)O[B-]1(F)Oc3c(cc(N(C)C)c(C)c3Br)N21')#duplicate"
   ]
  },
  {
   "cell_type": "code",
   "execution_count": 21,
   "metadata": {},
   "outputs": [
    {
     "data": {
      "image/png": "[encoded data removed]",
      "text/plain": [
       "<rdkit.Chem.rdchem.Mol at 0x7ffaa0fcaa00>"
      ]
     },
     "execution_count": 21,
     "metadata": {},
     "output_type": "execute_result"
    }
   ],
   "source": [
    "Chem.MolFromSmiles('Cc1c([N+](=O)[O-])cc2c(c1[N+](=O)[O-])OB1Oc3c(cc([N+](=O)[O-])c(C)c3[N+](=O)[O-])N12')#outlier"
   ]
  },
  {
   "cell_type": "code",
   "execution_count": 22,
   "metadata": {
    "scrolled": true
   },
   "outputs": [
    {
     "data": {
      "image/png": "[encoded data removed]",
      "text/plain": [
       "<rdkit.Chem.rdchem.Mol at 0x7ffaa0fcaca0>"
      ]
     },
     "execution_count": 22,
     "metadata": {},
     "output_type": "execute_result"
    }
   ],
   "source": [
    "Chem.MolFromSmiles('N#Cc1c2c(cc(C(F)(F)F)c1C(F)(F)F)N1B(O2)Oc2c1cc(C(F)(F)F)c(C(F)(F)F)c2C#N')#outlier"
   ]
  },
  {
   "cell_type": "code",
   "execution_count": 32,
   "metadata": {},
   "outputs": [],
   "source": [
    "def replace_with_rdkit_smiles(df):\n",
    "    for i in range(len(df)):\n",
    "        smi = df.at[i,'SMILES']\n",
    "        try : df.at[i,'SMILES'] = Chem.MolToSmiles(Chem.MolFromSmiles(df.at[i,'SMILES']))\n",
    "        except : print(smi)\n",
    "    return(df)"
   ]
  },
  {
   "cell_type": "code",
   "execution_count": 34,
   "metadata": {},
   "outputs": [],
   "source": [
    "os.chdir('/home/jfenogli/FIA')\n",
    "df_ONO_coverage = pd.read_csv('csv/smiles_to_run_coverage.csv')\n",
    "df_ONO_coverage = replace_with_rdkit_smiles(df_ONO_coverage)\n",
    "df_ONO_coverage = df_ONO_coverage.set_index(\"SMILES\")"
   ]
  },
  {
   "cell_type": "code",
   "execution_count": 42,
   "metadata": {},
   "outputs": [],
   "source": [
    "os.chdir('/home/jfenogli/FIA')\n",
    "df_ONO_kmeans = pd.read_csv('csv/smiles_to_run_kmeans.csv')\n",
    "df_ONO_kmeans = replace_with_rdkit_smiles(df_ONO_kmeans)\n",
    "df_ONO_kmeans = df_ONO_kmeans.set_index(\"SMILES\")"
   ]
  },
  {
   "cell_type": "code",
   "execution_count": 51,
   "metadata": {},
   "outputs": [],
   "source": [
    "outliers = ['N#Cc1c2c(cc(C(F)(F)F)c1C(F)(F)F)N1B(O2)Oc2c1cc(C(F)(F)F)c(C(F)(F)F)c2C#N', 'Cc1c([N+](=O)[O-])cc2c(c1[N+](=O)[O-])OB1Oc3c(cc([N+](=O)[O-])c(C)c3[N+](=O)[O-])N12']"
   ]
  },
  {
   "cell_type": "code",
   "execution_count": 57,
   "metadata": {},
   "outputs": [
    {
     "data": {
      "text/plain": [
       "'Cc1c2c(cc(C#N)c1C(C)(C)C)N1B(O2)Oc2c1cc(C#N)c(C(C)(C)C)c2C'"
      ]
     },
     "execution_count": 57,
     "metadata": {},
     "output_type": "execute_result"
    }
   ],
   "source": [
    "Chem.MolToSmiles(Chem.MolFromSmiles('Cc1c2c(cc(C#N)c1C(C)(C)C)N1B(O2)Oc2c1cc(C#N)c(C(C)(C)C)c2C'))"
   ]
  },
  {
   "cell_type": "code",
   "execution_count": 29,
   "metadata": {},
   "outputs": [],
   "source": [
    "os.chdir('/home/jfenogli/FIA')\n",
    "df_ONO_kmeans = pd.read_csv('csv/smiles_to_run_kmeans.csv').set_index(\"SMILES\")"
   ]
  },
  {
   "cell_type": "code",
   "execution_count": 58,
   "metadata": {
    "scrolled": true
   },
   "outputs": [
    {
     "ename": "ValueError",
     "evalue": "No axis named Cc1c2c(cc(C#N)c1C(C)(C)C)N1B(O2)Oc2c1cc(C#N)c(C(C)(C)C)c2C for object type DataFrame",
     "output_type": "error",
     "traceback": [
      "\u001b[0;31m---------------------------------------------------------------------------\u001b[0m",
      "\u001b[0;31mKeyError\u001b[0m                                  Traceback (most recent call last)",
      "File \u001b[0;32m~/.conda/envs/fia/lib/python3.9/site-packages/pandas/core/generic.py:550\u001b[0m, in \u001b[0;36mNDFrame._get_axis_number\u001b[0;34m(cls, axis)\u001b[0m\n\u001b[1;32m    549\u001b[0m \u001b[38;5;28;01mtry\u001b[39;00m:\n\u001b[0;32m--> 550\u001b[0m     \u001b[38;5;28;01mreturn\u001b[39;00m \u001b[38;5;28;43mcls\u001b[39;49m\u001b[38;5;241;43m.\u001b[39;49m\u001b[43m_AXIS_TO_AXIS_NUMBER\u001b[49m\u001b[43m[\u001b[49m\u001b[43maxis\u001b[49m\u001b[43m]\u001b[49m\n\u001b[1;32m    551\u001b[0m \u001b[38;5;28;01mexcept\u001b[39;00m \u001b[38;5;167;01mKeyError\u001b[39;00m:\n",
      "\u001b[0;31mKeyError\u001b[0m: 'Cc1c2c(cc(C#N)c1C(C)(C)C)N1B(O2)Oc2c1cc(C#N)c(C(C)(C)C)c2C'",
      "\nDuring handling of the above exception, another exception occurred:\n",
      "\u001b[0;31mValueError\u001b[0m                                Traceback (most recent call last)",
      "Input \u001b[0;32mIn [58]\u001b[0m, in \u001b[0;36m<cell line: 1>\u001b[0;34m()\u001b[0m\n\u001b[0;32m----> 1\u001b[0m \u001b[43mdf_ONO_kmeans\u001b[49m\u001b[38;5;241;43m.\u001b[39;49m\u001b[43miloc\u001b[49m\u001b[43m(\u001b[49m\u001b[38;5;124;43m'\u001b[39;49m\u001b[38;5;124;43mCc1c2c(cc(C#N)c1C(C)(C)C)N1B(O2)Oc2c1cc(C#N)c(C(C)(C)C)c2C\u001b[39;49m\u001b[38;5;124;43m'\u001b[39;49m\u001b[43m)\u001b[49m\n",
      "File \u001b[0;32m~/.conda/envs/fia/lib/python3.9/site-packages/pandas/core/indexing.py:634\u001b[0m, in \u001b[0;36m_LocationIndexer.__call__\u001b[0;34m(self, axis)\u001b[0m\n\u001b[1;32m    631\u001b[0m new_self \u001b[38;5;241m=\u001b[39m \u001b[38;5;28mtype\u001b[39m(\u001b[38;5;28mself\u001b[39m)(\u001b[38;5;28mself\u001b[39m\u001b[38;5;241m.\u001b[39mname, \u001b[38;5;28mself\u001b[39m\u001b[38;5;241m.\u001b[39mobj)\n\u001b[1;32m    633\u001b[0m \u001b[38;5;28;01mif\u001b[39;00m axis \u001b[38;5;129;01mis\u001b[39;00m \u001b[38;5;129;01mnot\u001b[39;00m \u001b[38;5;28;01mNone\u001b[39;00m:\n\u001b[0;32m--> 634\u001b[0m     axis \u001b[38;5;241m=\u001b[39m \u001b[38;5;28;43mself\u001b[39;49m\u001b[38;5;241;43m.\u001b[39;49m\u001b[43mobj\u001b[49m\u001b[38;5;241;43m.\u001b[39;49m\u001b[43m_get_axis_number\u001b[49m\u001b[43m(\u001b[49m\u001b[43maxis\u001b[49m\u001b[43m)\u001b[49m\n\u001b[1;32m    635\u001b[0m new_self\u001b[38;5;241m.\u001b[39maxis \u001b[38;5;241m=\u001b[39m axis\n\u001b[1;32m    636\u001b[0m \u001b[38;5;28;01mreturn\u001b[39;00m new_self\n",
      "File \u001b[0;32m~/.conda/envs/fia/lib/python3.9/site-packages/pandas/core/generic.py:552\u001b[0m, in \u001b[0;36mNDFrame._get_axis_number\u001b[0;34m(cls, axis)\u001b[0m\n\u001b[1;32m    550\u001b[0m     \u001b[38;5;28;01mreturn\u001b[39;00m \u001b[38;5;28mcls\u001b[39m\u001b[38;5;241m.\u001b[39m_AXIS_TO_AXIS_NUMBER[axis]\n\u001b[1;32m    551\u001b[0m \u001b[38;5;28;01mexcept\u001b[39;00m \u001b[38;5;167;01mKeyError\u001b[39;00m:\n\u001b[0;32m--> 552\u001b[0m     \u001b[38;5;28;01mraise\u001b[39;00m \u001b[38;5;167;01mValueError\u001b[39;00m(\u001b[38;5;124mf\u001b[39m\u001b[38;5;124m\"\u001b[39m\u001b[38;5;124mNo axis named \u001b[39m\u001b[38;5;132;01m{\u001b[39;00maxis\u001b[38;5;132;01m}\u001b[39;00m\u001b[38;5;124m for object type \u001b[39m\u001b[38;5;132;01m{\u001b[39;00m\u001b[38;5;28mcls\u001b[39m\u001b[38;5;241m.\u001b[39m\u001b[38;5;18m__name__\u001b[39m\u001b[38;5;132;01m}\u001b[39;00m\u001b[38;5;124m\"\u001b[39m)\n",
      "\u001b[0;31mValueError\u001b[0m: No axis named Cc1c2c(cc(C#N)c1C(C)(C)C)N1B(O2)Oc2c1cc(C#N)c(C(C)(C)C)c2C for object type DataFrame"
     ]
    }
   ],
   "source": [
    "df_ONO_kmeans.iloc('Cc1c2c(cc(C#N)c1C(C)(C)C)N1B(O2)Oc2c1cc(C#N)c(C(C)(C)C)c2C')"
   ]
  },
  {
   "cell_type": "code",
   "execution_count": 59,
   "metadata": {},
   "outputs": [
    {
     "ename": "ValueError",
     "evalue": "No axis named Cc1c2c(cc(C#N)c1C(C)(C)C)N1B(O2)Oc2c1cc(C#N)c(C(C)(C)C)c2C for object type DataFrame",
     "output_type": "error",
     "traceback": [
      "\u001b[0;31m---------------------------------------------------------------------------\u001b[0m",
      "\u001b[0;31mKeyError\u001b[0m                                  Traceback (most recent call last)",
      "File \u001b[0;32m~/.conda/envs/fia/lib/python3.9/site-packages/pandas/core/generic.py:550\u001b[0m, in \u001b[0;36mNDFrame._get_axis_number\u001b[0;34m(cls, axis)\u001b[0m\n\u001b[1;32m    549\u001b[0m \u001b[38;5;28;01mtry\u001b[39;00m:\n\u001b[0;32m--> 550\u001b[0m     \u001b[38;5;28;01mreturn\u001b[39;00m \u001b[38;5;28;43mcls\u001b[39;49m\u001b[38;5;241;43m.\u001b[39;49m\u001b[43m_AXIS_TO_AXIS_NUMBER\u001b[49m\u001b[43m[\u001b[49m\u001b[43maxis\u001b[49m\u001b[43m]\u001b[49m\n\u001b[1;32m    551\u001b[0m \u001b[38;5;28;01mexcept\u001b[39;00m \u001b[38;5;167;01mKeyError\u001b[39;00m:\n",
      "\u001b[0;31mKeyError\u001b[0m: 'Cc1c2c(cc(C#N)c1C(C)(C)C)N1B(O2)Oc2c1cc(C#N)c(C(C)(C)C)c2C'",
      "\nDuring handling of the above exception, another exception occurred:\n",
      "\u001b[0;31mValueError\u001b[0m                                Traceback (most recent call last)",
      "Input \u001b[0;32mIn [59]\u001b[0m, in \u001b[0;36m<cell line: 1>\u001b[0;34m()\u001b[0m\n\u001b[0;32m----> 1\u001b[0m \u001b[43mdf_ONO_coverage\u001b[49m\u001b[38;5;241;43m.\u001b[39;49m\u001b[43miloc\u001b[49m\u001b[43m(\u001b[49m\u001b[38;5;124;43m'\u001b[39;49m\u001b[38;5;124;43mCc1c2c(cc(C#N)c1C(C)(C)C)N1B(O2)Oc2c1cc(C#N)c(C(C)(C)C)c2C\u001b[39;49m\u001b[38;5;124;43m'\u001b[39;49m\u001b[43m)\u001b[49m\n",
      "File \u001b[0;32m~/.conda/envs/fia/lib/python3.9/site-packages/pandas/core/indexing.py:634\u001b[0m, in \u001b[0;36m_LocationIndexer.__call__\u001b[0;34m(self, axis)\u001b[0m\n\u001b[1;32m    631\u001b[0m new_self \u001b[38;5;241m=\u001b[39m \u001b[38;5;28mtype\u001b[39m(\u001b[38;5;28mself\u001b[39m)(\u001b[38;5;28mself\u001b[39m\u001b[38;5;241m.\u001b[39mname, \u001b[38;5;28mself\u001b[39m\u001b[38;5;241m.\u001b[39mobj)\n\u001b[1;32m    633\u001b[0m \u001b[38;5;28;01mif\u001b[39;00m axis \u001b[38;5;129;01mis\u001b[39;00m \u001b[38;5;129;01mnot\u001b[39;00m \u001b[38;5;28;01mNone\u001b[39;00m:\n\u001b[0;32m--> 634\u001b[0m     axis \u001b[38;5;241m=\u001b[39m \u001b[38;5;28;43mself\u001b[39;49m\u001b[38;5;241;43m.\u001b[39;49m\u001b[43mobj\u001b[49m\u001b[38;5;241;43m.\u001b[39;49m\u001b[43m_get_axis_number\u001b[49m\u001b[43m(\u001b[49m\u001b[43maxis\u001b[49m\u001b[43m)\u001b[49m\n\u001b[1;32m    635\u001b[0m new_self\u001b[38;5;241m.\u001b[39maxis \u001b[38;5;241m=\u001b[39m axis\n\u001b[1;32m    636\u001b[0m \u001b[38;5;28;01mreturn\u001b[39;00m new_self\n",
      "File \u001b[0;32m~/.conda/envs/fia/lib/python3.9/site-packages/pandas/core/generic.py:552\u001b[0m, in \u001b[0;36mNDFrame._get_axis_number\u001b[0;34m(cls, axis)\u001b[0m\n\u001b[1;32m    550\u001b[0m     \u001b[38;5;28;01mreturn\u001b[39;00m \u001b[38;5;28mcls\u001b[39m\u001b[38;5;241m.\u001b[39m_AXIS_TO_AXIS_NUMBER[axis]\n\u001b[1;32m    551\u001b[0m \u001b[38;5;28;01mexcept\u001b[39;00m \u001b[38;5;167;01mKeyError\u001b[39;00m:\n\u001b[0;32m--> 552\u001b[0m     \u001b[38;5;28;01mraise\u001b[39;00m \u001b[38;5;167;01mValueError\u001b[39;00m(\u001b[38;5;124mf\u001b[39m\u001b[38;5;124m\"\u001b[39m\u001b[38;5;124mNo axis named \u001b[39m\u001b[38;5;132;01m{\u001b[39;00maxis\u001b[38;5;132;01m}\u001b[39;00m\u001b[38;5;124m for object type \u001b[39m\u001b[38;5;132;01m{\u001b[39;00m\u001b[38;5;28mcls\u001b[39m\u001b[38;5;241m.\u001b[39m\u001b[38;5;18m__name__\u001b[39m\u001b[38;5;132;01m}\u001b[39;00m\u001b[38;5;124m\"\u001b[39m)\n",
      "\u001b[0;31mValueError\u001b[0m: No axis named Cc1c2c(cc(C#N)c1C(C)(C)C)N1B(O2)Oc2c1cc(C#N)c(C(C)(C)C)c2C for object type DataFrame"
     ]
    }
   ],
   "source": [
    "df_ONO_coverage.iloc('Cc1c2c(cc(C#N)c1C(C)(C)C)N1B(O2)Oc2c1cc(C#N)c(C(C)(C)C)c2C')"
   ]
  },
  {
   "cell_type": "markdown",
   "metadata": {},
   "source": [
    "### Upload molecules to the database"
   ]
  },
  {
   "cell_type": "code",
   "execution_count": 7,
   "metadata": {
    "scrolled": false
   },
   "outputs": [
    {
     "name": "stderr",
     "output_type": "stream",
     "text": [
      "INFO:autoqchem.slurm_manager:There are 1 finished molecules ['N#Cc1c([N+](=O)[O-])cc2c(c1C#N)OB1Oc3c(cc([N+](=O)[O-])c(C#N)c3C#N)N12'].\n",
      "INFO:autoqchem.slurm_manager:Molecule N#Cc1c([N+](=O)[O-])cc2c(c1C#N)OB1Oc3c(cc([N+](=O)[O-])c(C#N)c3C#N)N12 has 0 / 1 duplicate conformers.\n",
      "INFO:autoqchem.slurm_manager:Removing 0 / 1 jobs and log files that contain duplicate conformers.\n",
      "INFO:autoqchem.slurm_manager:Uploaded descriptors to DB for smiles: N#Cc1c([N+](=O)[O-])cc2c(c1C#N)OB1Oc3c(cc([N+](=O)[O-])c(C#N)c3C#N)N12, number of conformers: 1, DB molecule id 6530e23736dc4c9c0270f942.\n"
     ]
    }
   ],
   "source": [
    "sm.upload_done_molecules_to_db(tags=['boron_LA_ONO_ar_2'])"
   ]
  },
  {
   "cell_type": "code",
   "execution_count": 8,
   "metadata": {},
   "outputs": [],
   "source": [
    "jobs = list(sm.get_jobs(can ='N#Cc1c([N+](=O)[O-])cc2c(c1C#N)OB1Oc3c(cc([N+](=O)[O-])c(C#N)c3C#N)N12').values())\n",
    "jobs[0].status = slurm_status.incomplete"
   ]
  },
  {
   "cell_type": "code",
   "execution_count": 13,
   "metadata": {},
   "outputs": [],
   "source": [
    "jobs = list(sm.get_jobs(can =).values())\n",
    "jobs[0].status = slurm_status.duplicate"
   ]
  },
  {
   "cell_type": "code",
   "execution_count": 12,
   "metadata": {
    "scrolled": true
   },
   "outputs": [
    {
     "data": {
      "text/html": [
       "<div>\n",
       "<style scoped>\n",
       "    .dataframe tbody tr th:only-of-type {\n",
       "        vertical-align: middle;\n",
       "    }\n",
       "\n",
       "    .dataframe tbody tr th {\n",
       "        vertical-align: top;\n",
       "    }\n",
       "\n",
       "    .dataframe thead th {\n",
       "        text-align: right;\n",
       "    }\n",
       "</style>\n",
       "<table border=\"1\" class=\"dataframe\">\n",
       "  <thead>\n",
       "    <tr style=\"text-align: right;\">\n",
       "      <th></th>\n",
       "      <th>name</th>\n",
       "    </tr>\n",
       "  </thead>\n",
       "  <tbody>\n",
       "  </tbody>\n",
       "</table>\n",
       "</div>"
      ],
      "text/plain": [
       "Empty DataFrame\n",
       "Columns: [name]\n",
       "Index: []"
      ]
     },
     "execution_count": 12,
     "metadata": {},
     "output_type": "execute_result"
    }
   ],
   "source": [
    "db_select_molecules(tags=['boron_LA_ONO_ar_2'],smiles=\"CC(C)(C)c1c(F)c(Br)cc2c1O[BH-]1Oc3c(cc(Br)c(F)c3C(C)(C)C)N12\")"
   ]
  },
  {
   "cell_type": "code",
   "execution_count": 11,
   "metadata": {},
   "outputs": [
    {
     "name": "stdout",
     "output_type": "stream",
     "text": [
      "633702a45e54805940b7e652\n"
     ]
    }
   ],
   "source": [
    "db_delete_molecule('633702a45e54805940b7e652')"
   ]
  },
  {
   "cell_type": "code",
   "execution_count": 10,
   "metadata": {},
   "outputs": [
    {
     "data": {
      "text/plain": [
       "{'0b067ad4194e8c2b650abe812eef97fe': slurm_job(can='CC(C)(C)c1c(F)c(Br)cc2c1O[BH-]1Oc3c(cc(Br)c(F)c3C(C)(C)C)N12', inchi='InChI=1S/C20H21BBr2F2NO2/c1-19(2,3)13-15(24)9(22)7-11-17(13)27-21-26(11)12-8-10(23)16(25)14(18(12)28-21)20(4,5)6/h7-8,21H,1-6H3/q-1', inchikey='SGWKWZDEMCKVLE-UHFFFAOYSA-N', elements=['C', 'C', 'C', 'C', 'C', 'C', 'F', 'C', 'Br', 'C', 'C', 'C', 'O', 'B', 'O', 'C', 'C', 'C', 'C', 'Br', 'C', 'F', 'C', 'C', 'C', 'C', 'C', 'N', 'H', 'H', 'H', 'H', 'H', 'H', 'H', 'H', 'H', 'H', 'H', 'H', 'H', 'H', 'H', 'H', 'H', 'H', 'H', 'H', 'H'], charges=array([ 0,  0,  0,  0,  0,  0,  0,  0,  0,  0,  0,  0,  0, -1,  0,  0,  0,\n",
       "         0,  0,  0,  0,  0,  0,  0,  0,  0,  0,  0,  0,  0,  0,  0,  0,  0,\n",
       "         0,  0,  0,  0,  0,  0,  0,  0,  0,  0,  0,  0,  0,  0,  0]), connectivity_matrix=array([[0., 1., 0., ..., 0., 0., 0.],\n",
       "        [1., 0., 1., ..., 0., 0., 0.],\n",
       "        [0., 1., 0., ..., 0., 0., 0.],\n",
       "        ...,\n",
       "        [0., 0., 0., ..., 0., 0., 0.],\n",
       "        [0., 0., 0., ..., 0., 0., 0.],\n",
       "        [0., 0., 0., ..., 0., 0., 0.]]), conformation=0, max_num_conformers=1, conformer_engine='rdkit', tasks=('opt M062X/6-31G(d) scf=(xqc,tight) integral(grid=ultrafinegrid)', 'freq M062X/6-31G(d) volume NMR pop=NPA density=current Geom=AllCheck Guess=Read integral(grid=ultrafinegrid) scf(xqc,tight)', 'TD(NStates=5, Root=1) M062X/6-31G(d) volume pop=NPA density=current Geom=AllCheck Guess=Read'), config={'theory': 'M062X', 'solvent': 'None', 'light_basis_set': '6-31G(d)', 'heavy_basis_set': 'LANL2DZ', 'generic_basis_set': 'genecp', 'max_light_atomic_number': 36}, job_id='1942831', directory='/home/jfenogli/.local/share/jean-zay/db_ONO_ar_2/SGWKWZDEMCKVLE-UHFFFAOYSA-N', remote_dir='/gpfsscratch/rech/ihj/uuo83ic/db_ONO_ar_2/SGWKWZDEMCKVLE-UHFFFAOYSA-N', base_name='SGWKWZDEMCKVLE-UHFFFAOYSA-N_conf_0', status=<slurm_status.done: 3>, n_submissions=1, n_success_tasks=0)}"
      ]
     },
     "execution_count": 10,
     "metadata": {},
     "output_type": "execute_result"
    }
   ],
   "source": [
    "sm.get_jobs(can=\"CC(C)(C)c1c(F)c(Br)cc2c1O[BH-]1Oc3c(cc(Br)c(F)c3C(C)(C)C)N12\")"
   ]
  }
 ],
 "metadata": {
  "kernelspec": {
   "display_name": "Python 3 (ipykernel)",
   "language": "python",
   "name": "python3"
  },
  "language_info": {
   "codemirror_mode": {
    "name": "ipython",
    "version": 3
   },
   "file_extension": ".py",
   "mimetype": "text/x-python",
   "name": "python",
   "nbconvert_exporter": "python",
   "pygments_lexer": "ipython3",
   "version": "3.10.9"
  }
 },
 "nbformat": 4,
 "nbformat_minor": 4
}
