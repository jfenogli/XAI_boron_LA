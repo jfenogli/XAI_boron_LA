{
 "cells": [
  {
   "cell_type": "markdown",
   "metadata": {},
   "source": [
    "### Startup imports"
   ]
  },
  {
   "cell_type": "code",
   "execution_count": 1,
   "metadata": {},
   "outputs": [
    {
     "name": "stderr",
     "output_type": "stream",
     "text": [
      "C:\\Users\\Juliette\\miniconda3\\envs\\thesis\\lib\\site-packages\\paramiko\\transport.py:219: CryptographyDeprecationWarning: Blowfish has been deprecated\n",
      "  \"class\": algorithms.Blowfish,\n"
     ]
    }
   ],
   "source": [
    "import sys\n",
    "import pandas as pd\n",
    "sys.path.append('../')\n",
    "\n",
    "from autoqchem.molecule import molecule\n",
    "from autoqchem.slurm_manager import slurm_manager\n",
    "from autoqchem.helper_classes import slurm_status\n",
    "from autoqchem.helper_classes import slurm_job\n",
    "\n",
    "from autoqchem.draw_utils import draw\n",
    "\n",
    "from scripts.generate_smiles import *\n",
    "\n",
    "import os\n",
    "import re\n",
    "\n",
    "import logging\n",
    "logging.basicConfig(level=logging.INFO)"
   ]
  },
  {
   "cell_type": "markdown",
   "metadata": {},
   "source": [
    "### Connect to the cluster"
   ]
  },
  {
   "cell_type": "code",
   "execution_count": 2,
   "metadata": {
    "scrolled": true
   },
   "outputs": [
    {
     "name": "stderr",
     "output_type": "stream",
     "text": [
      "INFO:autoqchem.slurm_manager:Creating connection to 127.0.0.1 as jfenogli\n"
     ]
    },
    {
     "name": "stdout",
     "output_type": "stream",
     "text": [
      "password = dud7Drain&\n"
     ]
    },
    {
     "name": "stderr",
     "output_type": "stream",
     "text": [
      "INFO:paramiko.transport:Connected (version 2.0, client OpenSSH_7.4)\n",
      "INFO:paramiko.transport:Authentication (password) successful!\n",
      "INFO:autoqchem.slurm_manager:Connected to 127.0.0.1 as jfenogli.\n"
     ]
    }
   ],
   "source": [
    "#Enter your username\n",
    "from autoqchem.slurm_manager import slurm_manager\n",
    "import logging\n",
    "logging.basicConfig(level=logging.INFO)\n",
    "\n",
    "sm=slurm_manager(user='jfenogli', host='127.0.0.1', file_name='test', port = 3000)\n",
    "\n",
    "sm.connect()\n"
   ]
  },
  {
   "cell_type": "code",
   "execution_count": 4,
   "metadata": {
    "scrolled": true
   },
   "outputs": [
    {
     "data": {
      "text/html": [
       "<div>\n",
       "<style scoped>\n",
       "    .dataframe tbody tr th:only-of-type {\n",
       "        vertical-align: middle;\n",
       "    }\n",
       "\n",
       "    .dataframe tbody tr th {\n",
       "        vertical-align: top;\n",
       "    }\n",
       "\n",
       "    .dataframe thead th {\n",
       "        text-align: right;\n",
       "    }\n",
       "</style>\n",
       "<table border=\"1\" class=\"dataframe\">\n",
       "  <thead>\n",
       "    <tr style=\"text-align: right;\">\n",
       "      <th>status</th>\n",
       "    </tr>\n",
       "  </thead>\n",
       "  <tbody>\n",
       "    <tr>\n",
       "      <th>jobs</th>\n",
       "    </tr>\n",
       "  </tbody>\n",
       "</table>\n",
       "</div>"
      ],
      "text/plain": [
       "Empty DataFrame\n",
       "Columns: []\n",
       "Index: [jobs]"
      ]
     },
     "execution_count": 4,
     "metadata": {},
     "output_type": "execute_result"
    }
   ],
   "source": [
    "sm.get_job_stats()"
   ]
  },
  {
   "cell_type": "markdown",
   "metadata": {},
   "source": [
    "### Provide some smiles string(s)"
   ]
  },
  {
   "cell_type": "code",
   "execution_count": 3,
   "metadata": {},
   "outputs": [],
   "source": [
    "smi_already_run=[]\n",
    "\n",
    "jobs_dict = sm.get_jobs()\n",
    "for key in jobs_dict.keys():    \n",
    "    can = jobs_dict[key].can\n",
    "    smi_already_run.append(can)"
   ]
  },
  {
   "cell_type": "code",
   "execution_count": 4,
   "metadata": {},
   "outputs": [
    {
     "data": {
      "text/plain": [
       "['COc1ccc2c(c1OC)OB1Oc3c(ccc(OC)c3OC)N12',\n",
       " 'COc1ccc2c(c1OC)O[B-]1(F)Oc3c(ccc(OC)c3OC)N21']"
      ]
     },
     "execution_count": 4,
     "metadata": {},
     "output_type": "execute_result"
    }
   ],
   "source": [
    "smi_already_run"
   ]
  },
  {
   "cell_type": "code",
   "execution_count": 5,
   "metadata": {},
   "outputs": [],
   "source": [
    "smi_to_run = generate_boronics(1, smi_already_run, 'ONO')"
   ]
  },
  {
   "cell_type": "code",
   "execution_count": 6,
   "metadata": {},
   "outputs": [
    {
     "data": {
      "image/png": "[encoded data removed]",
      "text/plain": [
       "<IPython.core.display.Image object>"
      ]
     },
     "execution_count": 6,
     "metadata": {},
     "output_type": "execute_result"
    }
   ],
   "source": [
    "smi_not_F = smi_to_run\n",
    "\n",
    "mols = [Chem.MolFromSmiles(smi) for smi in smi_not_F]\n",
    "mols_F = get_fluoride_adduct(mols)\n",
    "smi_F = [Chem.MolToSmiles(mol) for mol in mols_F]\n",
    "Chem.Draw.MolsToGridImage(mols)"
   ]
  },
  {
   "cell_type": "markdown",
   "metadata": {},
   "source": [
    "### Initialize the molecules and generate conformations\n",
    "\n",
    "We will use some ```for``` loops to loop over the smiles"
   ]
  },
  {
   "cell_type": "code",
   "execution_count": 7,
   "metadata": {
    "scrolled": true
   },
   "outputs": [],
   "source": [
    "mols_to_run = []\n",
    "\n",
    "for i in range(len(smi_not_F)):\n",
    "    mol = molecule(smi_not_F[i], num_conf=1)\n",
    "    mol_F = molecule(smi_F[i], num_conf=1)\n",
    "    mols_to_run.append(mol)\n",
    "    mols_to_run.append(mol_F)    "
   ]
  },
  {
   "cell_type": "markdown",
   "metadata": {},
   "source": [
    "Draw some molecules\n",
    "\n",
    "Here you can see that the starting conformers are not optimized, which may cause some Gaussian geometry optimizations to crash"
   ]
  },
  {
   "cell_type": "code",
   "execution_count": 11,
   "metadata": {
    "scrolled": false
   },
   "outputs": [
    {
     "data": {
      "application/vnd.jupyter.widget-view+json": {
       "model_id": "3850fedc74314b7f9c97e09c874e1ced",
       "version_major": 2,
       "version_minor": 0
      },
      "text/plain": [
       "interactive(children=(Dropdown(description='confId', options=(0,), value=0), Output()), _dom_classes=('widget-…"
      ]
     },
     "metadata": {},
     "output_type": "display_data"
    },
    {
     "data": {
      "text/plain": [
       "<function autoqchem.draw_utils._graph_conf(m, confId=0, energies=[])>"
      ]
     },
     "execution_count": 11,
     "metadata": {},
     "output_type": "execute_result"
    }
   ],
   "source": [
    "draw(mols_to_run[0].mol)"
   ]
  },
  {
   "cell_type": "markdown",
   "metadata": {},
   "source": [
    "### Create gaussian jobs for each conformation"
   ]
  },
  {
   "cell_type": "code",
   "execution_count": 8,
   "metadata": {
    "scrolled": true
   },
   "outputs": [
    {
     "name": "stderr",
     "output_type": "stream",
     "text": [
      "INFO:autoqchem.gaussian_input_generator:Generating Gaussian input files for 1 conformations.\n",
      "INFO:autoqchem.gaussian_input_generator:Generating Gaussian input files for 1 conformations.\n"
     ]
    }
   ],
   "source": [
    "for mol in mols_to_run:\n",
    "    sm.create_jobs_for_molecule(mol, workflow_type=\"equilibrium\", theory = \"b3lyp\", light_basis_set=\"6-31G(d)\", partition = 'qAVX2', n_processors = 20)"
   ]
  },
  {
   "cell_type": "code",
   "execution_count": 9,
   "metadata": {
    "scrolled": true
   },
   "outputs": [
    {
     "data": {
      "text/html": [
       "<div>\n",
       "<style scoped>\n",
       "    .dataframe tbody tr th:only-of-type {\n",
       "        vertical-align: middle;\n",
       "    }\n",
       "\n",
       "    .dataframe tbody tr th {\n",
       "        vertical-align: top;\n",
       "    }\n",
       "\n",
       "    .dataframe thead th {\n",
       "        text-align: right;\n",
       "    }\n",
       "</style>\n",
       "<table border=\"1\" class=\"dataframe\">\n",
       "  <thead>\n",
       "    <tr style=\"text-align: right;\">\n",
       "      <th>status</th>\n",
       "      <th>created</th>\n",
       "    </tr>\n",
       "  </thead>\n",
       "  <tbody>\n",
       "    <tr>\n",
       "      <th>jobs</th>\n",
       "      <td>2</td>\n",
       "    </tr>\n",
       "  </tbody>\n",
       "</table>\n",
       "</div>"
      ],
      "text/plain": [
       "status  created\n",
       "jobs          2"
      ]
     },
     "execution_count": 9,
     "metadata": {},
     "output_type": "execute_result"
    }
   ],
   "source": [
    "sm.get_job_stats(split_by_can=False)"
   ]
  },
  {
   "cell_type": "markdown",
   "metadata": {},
   "source": [
    "### Remove Jobs"
   ]
  },
  {
   "cell_type": "markdown",
   "metadata": {},
   "source": [
    "In case you want want to remove some jobs"
   ]
  },
  {
   "cell_type": "code",
   "execution_count": 17,
   "metadata": {},
   "outputs": [],
   "source": [
    "jobs_failed = sm.get_jobs(slurm_status.failed)"
   ]
  },
  {
   "cell_type": "code",
   "execution_count": 18,
   "metadata": {},
   "outputs": [],
   "source": [
    "smi_to_rm = [job.can for job in jobs_failed.values()]"
   ]
  },
  {
   "cell_type": "code",
   "execution_count": 16,
   "metadata": {},
   "outputs": [],
   "source": [
    "smi_to_rm = smi_already_run"
   ]
  },
  {
   "cell_type": "code",
   "execution_count": 17,
   "metadata": {},
   "outputs": [],
   "source": [
    "for smi in smi_to_rm :\n",
    "    sm.remove_jobs(sm.get_jobs(can=smi))"
   ]
  },
  {
   "cell_type": "markdown",
   "metadata": {},
   "source": [
    "### Submit the jobs to the server \n"
   ]
  },
  {
   "cell_type": "markdown",
   "metadata": {},
   "source": [
    "Then, check the status of the jobs on the server"
   ]
  },
  {
   "cell_type": "code",
   "execution_count": 9,
   "metadata": {},
   "outputs": [
    {
     "name": "stderr",
     "output_type": "stream",
     "text": [
      "INFO:autoqchem.slurm_manager:Submitting 2 jobs.\n",
      "INFO:paramiko.transport.sftp:[chan 2] Opened sftp connection (server version 3)\n"
     ]
    },
    {
     "name": "stdout",
     "output_type": "stream",
     "text": [
      "Submitted batch job 37932\n"
     ]
    },
    {
     "name": "stderr",
     "output_type": "stream",
     "text": [
      "INFO:autoqchem.slurm_manager:Submitted job bbe8a674a7ae3172e4c81fc4e4984fdc, job_id: 37932.\n"
     ]
    },
    {
     "name": "stdout",
     "output_type": "stream",
     "text": [
      "Submitted batch job 37933\n"
     ]
    },
    {
     "name": "stderr",
     "output_type": "stream",
     "text": [
      "INFO:autoqchem.slurm_manager:Submitted job e158b3cd77b66901e403f45a836ec901, job_id: 37933.\n"
     ]
    }
   ],
   "source": [
    "sm.submit_jobs()"
   ]
  },
  {
   "cell_type": "code",
   "execution_count": 20,
   "metadata": {
    "scrolled": true
   },
   "outputs": [
    {
     "data": {
      "text/html": [
       "<div>\n",
       "<style scoped>\n",
       "    .dataframe tbody tr th:only-of-type {\n",
       "        vertical-align: middle;\n",
       "    }\n",
       "\n",
       "    .dataframe tbody tr th {\n",
       "        vertical-align: top;\n",
       "    }\n",
       "\n",
       "    .dataframe thead th {\n",
       "        text-align: right;\n",
       "    }\n",
       "</style>\n",
       "<table border=\"1\" class=\"dataframe\">\n",
       "  <thead>\n",
       "    <tr style=\"text-align: right;\">\n",
       "      <th></th>\n",
       "      <th>JOBID</th>\n",
       "      <th>PARTITION</th>\n",
       "      <th>NAME</th>\n",
       "      <th>USER</th>\n",
       "      <th>ST</th>\n",
       "      <th>TIME</th>\n",
       "      <th>NODES</th>\n",
       "      <th>NODELIST(REASON)</th>\n",
       "    </tr>\n",
       "  </thead>\n",
       "  <tbody>\n",
       "  </tbody>\n",
       "</table>\n",
       "</div>"
      ],
      "text/plain": [
       "Empty DataFrame\n",
       "Columns: [JOBID, PARTITION, NAME, USER, ST, TIME, NODES, NODELIST(REASON)]\n",
       "Index: []"
      ]
     },
     "execution_count": 20,
     "metadata": {},
     "output_type": "execute_result"
    }
   ],
   "source": [
    "sm.squeue(summary=False)"
   ]
  },
  {
   "cell_type": "code",
   "execution_count": 15,
   "metadata": {},
   "outputs": [
    {
     "data": {
      "text/plain": [
       "<bound method slurm_manager._scancel of <autoqchem.slurm_manager.slurm_manager object at 0x000001D392062A70>>"
      ]
     },
     "execution_count": 15,
     "metadata": {},
     "output_type": "execute_result"
    }
   ],
   "source": [
    "sm._scancel"
   ]
  },
  {
   "cell_type": "markdown",
   "metadata": {},
   "source": [
    "### Retrieve jobs\n",
    "\n",
    "If there are some finished jobs the log files will be checked for completion and downloaded locally."
   ]
  },
  {
   "cell_type": "code",
   "execution_count": 19,
   "metadata": {
    "scrolled": true
   },
   "outputs": [
    {
     "name": "stderr",
     "output_type": "stream",
     "text": [
      "INFO:autoqchem.slurm_manager:There are 0 running/pending jobs, 4 finished jobs.\n",
      "INFO:autoqchem.slurm_manager:Retrieving log files of finished jobs.\n",
      "WARNING:autoqchem.slurm_manager:Job ARYOANCPHWNJGR-UHFFFAOYSA-N_conf_0 failed  - could not retrieve log file. Cannot resubmit.\n",
      "WARNING:autoqchem.slurm_manager:Job ICZANWZUJJAWMK-UHFFFAOYSA-N_conf_0 failed  - could not retrieve log file. Cannot resubmit.\n",
      "INFO:autoqchem.gaussian_log_extractor:Output file does not have a 'freq' part. Cannot extract frequencies.\n",
      "WARNING:autoqchem.slurm_manager:Job WJQWYQHIAKQLPI-UHFFFAOYSA-N_conf_0 incomplete - geometry optimization did not complete.\n",
      "INFO:autoqchem.gaussian_log_extractor:Output file does not have a 'freq' part. Cannot extract frequencies.\n",
      "WARNING:autoqchem.slurm_manager:Job LBLNUQOAHHTMCM-UHFFFAOYSA-N_conf_0 incomplete - geometry optimization did not complete.\n",
      "INFO:autoqchem.slurm_manager:0 jobs finished successfully (all Gaussian steps finished normally). 4 jobs failed.\n"
     ]
    }
   ],
   "source": [
    "sm.retrieve_jobs()"
   ]
  },
  {
   "cell_type": "code",
   "execution_count": 21,
   "metadata": {
    "scrolled": false
   },
   "outputs": [
    {
     "data": {
      "text/html": [
       "<div>\n",
       "<style scoped>\n",
       "    .dataframe tbody tr th:only-of-type {\n",
       "        vertical-align: middle;\n",
       "    }\n",
       "\n",
       "    .dataframe tbody tr th {\n",
       "        vertical-align: top;\n",
       "    }\n",
       "\n",
       "    .dataframe thead th {\n",
       "        text-align: right;\n",
       "    }\n",
       "</style>\n",
       "<table border=\"1\" class=\"dataframe\">\n",
       "  <thead>\n",
       "    <tr style=\"text-align: right;\">\n",
       "      <th>status</th>\n",
       "      <th>failed</th>\n",
       "      <th>incomplete</th>\n",
       "    </tr>\n",
       "  </thead>\n",
       "  <tbody>\n",
       "    <tr>\n",
       "      <th>jobs</th>\n",
       "      <td>2</td>\n",
       "      <td>2</td>\n",
       "    </tr>\n",
       "  </tbody>\n",
       "</table>\n",
       "</div>"
      ],
      "text/plain": [
       "status  failed  incomplete\n",
       "jobs         2           2"
      ]
     },
     "execution_count": 21,
     "metadata": {},
     "output_type": "execute_result"
    }
   ],
   "source": [
    "sm.get_job_stats(split_by_can=False)"
   ]
  },
  {
   "cell_type": "code",
   "execution_count": 24,
   "metadata": {},
   "outputs": [
    {
     "data": {
      "image/png": "[encoded data removed]",
      "text/plain": [
       "<IPython.core.display.Image object>"
      ]
     },
     "execution_count": 24,
     "metadata": {},
     "output_type": "execute_result"
    }
   ],
   "source": [
    "jobs_failed = sm.get_jobs(slurm_status.failed)\n",
    "smiles_failed = [ job.can for job in jobs_failed.values()]\n",
    "names = [job.base_name for job in jobs_failed.values()]\n",
    "mols_failed = [Chem.MolFromSmiles(smi) for smi in smiles_failed]\n",
    "Chem.Draw.MolsToGridImage(mols_failed, legends = names)"
   ]
  },
  {
   "cell_type": "markdown",
   "metadata": {},
   "source": [
    "### Resubmit incomplete jobs"
   ]
  },
  {
   "cell_type": "code",
   "execution_count": 4,
   "metadata": {},
   "outputs": [
    {
     "name": "stderr",
     "output_type": "stream",
     "text": [
      "INFO:autoqchem.slurm_manager:Substituting last checked geometry in the new input file.\n",
      "INFO:paramiko.transport.sftp:[chan 2] Opened sftp connection (server version 3)\n"
     ]
    },
    {
     "name": "stdout",
     "output_type": "stream",
     "text": [
      "Submitted batch job 11567\n"
     ]
    },
    {
     "name": "stderr",
     "output_type": "stream",
     "text": [
      "INFO:autoqchem.slurm_manager:Submitted job fd3046553bae860f945bc6436240fb98, job_id: 11567.\n"
     ]
    }
   ],
   "source": [
    "sm.resubmit_incomplete_jobs()"
   ]
  },
  {
   "cell_type": "code",
   "execution_count": 14,
   "metadata": {},
   "outputs": [
    {
     "data": {
      "text/html": [
       "<div>\n",
       "<style scoped>\n",
       "    .dataframe tbody tr th:only-of-type {\n",
       "        vertical-align: middle;\n",
       "    }\n",
       "\n",
       "    .dataframe tbody tr th {\n",
       "        vertical-align: top;\n",
       "    }\n",
       "\n",
       "    .dataframe thead th {\n",
       "        text-align: right;\n",
       "    }\n",
       "</style>\n",
       "<table border=\"1\" class=\"dataframe\">\n",
       "  <thead>\n",
       "    <tr style=\"text-align: right;\">\n",
       "      <th>status</th>\n",
       "    </tr>\n",
       "  </thead>\n",
       "  <tbody>\n",
       "    <tr>\n",
       "      <th>jobs</th>\n",
       "    </tr>\n",
       "  </tbody>\n",
       "</table>\n",
       "</div>"
      ],
      "text/plain": [
       "Empty DataFrame\n",
       "Columns: []\n",
       "Index: [jobs]"
      ]
     },
     "execution_count": 14,
     "metadata": {},
     "output_type": "execute_result"
    }
   ],
   "source": [
    "sm.get_job_stats()"
   ]
  },
  {
   "cell_type": "markdown",
   "metadata": {},
   "source": [
    "### Upload molecules to the database"
   ]
  },
  {
   "cell_type": "code",
   "execution_count": 7,
   "metadata": {
    "scrolled": false
   },
   "outputs": [
    {
     "name": "stderr",
     "output_type": "stream",
     "text": [
      "INFO:autoqchem.slurm_manager:There are 1 finished molecules ['N#Cc1c([N+](=O)[O-])cc2c(c1C#N)OB1Oc3c(cc([N+](=O)[O-])c(C#N)c3C#N)N12'].\n",
      "INFO:autoqchem.slurm_manager:Molecule N#Cc1c([N+](=O)[O-])cc2c(c1C#N)OB1Oc3c(cc([N+](=O)[O-])c(C#N)c3C#N)N12 has 0 / 1 duplicate conformers.\n",
      "INFO:autoqchem.slurm_manager:Removing 0 / 1 jobs and log files that contain duplicate conformers.\n",
      "INFO:autoqchem.slurm_manager:Uploaded descriptors to DB for smiles: N#Cc1c([N+](=O)[O-])cc2c(c1C#N)OB1Oc3c(cc([N+](=O)[O-])c(C#N)c3C#N)N12, number of conformers: 1, DB molecule id 6530e23736dc4c9c0270f942.\n"
     ]
    }
   ],
   "source": [
    "sm.upload_done_molecules_to_db(tags=['boron_LA_ONO_ar_2'])"
   ]
  },
  {
   "cell_type": "markdown",
   "metadata": {},
   "source": [
    "### Reorganization energy jobs"
   ]
  },
  {
   "cell_type": "code",
   "execution_count": 14,
   "metadata": {},
   "outputs": [
    {
     "name": "stdout",
     "output_type": "stream",
     "text": [
      "folder name of remote directory: test\n",
      "user: jfenogli\n",
      "host: hermite.chimie.ens.fr\n",
      "port: 8000\n"
     ]
    }
   ],
   "source": [
    "from scripts.reorganization_energy_utils import *"
   ]
  },
  {
   "cell_type": "code",
   "execution_count": 19,
   "metadata": {},
   "outputs": [],
   "source": [
    "smiles_LA = smi_already_run"
   ]
  },
  {
   "cell_type": "code",
   "execution_count": 20,
   "metadata": {},
   "outputs": [
    {
     "data": {
      "text/plain": [
       "['O=[N+]([O-])c1cccc2c1OB1Oc3c(cccc3[N+](=O)[O-])N12',\n",
       " 'O=[N+]([O-])c1cccc2c1O[B-]1(F)Oc3c(cccc3[N+](=O)[O-])N21',\n",
       " 'O=[N+]([O-])c1ccc2c(c1)OB1Oc3cc([N+](=O)[O-])ccc3N12',\n",
       " 'O=[N+]([O-])c1ccc2c(c1)O[B-]1(F)Oc3cc([N+](=O)[O-])ccc3N21']"
      ]
     },
     "execution_count": 20,
     "metadata": {},
     "output_type": "execute_result"
    }
   ],
   "source": [
    "smiles_LA"
   ]
  },
  {
   "cell_type": "code",
   "execution_count": 21,
   "metadata": {},
   "outputs": [],
   "source": [
    "smi_to_rm = []\n",
    "for smi in smiles_LA : \n",
    "    if '[B-]' in smi :\n",
    "        smi_to_rm.append(smi)\n",
    "    if '[BH-]' in smi :\n",
    "        smi_to_rm.append(smi)\n",
    "for smi in smi_to_rm :\n",
    "    smiles_LA.remove(smi)"
   ]
  },
  {
   "cell_type": "code",
   "execution_count": 22,
   "metadata": {},
   "outputs": [
    {
     "ename": "FileNotFoundError",
     "evalue": "[Errno 2] No such file or directory: 'C:\\\\Users\\\\Juliette\\\\AppData\\\\Local\\\\autoqchem\\\\hermite/test/ADNQGMVGVZYYEA-UHFFFAOYSA-N/ADNQGMVGVZYYEA-UHFFFAOYSA-N_conf_0.log'",
     "output_type": "error",
     "traceback": [
      "\u001b[1;31m---------------------------------------------------------------------------\u001b[0m",
      "\u001b[1;31mFileNotFoundError\u001b[0m                         Traceback (most recent call last)",
      "Cell \u001b[1;32mIn[22], line 2\u001b[0m\n\u001b[0;32m      1\u001b[0m \u001b[38;5;28;01mfor\u001b[39;00m smi \u001b[38;5;129;01min\u001b[39;00m smiles_LA[:]:\n\u001b[1;32m----> 2\u001b[0m     \u001b[43mcreate_reorg_geom_input_files\u001b[49m\u001b[43m(\u001b[49m\u001b[43msmi\u001b[49m\u001b[43m)\u001b[49m\n",
      "File \u001b[1;32m~\\Desktop\\FIA-publi\\notebooks\\..\\scripts\\reorganization_energy_utils.py:41\u001b[0m, in \u001b[0;36mcreate_reorg_geom_input_files\u001b[1;34m(smi)\u001b[0m\n\u001b[0;32m     39\u001b[0m job_F \u001b[38;5;241m=\u001b[39m \u001b[38;5;28mlist\u001b[39m(sm\u001b[38;5;241m.\u001b[39mget_jobs(can \u001b[38;5;241m=\u001b[39m smi_F)\u001b[38;5;241m.\u001b[39mitems())[\u001b[38;5;241m0\u001b[39m][\u001b[38;5;241m1\u001b[39m]\n\u001b[0;32m     40\u001b[0m job_F_log \u001b[38;5;241m=\u001b[39m \u001b[38;5;124mf\u001b[39m\u001b[38;5;124m\"\u001b[39m\u001b[38;5;132;01m{\u001b[39;00mjob_F\u001b[38;5;241m.\u001b[39mdirectory\u001b[38;5;132;01m}\u001b[39;00m\u001b[38;5;124m/\u001b[39m\u001b[38;5;132;01m{\u001b[39;00mjob_F\u001b[38;5;241m.\u001b[39mbase_name\u001b[38;5;132;01m}\u001b[39;00m\u001b[38;5;124m.log\u001b[39m\u001b[38;5;124m\"\u001b[39m\n\u001b[1;32m---> 41\u001b[0m le \u001b[38;5;241m=\u001b[39m \u001b[43mgaussian_log_extractor\u001b[49m\u001b[43m(\u001b[49m\u001b[43mjob_F_log\u001b[49m\u001b[43m)\u001b[49m\n\u001b[0;32m     42\u001b[0m le\u001b[38;5;241m.\u001b[39mget_atom_labels()\n\u001b[0;32m     43\u001b[0m le\u001b[38;5;241m.\u001b[39mget_geometry()\n",
      "File \u001b[1;32m~\\Desktop\\FIA-publi\\notebooks\\..\\autoqchem\\gaussian_log_extractor.py:19\u001b[0m, in \u001b[0;36mgaussian_log_extractor.__init__\u001b[1;34m(self, log_file_path)\u001b[0m\n\u001b[0;32m     12\u001b[0m \u001b[38;5;28;01mdef\u001b[39;00m \u001b[38;5;21m__init__\u001b[39m(\u001b[38;5;28mself\u001b[39m, log_file_path):\n\u001b[0;32m     13\u001b[0m     \u001b[38;5;124;03m\"\"\"Initialize the log extractor. Extract molecule geometry and atom labels.\u001b[39;00m\n\u001b[0;32m     14\u001b[0m \n\u001b[0;32m     15\u001b[0m \u001b[38;5;124;03m    :param log_file_path: local path of the log file\u001b[39;00m\n\u001b[0;32m     16\u001b[0m \u001b[38;5;124;03m    :type log_file_path: str\u001b[39;00m\n\u001b[0;32m     17\u001b[0m \u001b[38;5;124;03m    \"\"\"\u001b[39;00m\n\u001b[1;32m---> 19\u001b[0m     \u001b[38;5;28;01mwith\u001b[39;00m \u001b[38;5;28;43mopen\u001b[39;49m\u001b[43m(\u001b[49m\u001b[43mlog_file_path\u001b[49m\u001b[43m)\u001b[49m \u001b[38;5;28;01mas\u001b[39;00m f:\n\u001b[0;32m     20\u001b[0m         \u001b[38;5;28mself\u001b[39m\u001b[38;5;241m.\u001b[39mlog \u001b[38;5;241m=\u001b[39m f\u001b[38;5;241m.\u001b[39mread()\n\u001b[0;32m     22\u001b[0m     \u001b[38;5;66;03m# initialize descriptors\u001b[39;00m\n",
      "\u001b[1;31mFileNotFoundError\u001b[0m: [Errno 2] No such file or directory: 'C:\\\\Users\\\\Juliette\\\\AppData\\\\Local\\\\autoqchem\\\\hermite/test/ADNQGMVGVZYYEA-UHFFFAOYSA-N/ADNQGMVGVZYYEA-UHFFFAOYSA-N_conf_0.log'"
     ]
    }
   ],
   "source": [
    "for smi in smiles_LA[:]:\n",
    "    create_reorg_geom_input_files(smi)"
   ]
  },
  {
   "cell_type": "code",
   "execution_count": 18,
   "metadata": {
    "scrolled": true
   },
   "outputs": [],
   "source": [
    "for smi in smiles_LA[:]:\n",
    "    submit_pyramid_spe_calc(smi)"
   ]
  },
  {
   "cell_type": "code",
   "execution_count": 19,
   "metadata": {
    "scrolled": true
   },
   "outputs": [],
   "source": [
    "for smi in smiles_LA[:]:\n",
    "    retrieve_pyramid_log_file(smi)"
   ]
  },
  {
   "cell_type": "markdown",
   "metadata": {},
   "source": [
    "### Compute FIA"
   ]
  },
  {
   "cell_type": "code",
   "execution_count": 25,
   "metadata": {},
   "outputs": [
    {
     "name": "stdout",
     "output_type": "stream",
     "text": [
      "folder name of remote directory: test\n",
      "user: jfenogli\n",
      "host: hermite.chimie.ens.fr\n",
      "port: 8000\n"
     ]
    }
   ],
   "source": [
    "from scripts.compute_FIA_HIA_utils import *\n",
    "from autoqchem.db_functions import *\n",
    "from scripts.machine_learning_utils import *"
   ]
  },
  {
   "cell_type": "code",
   "execution_count": 27,
   "metadata": {},
   "outputs": [],
   "source": [
    "from scripts.manage_data import *"
   ]
  },
  {
   "cell_type": "code",
   "execution_count": 28,
   "metadata": {
    "scrolled": false
   },
   "outputs": [
    {
     "name": "stderr",
     "output_type": "stream",
     "text": [
      "C:\\Users\\Juliette\\Desktop\\FIA-publi\\notebooks\\..\\autoqchem\\db_functions.py:216: FutureWarning: Indexing with multiple keys (implicitly converted to a tuple of keys) will be deprecated, use a list instead.\n",
      "  df = pd.concat([grouped['metadata', 'molecule_id', 'name'].first(),\n",
      "C:\\Users\\Juliette\\Desktop\\FIA-publi\\notebooks\\..\\autoqchem\\db_functions.py:216: FutureWarning: Indexing with multiple keys (implicitly converted to a tuple of keys) will be deprecated, use a list instead.\n",
      "  df = pd.concat([grouped['metadata', 'molecule_id', 'name'].first(),\n",
      "C:\\Users\\Juliette\\Desktop\\FIA-publi\\notebooks\\..\\autoqchem\\db_functions.py:368: FutureWarning: iteritems is deprecated and will be removed in a future version. Use .items instead.\n",
      "  dg = pd.concat([d['descriptors'] for can, d in descs_df.iteritems()], axis=1, sort=True)\n"
     ]
    }
   ],
   "source": [
    "mol_df_ONO = db_select_molecules(tags=[\"boron_LA_ONO_ar_2\"])\n",
    "\n",
    "data_ONO = descriptors([\"boron_LA_ONO_ar_2\"], presets=['global', 'substructure'], \n",
    "            conf_option='mean', \n",
    "            solvent='None', \n",
    "            functional='M062X', \n",
    "            basis_set=\"6-31G(d)\",\n",
    "            substructure='B')\n",
    "data_ONO = LA_only(data_ONO)\n",
    "\n",
    "smiles_ONO = []\n",
    "for i in mol_df_ONO.axes[0]:\n",
    "    smiles_ONO.append(mol_df_ONO.at[i,'can'])\n",
    "\n",
    "smi_to_rm = []\n",
    "for smi in smiles_ONO : \n",
    "    if '[B-]' in smi :\n",
    "        smi_to_rm.append(smi)\n",
    "    if '[BH-]' in smi :\n",
    "        smi_to_rm.append(smi)\n",
    "for smi in smi_to_rm :\n",
    "    smiles_ONO.remove(smi)\n",
    "    \n",
    "smiles = smiles_ONO"
   ]
  },
  {
   "cell_type": "code",
   "execution_count": 11,
   "metadata": {},
   "outputs": [
    {
     "name": "stderr",
     "output_type": "stream",
     "text": [
      "[12:39:21] WARNING: not removing hydrogen atom without neighbors\n"
     ]
    }
   ],
   "source": [
    "FIA = list_FIA(smiles)"
   ]
  },
  {
   "cell_type": "code",
   "execution_count": null,
   "metadata": {},
   "outputs": [],
   "source": [
    "FIA_str = []\n",
    "for fia in FIA : \n",
    "    if type(fia) != str :\n",
    "        fia = round(fia,3)\n",
    "    FIA_str.append(str(fia))\n",
    "mols = []\n",
    "for i in range(len(smiles_ONO)):\n",
    "    mols.append(Chem.MolFromSmiles(smiles_ONO[i]))\n",
    "    #mols.append(Chem.MolFromSmiles(smiles_F[i]))            \n",
    "Chem.Draw.MolsToGridImage(mols, molsPerRow=10, subImgSize=(400,500), legends = FIA_str, maxMols=200)"
   ]
  },
  {
   "cell_type": "code",
   "execution_count": 31,
   "metadata": {},
   "outputs": [],
   "source": [
    "reorg_nrjs = reorganization_nrj(smiles)"
   ]
  },
  {
   "cell_type": "code",
   "execution_count": 19,
   "metadata": {},
   "outputs": [],
   "source": [
    "def replace(value):\n",
    "    if type(value)==str :\n",
    "        return(None)\n",
    "    elif value == None : \n",
    "        return(None)\n",
    "    elif value <=0 :\n",
    "        return(None)\n",
    "    elif value >=2000 :\n",
    "        return(None)\n",
    "    else :\n",
    "        return(value)"
   ]
  },
  {
   "cell_type": "code",
   "execution_count": 20,
   "metadata": {},
   "outputs": [],
   "source": [
    "FIA = [replace(fia) for fia in FIA]\n",
    "#HIA = [replace(hia) for hia in FIA]\n",
    "#reorg_nrjs = [replace(nrj) for nrj in reorg_nrjs]"
   ]
  },
  {
   "cell_type": "code",
   "execution_count": 23,
   "metadata": {},
   "outputs": [
    {
     "data": {
      "text/plain": [
       "179"
      ]
     },
     "execution_count": 23,
     "metadata": {},
     "output_type": "execute_result"
    }
   ],
   "source": [
    "len(FIA)"
   ]
  },
  {
   "cell_type": "code",
   "execution_count": 25,
   "metadata": {},
   "outputs": [],
   "source": [
    "import pandas as pd"
   ]
  },
  {
   "cell_type": "code",
   "execution_count": 26,
   "metadata": {},
   "outputs": [],
   "source": [
    "df = pd.DataFrame()"
   ]
  },
  {
   "cell_type": "code",
   "execution_count": 32,
   "metadata": {},
   "outputs": [
    {
     "data": {
      "text/html": [
       "<div>\n",
       "<style scoped>\n",
       "    .dataframe tbody tr th:only-of-type {\n",
       "        vertical-align: middle;\n",
       "    }\n",
       "\n",
       "    .dataframe tbody tr th {\n",
       "        vertical-align: top;\n",
       "    }\n",
       "\n",
       "    .dataframe thead th {\n",
       "        text-align: right;\n",
       "    }\n",
       "</style>\n",
       "<table border=\"1\" class=\"dataframe\">\n",
       "  <thead>\n",
       "    <tr style=\"text-align: right;\">\n",
       "      <th></th>\n",
       "      <th>SMILES</th>\n",
       "      <th>FIA</th>\n",
       "    </tr>\n",
       "  </thead>\n",
       "  <tbody>\n",
       "  </tbody>\n",
       "</table>\n",
       "</div>"
      ],
      "text/plain": [
       "Empty DataFrame\n",
       "Columns: [SMILES, FIA]\n",
       "Index: []"
      ]
     },
     "execution_count": 32,
     "metadata": {},
     "output_type": "execute_result"
    }
   ],
   "source": [
    "df['SMILES']=smiles\n",
    "df['FIA']=FIA"
   ]
  },
  {
   "cell_type": "code",
   "execution_count": 40,
   "metadata": {},
   "outputs": [],
   "source": [
    "df = df.set_index('SMILES')\n",
    "df.to_csv(\"tables/data/table_smiles_FIA_ONO.csv\")"
   ]
  }
 ],
 "metadata": {
  "kernelspec": {
   "display_name": "Python 3 (ipykernel)",
   "language": "python",
   "name": "python3"
  },
  "language_info": {
   "codemirror_mode": {
    "name": "ipython",
    "version": 3
   },
   "file_extension": ".py",
   "mimetype": "text/x-python",
   "name": "python",
   "nbconvert_exporter": "python",
   "pygments_lexer": "ipython3",
   "version": "3.10.9"
  }
 },
 "nbformat": 4,
 "nbformat_minor": 4
}
