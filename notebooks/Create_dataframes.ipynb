{
 "cells": [
  {
   "cell_type": "markdown",
   "id": "bc593acc",
   "metadata": {},
   "source": [
    "## Importations"
   ]
  },
  {
   "cell_type": "code",
   "execution_count": 5,
   "id": "a687b901",
   "metadata": {
    "scrolled": false
   },
   "outputs": [],
   "source": [
    "import matplotlib.pyplot as plt\n",
    "from matplotlib import rc\n",
    "import numpy as np\n",
    "import sys\n",
    "sys.path.append('../')\n",
    "\n",
    "## ML\n",
    "from scripts.machine_learning_utils import *\n",
    "\n",
    "##data\n",
    "from scripts.manage_data import *\n",
    "\n",
    "import pandas as pd\n",
    "\n"
   ]
  },
  {
   "cell_type": "markdown",
   "id": "42b65a92",
   "metadata": {},
   "source": [
    "### Gather quantum descriptors"
   ]
  },
  {
   "cell_type": "code",
   "execution_count": null,
   "id": "6983bd82",
   "metadata": {
    "scrolled": false
   },
   "outputs": [],
   "source": [
    "from autoqchem.db_functions import *\n",
    "\n",
    "data_ONO = descriptors([\"boron_LA_ONO_ar_2\"], presets=['global', 'substructure'], \n",
    "            conf_option='mean', \n",
    "            solvent='None', \n",
    "            functional='M062X', \n",
    "            basis_set=\"6-31G(d)\",\n",
    "            substructure='B')\n",
    "data_ONO = LA_only(data_ONO)\n",
    "\n",
    "data_NNN = descriptors([\"boron_LA_NNN_ar_2\"], presets=['global', 'substructure'], \n",
    "            conf_option='mean', \n",
    "            solvent='None', \n",
    "            functional='M062X', \n",
    "            basis_set=\"6-31G(d)\",\n",
    "            substructure='B')\n",
    "data_NNN = LA_only(data_NNN)\n",
    "\n",
    "data_OCO = descriptors([\"boron_LA_ohmiya_CB\"], presets=['global', 'substructure'], \n",
    "            conf_option='mean', \n",
    "            solvent='None', \n",
    "            functional='M062X', \n",
    "            basis_set=\"6-31G(d)\",\n",
    "            substructure='B')\n",
    "data_OCO = LA_only(data_OCO)\n",
    "\n",
    "data_NMR_LA = descriptors([\"boron_LA_NMR_data\"], presets=['global', 'substructure'], \n",
    "            conf_option='mean', \n",
    "            solvent='None', \n",
    "            functional='M062X', \n",
    "            basis_set=\"6-31G(d)\",\n",
    "            substructure='B')\n",
    "data_NMR_LA = LA_only(data_NMR_LA)\n",
    "\n",
    "data_various_boron_LA = descriptors([\"various_boron_LA\"], presets=['global', 'substructure'], \n",
    "            conf_option='mean', \n",
    "            solvent='None', \n",
    "            functional='M062X', \n",
    "            basis_set=\"6-31G(d)\",\n",
    "            substructure='B')\n",
    "data_various_boron_LA = LA_only(data_various_boron_LA)\n",
    "\n",
    "data_triarylboranes = descriptors([\"boron_LA_triarylboranes\"], presets=['global', 'substructure'], \n",
    "            conf_option='mean', \n",
    "            solvent='None', \n",
    "            functional='M062X', \n",
    "            basis_set=\"6-31G(d)\",\n",
    "            substructure='B')\n",
    "data_triarylboranes = LA_only(data_triarylboranes)\n",
    "\n",
    "\n",
    "## Quantum descriptors for the 4 molecular structures\n",
    "df_global = (data_OCO['global'].append(data_NNN['global'])).append(data_ONO['global']).append(data_NMR_LA['global']).append(data_various_boron_LA['global']).append(data_triarylboranes['global'])\n",
    "\n",
    "df_atom1 = data_OCO['atom1'].append(data_NNN['atom1']).append(data_ONO['atom1']).append(data_NMR_LA['atom1']).append(data_various_boron_LA['atom1']).append(data_triarylboranes[\"atom1\"])\n"
   ]
  },
  {
   "cell_type": "code",
   "execution_count": null,
   "id": "8de94bd1",
   "metadata": {},
   "outputs": [],
   "source": [
    "df_atom1 = df_atom1.drop('labels',axis=1)\n",
    "df_atom1 = df_atom1.reset_index()\n",
    "df_atom1_indexed = index_data(df_atom1)\n",
    "df_atom1_indexed.to_csv('../tables/descriptors/df_atom1_ext.csv')\n",
    "\n",
    "df_global = df_global.reset_index()\n",
    "df_global_indexed = index_data(df_global)\n",
    "df_global_indexed.to_csv('../tables/descriptors/df_global_ext.csv')"
   ]
  },
  {
   "cell_type": "code",
   "execution_count": 13,
   "id": "5ac560da",
   "metadata": {},
   "outputs": [],
   "source": [
    "## Import quantum descriptors\n",
    "df_atom1 = pd.read_csv('../tables/descriptors/df_atom1_ext.csv').set_index(\"can\")\n",
    "df_global = pd.read_csv('../tables/descriptors/df_global_ext.csv').set_index(\"can\")\n",
    "\n",
    "data_Q_tot = {}\n",
    "\n",
    "data_Q_tot['global']=df_global\n",
    "\n",
    "data_Q_tot['atom1']=df_atom1"
   ]
  },
  {
   "cell_type": "markdown",
   "id": "6e83038c",
   "metadata": {},
   "source": [
    "### Gather Lewis acidity energy data"
   ]
  },
  {
   "cell_type": "markdown",
   "id": "5af83e28",
   "metadata": {},
   "source": [
    "#### Create df_total, a dataframe containing all available energy metrics of Lewis acidity for the 4 molecular structures datasets"
   ]
  },
  {
   "cell_type": "code",
   "execution_count": 14,
   "id": "fe17aa5a",
   "metadata": {
    "scrolled": false
   },
   "outputs": [
    {
     "name": "stderr",
     "output_type": "stream",
     "text": [
      "C:\\Users\\Juliette\\AppData\\Local\\Temp\\ipykernel_5072\\242246038.py:13: FutureWarning: The frame.append method is deprecated and will be removed from pandas in a future version. Use pandas.concat instead.\n",
      "  df_total = df_total.append(df_NNN)\n",
      "C:\\Users\\Juliette\\AppData\\Local\\Temp\\ipykernel_5072\\242246038.py:14: FutureWarning: The frame.append method is deprecated and will be removed from pandas in a future version. Use pandas.concat instead.\n",
      "  df_total = df_total.append(df_ONO)\n",
      "C:\\Users\\Juliette\\AppData\\Local\\Temp\\ipykernel_5072\\242246038.py:15: FutureWarning: The frame.append method is deprecated and will be removed from pandas in a future version. Use pandas.concat instead.\n",
      "  df_total = df_total.append(df_triarylboranes)\n"
     ]
    }
   ],
   "source": [
    "# ONO, NNN, OCO, triarylboranes molecules\n",
    "\n",
    "df_OCO = pd.read_csv('../tables/data/table_smiles_FIA_OCO.csv').set_index('SMILES').drop_duplicates()\n",
    "df_OCO[\"group\"] = ['OCO' for i in range(len(df_OCO)) ]\n",
    "df_NNN    = pd.read_csv('../tables/data/table_smiles_FIA_NNN.csv').set_index('SMILES').drop_duplicates()\n",
    "df_NNN[\"group\"] = ['NNN' for i in range(len(df_NNN))]\n",
    "df_ONO    = pd.read_csv('../tables/data/table_smiles_FIA_ONO_extended.csv').set_index('SMILES').drop_duplicates()\n",
    "df_ONO[\"group\"] = ['ONO' for i in range(len(df_ONO))]\n",
    "df_triarylboranes = pd.read_csv(\"../tables/data/table_smiles_FIA_triarylboranes.csv\").set_index('SMILES').drop_duplicates()\n",
    "df_triarylboranes['group'] = ['triarylboranes' for i in range(len(df_triarylboranes))]\n",
    "\n",
    "df_total = df_OCO\n",
    "df_total = df_total.append(df_NNN)\n",
    "df_total = df_total.append(df_ONO)\n",
    "df_total = df_total.append(df_triarylboranes)\n",
    "\n",
    "# index df_total with smiles written in the RDKit way\n",
    "df_total = df_total.reset_index()\n",
    "df_total = replace_with_rdkit_smiles(df_total)            \n",
    "df_total = df_total.set_index('SMILES')\n",
    "\n",
    "\n",
    "# gather data for which we computed other metrics of LA\n",
    "df_OCO_HIA_reorg_nrj = create_df('../tables/data/table_smiles_FIA_HIA_reorg_nrj_OCO.csv')\n",
    "\n",
    "df_NNN_HIA_reorg_nrj = create_df('../tables/data/table_smiles_FIA_HIA_reorg_nrj_NNN.csv')\n",
    "df_ONO_HIA = create_df('../tables/data/table_smiles_FIA_HIA_ONO.csv')\n",
    "df_ONO_reorg_nrj = create_df('../tables/data/table_smiles_FIA_reorg_nrj_ONO.csv')\n",
    "\n",
    "df_total['HIA'] = [None for i in range(len(df_total))]\n",
    "df_total['reorg_nrj'] = [None for i in range(len(df_total))]\n",
    " \n",
    "df_list = [df_OCO_HIA_reorg_nrj, df_NNN_HIA_reorg_nrj, df_ONO_HIA]\n",
    "for df in df_list :\n",
    "    for smi in df.index :         \n",
    "        df_total.at[smi, 'HIA']=df.at[smi, 'HIA']\n",
    "    \n",
    "df_list = [df_OCO_HIA_reorg_nrj, df_NNN_HIA_reorg_nrj, df_ONO_reorg_nrj]\n",
    "for df in df_list :\n",
    "    for smi in df.index :    \n",
    "        df_total.at[smi, 'reorg_nrj']=df.at[smi, 'reorg_nrj']\n",
    "\n",
    "## add GEI to total dataframe\n",
    "\n",
    "df_total['GEI'] = [0 for i in range(len(df_total))]\n",
    "\n",
    "for smi in df_total.index :\n",
    "    try : \n",
    "        ki = df_global.at[smi,\"electronegativity\"]\n",
    "        hardness = df_global.at[smi,\"hardness\"]\n",
    "    except :\n",
    "        print(f'smi {smi} not found, converting to rdkit smi')\n",
    "        rdkit_smi = Chem.MolToSmiles(Chem.MolFromSmiles(smi))        \n",
    "        ki = df_global.at[rdkit_smi,\"electronegativity\"]\n",
    "        hardness = df_global.at[rdkit_smi,\"hardness\"]\n",
    "    \n",
    "    gei = (ki**2)/(2*hardness)*27.2107 #conversion to eV\n",
    "    try : df_total.at[smi, 'GEI'] = gei\n",
    "    except : \n",
    "        print(f\"no GEI data for {smi}\")\n",
    "        df_total.at[smi, 'GEI'] = None\n"
   ]
  },
  {
   "cell_type": "code",
   "execution_count": 17,
   "id": "4215278e",
   "metadata": {},
   "outputs": [],
   "source": [
    "df_total.to_csv('../tables/data/df_total.csv')"
   ]
  },
  {
   "cell_type": "markdown",
   "id": "169fc851",
   "metadata": {},
   "source": [
    "### Gather Gutmann-Beckett data from the litterature and computed energies for various LA"
   ]
  },
  {
   "cell_type": "markdown",
   "id": "0f059cd9",
   "metadata": {},
   "source": [
    "This dataframe wil contain all available data to compare Lewis acidity metrics"
   ]
  },
  {
   "cell_type": "code",
   "execution_count": 24,
   "id": "e23774ef",
   "metadata": {},
   "outputs": [],
   "source": [
    "df_NMR_nrjs = pd.read_csv('../tables/data/table_NMR_LA_smiles_FIA_HIA_reorg_nrj.csv')\n",
    "df_NMR_data = pd.read_excel('../tables/data/table_smiles_NMR.xlsx')\n",
    "df_small_LA_nrjs = pd.read_csv('../tables/data/table_smiles_FIA_HIA_reorg_nrj_small_boron_LA.csv')"
   ]
  },
  {
   "cell_type": "code",
   "execution_count": 25,
   "id": "931a93e2",
   "metadata": {},
   "outputs": [
    {
     "name": "stdout",
     "output_type": "stream",
     "text": [
      "nan\n",
      "nan\n",
      "nan\n",
      "nan\n",
      "nan\n",
      "nan\n",
      "nan\n",
      "nan\n",
      "nan\n",
      "nan\n",
      "nan\n",
      "nan\n"
     ]
    }
   ],
   "source": [
    "df_NMR_nrjs = replace_with_rdkit_smiles(df_NMR_nrjs)\n",
    "df_NMR_data = replace_with_rdkit_smiles(df_NMR_data)\n",
    "df_small_LA_nrjs = replace_with_rdkit_smiles(df_small_LA_nrjs)"
   ]
  },
  {
   "cell_type": "code",
   "execution_count": 26,
   "id": "802982b5",
   "metadata": {},
   "outputs": [],
   "source": [
    "df_NMR_data = df_NMR_data.dropna(subset = 'SMILES')"
   ]
  },
  {
   "cell_type": "code",
   "execution_count": 27,
   "id": "70f71f51",
   "metadata": {},
   "outputs": [],
   "source": [
    "df_NMR_nrjs = df_NMR_nrjs.set_index('SMILES')\n",
    "df_NMR_data = df_NMR_data.set_index('SMILES')\n",
    "df_small_LA_nrjs = df_small_LA_nrjs.set_index('SMILES')\n",
    "#df_NMR_FIA = df_NMR_FIA.set_index('SMILES')"
   ]
  },
  {
   "cell_type": "code",
   "execution_count": 28,
   "id": "0cdda872",
   "metadata": {},
   "outputs": [],
   "source": [
    "FIA = []\n",
    "HIA = []\n",
    "r_nrjs = []\n",
    "GEIs = []\n",
    "\n",
    "for smi in df_NMR_data.index:\n",
    "    \n",
    "    try : fia = df_NMR_nrjs.at[smi, \"FIA\"]\n",
    "    except : \n",
    "        try : fia = df_small_LA_nrjs.at[smi,\"FIA\"]\n",
    "        except : fia = None\n",
    "    FIA.append(fia)\n",
    "    \n",
    "    try : hia = df_NMR_nrjs.at[smi, \"HIA\"]\n",
    "    except : \n",
    "        try : hia = df_small_LA_nrjs.at[smi,\"HIA\"]\n",
    "        except : hia = None\n",
    "    HIA.append(hia)\n",
    "    \n",
    "    try : reorg_nrj = df_NMR_nrjs.at[smi,'reorg_nrj']\n",
    "    except :\n",
    "        try : reorg_nrj = df_small_LA_nrjs.at[smi,\"reorg_nrj\"]\n",
    "        except : reorg_nrj = None\n",
    "    r_nrjs.append(reorg_nrj)\n",
    "    \n",
    "    ki = df_global.at[smi,\"electronegativity\"]\n",
    "    hardness = df_global.at[smi,\"hardness\"]\n",
    "    gei = (ki**2)/(2*hardness)*27.2107\n",
    "    GEIs.append(gei)\n",
    "\n",
    "    "
   ]
  },
  {
   "cell_type": "code",
   "execution_count": 29,
   "id": "2a023688",
   "metadata": {},
   "outputs": [],
   "source": [
    "df_NMR_data['FIA']=FIA\n",
    "df_NMR_data['HIA']=HIA\n",
    "df_NMR_data['reorg_nrj']=r_nrjs\n",
    "df_NMR_data['GEI']=GEIs"
   ]
  },
  {
   "cell_type": "code",
   "execution_count": 30,
   "id": "4acd070e",
   "metadata": {},
   "outputs": [],
   "source": [
    "df_NMR_data.to_excel('../tables/data/NMR_smiles_data_sources_nrjs.xlsx') "
   ]
  },
  {
   "cell_type": "markdown",
   "id": "cab51a39",
   "metadata": {},
   "source": [
    "### Gather all data for Lewis acidity scale studies"
   ]
  },
  {
   "cell_type": "code",
   "execution_count": 50,
   "id": "3dfe3186",
   "metadata": {},
   "outputs": [],
   "source": [
    "df_all_data = df_NMR_data.drop(labels= ['delta (neat)', \"Ddelta (neat)\", 'delta (CD2Cl2)', \"Ddelta (CD2Cl2)\", \"source\", \"delta (C6D6)\", \"Ddelta(C6D6)\", \"source.1\"], axis =1)"
   ]
  },
  {
   "cell_type": "code",
   "execution_count": 51,
   "id": "ba072aad",
   "metadata": {},
   "outputs": [],
   "source": [
    "df_small_LA = pd.read_csv('../tables/data/df_small_LA.csv')"
   ]
  },
  {
   "cell_type": "code",
   "execution_count": 52,
   "id": "a852bee4",
   "metadata": {},
   "outputs": [],
   "source": [
    "df_small_LA = replace_with_rdkit_smiles(df_small_LA)\n",
    "df_small_LA = df_small_LA.set_index(\"SMILES\")"
   ]
  },
  {
   "cell_type": "code",
   "execution_count": 56,
   "id": "0fa937fc",
   "metadata": {},
   "outputs": [],
   "source": [
    "for smi in df_small_LA.index :\n",
    "    if smi not in df_NMR_data.index :\n",
    "        df_all_data.at[smi,\"FIA\"] = df_small_LA.at[smi,\"FIA\"]\n",
    "        df_all_data.at[smi,\"name\"] = df_small_LA.at[smi,\"names\"]\n",
    "        df_all_data.at[smi,\"reorg_nrj\"] = df_small_LA.at[smi,\"reorg_nrj\"]\n",
    "        df_all_data.at[smi,\"HIA\"] = df_small_LA.at[smi,\"HIA\"]\n",
    "        try : \n",
    "            ki = df_global.at[smi,\"electronegativity\"]\n",
    "            hardness = df_global.at[smi,\"hardness\"]\n",
    "            gei = (ki**2)/(2*hardness)*27.2107\n",
    "            df_all_data.at[smi,\"GEI\"] = gei\n",
    "        except : \n",
    "            df_all_data.at[smi,\"GEI\"] = None"
   ]
  },
  {
   "cell_type": "code",
   "execution_count": 59,
   "id": "ad821596",
   "metadata": {},
   "outputs": [],
   "source": [
    "df_all_data.to_excel('../tables/data/all_available_metrics_various_boron_LA.xlsx')"
   ]
  }
 ],
 "metadata": {
  "kernelspec": {
   "display_name": "Python 3 (ipykernel)",
   "language": "python",
   "name": "python3"
  },
  "language_info": {
   "codemirror_mode": {
    "name": "ipython",
    "version": 3
   },
   "file_extension": ".py",
   "mimetype": "text/x-python",
   "name": "python",
   "nbconvert_exporter": "python",
   "pygments_lexer": "ipython3",
   "version": "3.10.9"
  }
 },
 "nbformat": 4,
 "nbformat_minor": 5
}
